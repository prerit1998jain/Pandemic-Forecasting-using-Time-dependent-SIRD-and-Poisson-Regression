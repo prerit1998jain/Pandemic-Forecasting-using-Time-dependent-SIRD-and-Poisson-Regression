{
 "cells": [
  {
   "cell_type": "markdown",
   "metadata": {},
   "source": [
    "# Model uses GMM to initialize the values for Poisson Mixture Model"
   ]
  },
  {
   "cell_type": "code",
   "execution_count": 12,
   "metadata": {},
   "outputs": [
    {
     "name": "stdout",
     "output_type": "stream",
     "text": [
      "The watermark extension is already loaded. To reload it, use:\n",
      "  %reload_ext watermark\n",
      "Sat Apr 18 2020 \n",
      "\n",
      "numpy 1.18.1\n",
      "scipy 1.4.1\n",
      "pomegranate 0.11.1\n",
      "\n",
      "compiler   : MSC v.1916 64 bit (AMD64)\n",
      "system     : Windows\n",
      "release    : 10\n",
      "machine    : AMD64\n",
      "processor  : Intel64 Family 6 Model 142 Stepping 9, GenuineIntel\n",
      "CPU cores  : 4\n",
      "interpreter: 64bit\n"
     ]
    }
   ],
   "source": [
    "%matplotlib inline\n",
    "import matplotlib.pyplot as plt\n",
    "import seaborn; seaborn.set_style('whitegrid')\n",
    "import numpy as np\n",
    "import pandas as pd\n",
    "from pomegranate import *\n",
    "from sklearn import mixture\n",
    "numpy.random.seed(42)\n",
    "numpy.set_printoptions(suppress=True)\n",
    "from scipy.stats import rankdata\n",
    "\n",
    "%load_ext watermark\n",
    "%watermark -m -n -p numpy,scipy,pomegranate"
   ]
  },
  {
   "cell_type": "markdown",
   "metadata": {},
   "source": [
    "Possion Data\n"
   ]
  },
  {
   "cell_type": "code",
   "execution_count": 13,
   "metadata": {
    "scrolled": true
   },
   "outputs": [
    {
     "data": {
      "text/html": [
       "<div>\n",
       "<style scoped>\n",
       "    .dataframe tbody tr th:only-of-type {\n",
       "        vertical-align: middle;\n",
       "    }\n",
       "\n",
       "    .dataframe tbody tr th {\n",
       "        vertical-align: top;\n",
       "    }\n",
       "\n",
       "    .dataframe thead th {\n",
       "        text-align: right;\n",
       "    }\n",
       "</style>\n",
       "<table border=\"1\" class=\"dataframe\">\n",
       "  <thead>\n",
       "    <tr style=\"text-align: right;\">\n",
       "      <th></th>\n",
       "      <th>dateRep</th>\n",
       "      <th>cum_day</th>\n",
       "      <th>day</th>\n",
       "      <th>month</th>\n",
       "      <th>year</th>\n",
       "      <th>cases</th>\n",
       "      <th>deaths</th>\n",
       "      <th>countriesAndTerritories</th>\n",
       "      <th>geoId</th>\n",
       "      <th>countryterritoryCode</th>\n",
       "      <th>popData2018</th>\n",
       "      <th>Daily  total tests</th>\n",
       "      <th>Daily change in cumulative total tests per thousand</th>\n",
       "      <th>Total tests per thousand</th>\n",
       "    </tr>\n",
       "  </thead>\n",
       "  <tbody>\n",
       "    <tr>\n",
       "      <th>0</th>\n",
       "      <td>31-12-2019</td>\n",
       "      <td>1</td>\n",
       "      <td>31</td>\n",
       "      <td>12</td>\n",
       "      <td>2019</td>\n",
       "      <td>0</td>\n",
       "      <td>0</td>\n",
       "      <td>Belgium</td>\n",
       "      <td>BE</td>\n",
       "      <td>BEL</td>\n",
       "      <td>11422068</td>\n",
       "      <td>0.0</td>\n",
       "      <td>0.0</td>\n",
       "      <td>0.0</td>\n",
       "    </tr>\n",
       "    <tr>\n",
       "      <th>1</th>\n",
       "      <td>01-01-2020</td>\n",
       "      <td>2</td>\n",
       "      <td>1</td>\n",
       "      <td>1</td>\n",
       "      <td>2020</td>\n",
       "      <td>0</td>\n",
       "      <td>0</td>\n",
       "      <td>Belgium</td>\n",
       "      <td>BE</td>\n",
       "      <td>BEL</td>\n",
       "      <td>11422068</td>\n",
       "      <td>0.0</td>\n",
       "      <td>0.0</td>\n",
       "      <td>0.0</td>\n",
       "    </tr>\n",
       "    <tr>\n",
       "      <th>2</th>\n",
       "      <td>02-01-2020</td>\n",
       "      <td>3</td>\n",
       "      <td>2</td>\n",
       "      <td>1</td>\n",
       "      <td>2020</td>\n",
       "      <td>0</td>\n",
       "      <td>0</td>\n",
       "      <td>Belgium</td>\n",
       "      <td>BE</td>\n",
       "      <td>BEL</td>\n",
       "      <td>11422068</td>\n",
       "      <td>0.0</td>\n",
       "      <td>0.0</td>\n",
       "      <td>0.0</td>\n",
       "    </tr>\n",
       "    <tr>\n",
       "      <th>3</th>\n",
       "      <td>03-01-2020</td>\n",
       "      <td>4</td>\n",
       "      <td>3</td>\n",
       "      <td>1</td>\n",
       "      <td>2020</td>\n",
       "      <td>0</td>\n",
       "      <td>0</td>\n",
       "      <td>Belgium</td>\n",
       "      <td>BE</td>\n",
       "      <td>BEL</td>\n",
       "      <td>11422068</td>\n",
       "      <td>0.0</td>\n",
       "      <td>0.0</td>\n",
       "      <td>0.0</td>\n",
       "    </tr>\n",
       "    <tr>\n",
       "      <th>4</th>\n",
       "      <td>04-01-2020</td>\n",
       "      <td>5</td>\n",
       "      <td>4</td>\n",
       "      <td>1</td>\n",
       "      <td>2020</td>\n",
       "      <td>0</td>\n",
       "      <td>0</td>\n",
       "      <td>Belgium</td>\n",
       "      <td>BE</td>\n",
       "      <td>BEL</td>\n",
       "      <td>11422068</td>\n",
       "      <td>0.0</td>\n",
       "      <td>0.0</td>\n",
       "      <td>0.0</td>\n",
       "    </tr>\n",
       "  </tbody>\n",
       "</table>\n",
       "</div>"
      ],
      "text/plain": [
       "      dateRep  cum_day  day  month  year  cases  deaths  \\\n",
       "0  31-12-2019        1   31     12  2019      0       0   \n",
       "1  01-01-2020        2    1      1  2020      0       0   \n",
       "2  02-01-2020        3    2      1  2020      0       0   \n",
       "3  03-01-2020        4    3      1  2020      0       0   \n",
       "4  04-01-2020        5    4      1  2020      0       0   \n",
       "\n",
       "  countriesAndTerritories geoId countryterritoryCode  popData2018  \\\n",
       "0                 Belgium    BE                  BEL     11422068   \n",
       "1                 Belgium    BE                  BEL     11422068   \n",
       "2                 Belgium    BE                  BEL     11422068   \n",
       "3                 Belgium    BE                  BEL     11422068   \n",
       "4                 Belgium    BE                  BEL     11422068   \n",
       "\n",
       "   Daily  total tests  Daily change in cumulative total tests per thousand  \\\n",
       "0                 0.0                                                0.0     \n",
       "1                 0.0                                                0.0     \n",
       "2                 0.0                                                0.0     \n",
       "3                 0.0                                                0.0     \n",
       "4                 0.0                                                0.0     \n",
       "\n",
       "   Total tests per thousand  \n",
       "0                       0.0  \n",
       "1                       0.0  \n",
       "2                       0.0  \n",
       "3                       0.0  \n",
       "4                       0.0  "
      ]
     },
     "execution_count": 13,
     "metadata": {},
     "output_type": "execute_result"
    }
   ],
   "source": [
    "df =  pd.read_csv(r'D:\\Studies\\Corona Research\\Country-wise_data_testing_information\\data.csv', encoding = 'utf8')\n",
    "df.head(5)"
   ]
  },
  {
   "cell_type": "code",
   "execution_count": 14,
   "metadata": {},
   "outputs": [
    {
     "data": {
      "text/plain": [
       "Index(['dateRep', 'cum_day', 'day', 'month', 'year', 'cases', 'deaths',\n",
       "       'countriesAndTerritories', 'geoId', 'countryterritoryCode',\n",
       "       'popData2018', 'Daily  total tests',\n",
       "       'Daily change in cumulative total tests per thousand',\n",
       "       'Total tests per thousand'],\n",
       "      dtype='object')"
      ]
     },
     "execution_count": 14,
     "metadata": {},
     "output_type": "execute_result"
    }
   ],
   "source": [
    "df.columns"
   ]
  },
  {
   "cell_type": "code",
   "execution_count": 15,
   "metadata": {},
   "outputs": [],
   "source": [
    "country_list = list(df['countriesAndTerritories'].unique())"
   ]
  },
  {
   "cell_type": "code",
   "execution_count": 24,
   "metadata": {},
   "outputs": [],
   "source": [
    "def generator(n_mixtures, country_list,dataframe):\n",
    "#     X = np.reshape(np.array(df[df['countriesAndTerritories']== 'country_list[_]'].cases),(-1,1))\n",
    "\n",
    "\n",
    "    iterations = len(country_list)\n",
    "#     iterations = 1\n",
    "    data_list = []\n",
    "    components = []\n",
    "    cum_stages = []\n",
    "    dicti = dict()\n",
    "    for j in range(iterations):\n",
    "        input_data =  np.reshape(np.array(df[df['countriesAndTerritories']== country_list[j]].cases),(-1,1))\n",
    "#         dates = np.reshape(np.array(df[df['countriesAndTerritories']== country_list[j]].dateRep),(-1,1))\n",
    "        dates = list(df[df['countriesAndTerritories']== country_list[j]].dateRep)\n",
    "        cum_days = list(df[df['countriesAndTerritories']== country_list[j]].cum_day)\n",
    "        gmm = mixture.GaussianMixture(n_components=n_mixtures,covariance_type='diag')\n",
    "        gmm.fit(input_data)\n",
    "        means=gmm.means_\n",
    "        d1 = PoissonDistribution(means[0])\n",
    "        d2 = PoissonDistribution(means[1])\n",
    "        d3 = PoissonDistribution(means[2])\n",
    "        d4 = PoissonDistribution(means[3])\n",
    "        model = GeneralMixtureModel([d1,d2,d3,d4])\n",
    "        model.fit(input_data)\n",
    "#         model = GeneralMixtureModel.from_samples(distribution, n_components=n_mixtures, X=input_data)\n",
    "        sequence = model.predict(input_data)\n",
    "        unique_elements, counts_elements = np.unique(sequence, return_counts=True)\n",
    "        model.clear_summaries()\n",
    "        para = []\n",
    "        for i in range(n_mixtures):\n",
    "            para.append(model.distributions[i].parameters)\n",
    "#for getting the stages based on the components             \n",
    "        \n",
    "        rank = rankdata(para, method='ordinal')\n",
    "        stages = []\n",
    "        for _ in range(len(sequence)):\n",
    "            if sequence[_]==0:\n",
    "                stages.append(rank[0])\n",
    "                continue\n",
    "            elif sequence[_]==1:\n",
    "                stages.append(rank[1])\n",
    "                continue\n",
    "            elif sequence[_]==2:\n",
    "                stages.append(rank[2])\n",
    "                continue\n",
    "            else:\n",
    "                stages.append(rank[3])\n",
    "        \n",
    "        data_list = [np.sort(para, axis = 0),list(zip(unique_elements,counts_elements)),list(zip(cum_days,list(stages)))]\n",
    "        dicti[country_list[j]] =data_list\n",
    "        components.extend(sequence)\n",
    "        cum_stages.extend(stages)\n",
    "    return dicti,cum_stages,components\n"
   ]
  },
  {
   "cell_type": "code",
   "execution_count": 25,
   "metadata": {},
   "outputs": [],
   "source": [
    "results, cumulative_stages,components = generator(4,country_list,df)  \n",
    "\n",
    "df['Stages']=cumulative_stages\n",
    "df['Components']=components"
   ]
  },
  {
   "cell_type": "code",
   "execution_count": 18,
   "metadata": {},
   "outputs": [
    {
     "data": {
      "text/html": [
       "<div>\n",
       "<style scoped>\n",
       "    .dataframe tbody tr th:only-of-type {\n",
       "        vertical-align: middle;\n",
       "    }\n",
       "\n",
       "    .dataframe tbody tr th {\n",
       "        vertical-align: top;\n",
       "    }\n",
       "\n",
       "    .dataframe thead th {\n",
       "        text-align: right;\n",
       "    }\n",
       "</style>\n",
       "<table border=\"1\" class=\"dataframe\">\n",
       "  <thead>\n",
       "    <tr style=\"text-align: right;\">\n",
       "      <th></th>\n",
       "      <th>dateRep</th>\n",
       "      <th>cum_day</th>\n",
       "      <th>day</th>\n",
       "      <th>month</th>\n",
       "      <th>year</th>\n",
       "      <th>cases</th>\n",
       "      <th>deaths</th>\n",
       "      <th>countriesAndTerritories</th>\n",
       "      <th>geoId</th>\n",
       "      <th>countryterritoryCode</th>\n",
       "      <th>popData2018</th>\n",
       "      <th>Daily  total tests</th>\n",
       "      <th>Daily change in cumulative total tests per thousand</th>\n",
       "      <th>Total tests per thousand</th>\n",
       "      <th>Stages</th>\n",
       "      <th>Components</th>\n",
       "    </tr>\n",
       "  </thead>\n",
       "  <tbody>\n",
       "    <tr>\n",
       "      <th>0</th>\n",
       "      <td>31-12-2019</td>\n",
       "      <td>1</td>\n",
       "      <td>31</td>\n",
       "      <td>12</td>\n",
       "      <td>2019</td>\n",
       "      <td>0</td>\n",
       "      <td>0</td>\n",
       "      <td>Belgium</td>\n",
       "      <td>BE</td>\n",
       "      <td>BEL</td>\n",
       "      <td>11422068</td>\n",
       "      <td>0.0</td>\n",
       "      <td>0.0</td>\n",
       "      <td>0.0</td>\n",
       "      <td>2</td>\n",
       "      <td>3</td>\n",
       "    </tr>\n",
       "    <tr>\n",
       "      <th>1</th>\n",
       "      <td>01-01-2020</td>\n",
       "      <td>2</td>\n",
       "      <td>1</td>\n",
       "      <td>1</td>\n",
       "      <td>2020</td>\n",
       "      <td>0</td>\n",
       "      <td>0</td>\n",
       "      <td>Belgium</td>\n",
       "      <td>BE</td>\n",
       "      <td>BEL</td>\n",
       "      <td>11422068</td>\n",
       "      <td>0.0</td>\n",
       "      <td>0.0</td>\n",
       "      <td>0.0</td>\n",
       "      <td>2</td>\n",
       "      <td>3</td>\n",
       "    </tr>\n",
       "    <tr>\n",
       "      <th>2</th>\n",
       "      <td>02-01-2020</td>\n",
       "      <td>3</td>\n",
       "      <td>2</td>\n",
       "      <td>1</td>\n",
       "      <td>2020</td>\n",
       "      <td>0</td>\n",
       "      <td>0</td>\n",
       "      <td>Belgium</td>\n",
       "      <td>BE</td>\n",
       "      <td>BEL</td>\n",
       "      <td>11422068</td>\n",
       "      <td>0.0</td>\n",
       "      <td>0.0</td>\n",
       "      <td>0.0</td>\n",
       "      <td>2</td>\n",
       "      <td>3</td>\n",
       "    </tr>\n",
       "    <tr>\n",
       "      <th>3</th>\n",
       "      <td>03-01-2020</td>\n",
       "      <td>4</td>\n",
       "      <td>3</td>\n",
       "      <td>1</td>\n",
       "      <td>2020</td>\n",
       "      <td>0</td>\n",
       "      <td>0</td>\n",
       "      <td>Belgium</td>\n",
       "      <td>BE</td>\n",
       "      <td>BEL</td>\n",
       "      <td>11422068</td>\n",
       "      <td>0.0</td>\n",
       "      <td>0.0</td>\n",
       "      <td>0.0</td>\n",
       "      <td>2</td>\n",
       "      <td>3</td>\n",
       "    </tr>\n",
       "    <tr>\n",
       "      <th>4</th>\n",
       "      <td>04-01-2020</td>\n",
       "      <td>5</td>\n",
       "      <td>4</td>\n",
       "      <td>1</td>\n",
       "      <td>2020</td>\n",
       "      <td>0</td>\n",
       "      <td>0</td>\n",
       "      <td>Belgium</td>\n",
       "      <td>BE</td>\n",
       "      <td>BEL</td>\n",
       "      <td>11422068</td>\n",
       "      <td>0.0</td>\n",
       "      <td>0.0</td>\n",
       "      <td>0.0</td>\n",
       "      <td>2</td>\n",
       "      <td>3</td>\n",
       "    </tr>\n",
       "  </tbody>\n",
       "</table>\n",
       "</div>"
      ],
      "text/plain": [
       "      dateRep  cum_day  day  month  year  cases  deaths  \\\n",
       "0  31-12-2019        1   31     12  2019      0       0   \n",
       "1  01-01-2020        2    1      1  2020      0       0   \n",
       "2  02-01-2020        3    2      1  2020      0       0   \n",
       "3  03-01-2020        4    3      1  2020      0       0   \n",
       "4  04-01-2020        5    4      1  2020      0       0   \n",
       "\n",
       "  countriesAndTerritories geoId countryterritoryCode  popData2018  \\\n",
       "0                 Belgium    BE                  BEL     11422068   \n",
       "1                 Belgium    BE                  BEL     11422068   \n",
       "2                 Belgium    BE                  BEL     11422068   \n",
       "3                 Belgium    BE                  BEL     11422068   \n",
       "4                 Belgium    BE                  BEL     11422068   \n",
       "\n",
       "   Daily  total tests  Daily change in cumulative total tests per thousand  \\\n",
       "0                 0.0                                                0.0     \n",
       "1                 0.0                                                0.0     \n",
       "2                 0.0                                                0.0     \n",
       "3                 0.0                                                0.0     \n",
       "4                 0.0                                                0.0     \n",
       "\n",
       "   Total tests per thousand  Stages  Components  \n",
       "0                       0.0       2           3  \n",
       "1                       0.0       2           3  \n",
       "2                       0.0       2           3  \n",
       "3                       0.0       2           3  \n",
       "4                       0.0       2           3  "
      ]
     },
     "execution_count": 18,
     "metadata": {},
     "output_type": "execute_result"
    }
   ],
   "source": [
    "df.head()"
   ]
  },
  {
   "cell_type": "markdown",
   "metadata": {},
   "source": [
    "### Just need to give the name of the country as input and it will display the corresponding results. The result consists of the array of parameters, pair of the component and its count, the array of the predicted values."
   ]
  },
  {
   "cell_type": "code",
   "execution_count": 19,
   "metadata": {},
   "outputs": [
    {
     "data": {
      "text/plain": [
       "['Belgium',\n",
       " 'France',\n",
       " 'India',\n",
       " 'Italy',\n",
       " 'South_Korea',\n",
       " 'United_Kingdom',\n",
       " 'United_States_of_America']"
      ]
     },
     "execution_count": 19,
     "metadata": {},
     "output_type": "execute_result"
    }
   ],
   "source": [
    "country_list"
   ]
  },
  {
   "cell_type": "code",
   "execution_count": 20,
   "metadata": {},
   "outputs": [],
   "source": [
    "def plot_results(country):\n",
    "    plt.figure(figsize=(16,4))\n",
    "    plt.scatter(df[df['countriesAndTerritories']==country].cum_day,df[df['countriesAndTerritories']==country].cases,\n",
    "            c=df[df['countriesAndTerritories']==country].Stages)\n",
    "    plt.title('Scatter plot of Components') #to undestand the number of components which can be used\n",
    "    plt.xlabel('Day')\n",
    "    plt.ylabel('Stages')\n",
    "    plt.colorbar()\n",
    "    plt.show()"
   ]
  },
  {
   "cell_type": "code",
   "execution_count": 21,
   "metadata": {},
   "outputs": [
    {
     "data": {
      "image/png": "[encoded data removed]",
      "text/plain": [
       "<Figure size 1152x288 with 2 Axes>"
      ]
     },
     "metadata": {},
     "output_type": "display_data"
    }
   ],
   "source": [
    "plot_results('United_States_of_America')"
   ]
  },
  {
   "cell_type": "code",
   "execution_count": 22,
   "metadata": {},
   "outputs": [],
   "source": [
    "def clustervsstages(country):\n",
    "    plt.figure(figsize=(16,4))\n",
    "    plt.scatter(df[df['countriesAndTerritories']==country].cum_day,df[df['countriesAndTerritories']==country].Stages,\n",
    "            c=df[df['countriesAndTerritories']==country].Stages)\n",
    "    plt.title('Scatter plot of Components') #to undestand the number of components which can be used\n",
    "    plt.xlabel('Day')\n",
    "    plt.ylabel('Stages')\n",
    "    plt.colorbar()\n",
    "    plt.show()"
   ]
  },
  {
   "cell_type": "code",
   "execution_count": 23,
   "metadata": {},
   "outputs": [
    {
     "data": {
      "image/png": "[encoded data removed]",
      "text/plain": [
       "<Figure size 1152x288 with 2 Axes>"
      ]
     },
     "metadata": {},
     "output_type": "display_data"
    }
   ],
   "source": [
    "clustervsstages('United_States_of_America')"
   ]
  },
  {
   "cell_type": "markdown",
   "metadata": {},
   "source": [
    "# Miscellaneous"
   ]
  },
  {
   "cell_type": "code",
   "execution_count": null,
   "metadata": {},
   "outputs": [],
   "source": [
    "# df_china = df[df.Country=='CN']\n",
    "# china_counts = np.reshape(np.array(df_china.Confirmed),(-1,1))"
   ]
  },
  {
   "cell_type": "code",
   "execution_count": null,
   "metadata": {},
   "outputs": [],
   "source": [
    "# plt.figure(figsize=(20,10))\n",
    "# plt.hist(china_counts, bins='auto')\n",
    "# plt.show()"
   ]
  },
  {
   "cell_type": "code",
   "execution_count": null,
   "metadata": {},
   "outputs": [],
   "source": [
    "# df_china.head(5)"
   ]
  },
  {
   "cell_type": "code",
   "execution_count": null,
   "metadata": {},
   "outputs": [],
   "source": [
    "# plt.figure(figsize=(20,10))\n",
    "# plt.scatter(df_china.day,df_china.Confirmed)\n",
    "# plt.title('Scatter plot of number of confirmed cases') #to undestand the number of components which can be used\n",
    "# plt.xlabel('Date')\n",
    "# plt.ylabel('Counts')\n",
    "# plt.show()"
   ]
  },
  {
   "cell_type": "code",
   "execution_count": null,
   "metadata": {
    "scrolled": true
   },
   "outputs": [],
   "source": [
    "# plt.figure(figsize=(20,10))\n",
    "# plt.scatter(df_china.day,df_china['Cumulative Confirmed'])\n",
    "# plt.title('Scatter plot of number of Cumulative confirmed cases') #to undestand the number of components which can be used\n",
    "# plt.xlabel('Date')\n",
    "# plt.ylabel('Counts')\n",
    "# plt.show()"
   ]
  },
  {
   "cell_type": "code",
   "execution_count": null,
   "metadata": {},
   "outputs": [],
   "source": [
    "# plt.figure(figsize=(20,10))\n",
    "# plt.scatter(df.day,df.Confirmed)\n",
    "# plt.title('Scatter plot of number of confirmed cases for wholw world') #to undestand the number of components which can be used\n",
    "# plt.xlabel('Date')\n",
    "# plt.ylabel('Counts')\n",
    "# plt.show()"
   ]
  },
  {
   "cell_type": "code",
   "execution_count": null,
   "metadata": {},
   "outputs": [],
   "source": [
    "# plt.figure(figsize=(20,10))\n",
    "# plt.scatter(df.day,df['Cumulative Confirmed'])\n",
    "# plt.title('Scatter plot of number of the whole world Cumulative confirmed cases') #to undestand the number of components which can be used\n",
    "# plt.xlabel('Date')\n",
    "# plt.ylabel('Counts')\n",
    "# plt.show()"
   ]
  },
  {
   "cell_type": "code",
   "execution_count": null,
   "metadata": {},
   "outputs": [],
   "source": [
    "# #removing abnormalities\n",
    "# df_china.drop(df_china[df_china['Confirmed']==15152].index,inplace=True)"
   ]
  },
  {
   "cell_type": "markdown",
   "metadata": {},
   "source": [
    "Model for China data with further parameter tuning"
   ]
  },
  {
   "cell_type": "code",
   "execution_count": null,
   "metadata": {},
   "outputs": [],
   "source": [
    "# model = GeneralMixtureModel.from_samples(PoissonDistribution, n_components=4, X=china_counts)"
   ]
  },
  {
   "cell_type": "code",
   "execution_count": null,
   "metadata": {},
   "outputs": [],
   "source": [
    "# model.distributions[2].parameters\n",
    "# model.distributions"
   ]
  },
  {
   "cell_type": "code",
   "execution_count": null,
   "metadata": {},
   "outputs": [],
   "source": [
    "# model.clear_summaries()"
   ]
  },
  {
   "cell_type": "code",
   "execution_count": null,
   "metadata": {},
   "outputs": [],
   "source": [
    "# model.summarize(china_counts)"
   ]
  },
  {
   "cell_type": "code",
   "execution_count": null,
   "metadata": {},
   "outputs": [],
   "source": [
    "# components = model.predict(china_counts)"
   ]
  },
  {
   "cell_type": "code",
   "execution_count": null,
   "metadata": {},
   "outputs": [],
   "source": [
    "# unique_elements, counts_elements = np.unique(components, return_counts=True)\n",
    "# counts_elements"
   ]
  },
  {
   "cell_type": "markdown",
   "metadata": {},
   "source": [
    "Model for total dataset for poisson distribution"
   ]
  },
  {
   "cell_type": "code",
   "execution_count": null,
   "metadata": {},
   "outputs": [],
   "source": [
    "\n",
    "# #For total dataset\n",
    "# model1 = GeneralMixtureModel.from_samples(PoissonDistribution, n_components=3, X=np.reshape(np.array(df['Confirmed']),(-1,1)))\n",
    "# model1.distributions\n",
    "# model1.clear_summaries()"
   ]
  },
  {
   "cell_type": "code",
   "execution_count": null,
   "metadata": {},
   "outputs": [],
   "source": [
    "# components1 = model1.predict(np.reshape(np.array(df['Confirmed']),(-1,1)))"
   ]
  },
  {
   "cell_type": "code",
   "execution_count": null,
   "metadata": {},
   "outputs": [],
   "source": [
    "# unique_elements1, counts_elements1 = np.unique(components1, return_counts=True)"
   ]
  },
  {
   "cell_type": "code",
   "execution_count": null,
   "metadata": {},
   "outputs": [],
   "source": [
    "# counts_elements1"
   ]
  },
  {
   "cell_type": "code",
   "execution_count": null,
   "metadata": {},
   "outputs": [],
   "source": [
    "# model1.clear_summaries()"
   ]
  },
  {
   "cell_type": "markdown",
   "metadata": {},
   "source": [
    "Model for China considering Normal Distribution"
   ]
  },
  {
   "cell_type": "code",
   "execution_count": null,
   "metadata": {},
   "outputs": [],
   "source": [
    "# model2 = GeneralMixtureModel.from_samples(NormalDistribution, n_components=2, X=china_counts)\n",
    "# model2.distributions"
   ]
  },
  {
   "cell_type": "code",
   "execution_count": null,
   "metadata": {},
   "outputs": [],
   "source": [
    "# components2 = model2.predict(china_counts)\n",
    "# unique_elements2, counts_elements2 = np.unique(components2, return_counts=True)\n",
    "# counts_elements2"
   ]
  },
  {
   "cell_type": "code",
   "execution_count": null,
   "metadata": {},
   "outputs": [],
   "source": [
    "# model2.clear_summaries()"
   ]
  },
  {
   "cell_type": "code",
   "execution_count": null,
   "metadata": {},
   "outputs": [],
   "source": [
    "# Model for whole dataset considering Normal Distribution\n",
    "\n",
    "# ip = np.reshape(np.array(df[df['countriesAndTerritories']== 'United_States_of_America'].cases),(-1,1))\n",
    "# d1 = PoissonDistribution(a[0])\n",
    "# d2 = PoissonDistribution(a[1])\n",
    "# d3 = PoissonDistribution(a[2])\n",
    "# d4 = PoissonDistribution(a[3])\n",
    "# model = GeneralMixtureModel([d1,d2,d3,d4])"
   ]
  },
  {
   "cell_type": "code",
   "execution_count": null,
   "metadata": {},
   "outputs": [],
   "source": [
    "# country_list[0]"
   ]
  },
  {
   "cell_type": "code",
   "execution_count": null,
   "metadata": {
    "scrolled": true
   },
   "outputs": [],
   "source": [
    "# model.fit(ip)\n",
    "# model.distributions\n",
    "# model.predict(ip)"
   ]
  },
  {
   "cell_type": "code",
   "execution_count": null,
   "metadata": {},
   "outputs": [],
   "source": [
    "# ip = np.reshape(np.array(df[df['Country Name']== 'United States of America'].Confirmed),(-1,1))"
   ]
  },
  {
   "cell_type": "code",
   "execution_count": null,
   "metadata": {},
   "outputs": [],
   "source": [
    "# X = np.reshape(np.array(df[df['countriesAndTerritories']== 'United_States_of_America'].cases),(-1,1))\n",
    "# gmm = mixture.GaussianMixture(n_components=4,covariance_type='diag')\n",
    "# gmm.fit(X)\n",
    "# a=gmm.means_"
   ]
  },
  {
   "cell_type": "code",
   "execution_count": null,
   "metadata": {},
   "outputs": [],
   "source": [
    "# np.array(df[df['countriesAndTerritories']==b[0]].cases)"
   ]
  }
 ],
 "metadata": {
  "kernelspec": {
   "display_name": "Python 3",
   "language": "python",
   "name": "python3"
  },
  "language_info": {
   "codemirror_mode": {
    "name": "ipython",
    "version": 3
   },
   "file_extension": ".py",
   "mimetype": "text/x-python",
   "name": "python",
   "nbconvert_exporter": "python",
   "pygments_lexer": "ipython3",
   "version": "3.7.6"
  }
 },
 "nbformat": 4,
 "nbformat_minor": 4
}
