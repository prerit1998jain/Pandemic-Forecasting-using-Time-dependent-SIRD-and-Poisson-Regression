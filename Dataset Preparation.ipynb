{
 "cells": [
  {
   "cell_type": "code",
   "execution_count": 1,
   "metadata": {},
   "outputs": [],
   "source": [
    "# Importing Packages\n",
    "\n",
    "import pandas as pd\n",
    "from patsy import dmatrices\n",
    "import numpy as np\n",
    "import statsmodels.api as sm\n",
    "import matplotlib.pyplot as plt\n",
    "import seaborn as sn"
   ]
  },
  {
   "cell_type": "code",
   "execution_count": 2,
   "metadata": {},
   "outputs": [],
   "source": [
    "# Reading the dataset\n",
    "data_tests = pd.read_csv('Country-wise_data_testing_information/2nd May/Switzerland_data.csv')\n",
    "data_policy = pd.read_csv('Cases_and_policies_Country_wise/2nd May/Switzerland_Covid_Policies.csv')"
   ]
  },
  {
   "cell_type": "code",
   "execution_count": 3,
   "metadata": {
    "scrolled": false
   },
   "outputs": [
    {
     "name": "stdout",
     "output_type": "stream",
     "text": [
      "<class 'pandas.core.frame.DataFrame'>\n",
      "RangeIndex: 124 entries, 0 to 123\n",
      "Data columns (total 7 columns):\n",
      "date            124 non-null object\n",
      "location        124 non-null object\n",
      "new_cases       124 non-null int64\n",
      "new_deaths      124 non-null int64\n",
      "total_cases     124 non-null int64\n",
      "total_deaths    124 non-null int64\n",
      "total_tests     98 non-null float64\n",
      "dtypes: float64(1), int64(4), object(2)\n",
      "memory usage: 6.9+ KB\n"
     ]
    }
   ],
   "source": [
    "data_tests.info()"
   ]
  },
  {
   "cell_type": "code",
   "execution_count": 4,
   "metadata": {
    "scrolled": true
   },
   "outputs": [
    {
     "name": "stdout",
     "output_type": "stream",
     "text": [
      "<class 'pandas.core.frame.DataFrame'>\n",
      "RangeIndex: 124 entries, 0 to 123\n",
      "Data columns (total 14 columns):\n",
      "Unnamed: 0                       124 non-null int64\n",
      "date                             124 non-null object\n",
      "location                         124 non-null object\n",
      "new_cases                        124 non-null int64\n",
      "new_deaths                       124 non-null int64\n",
      "total_cases                      124 non-null int64\n",
      "total_deaths                     124 non-null int64\n",
      "Date                             124 non-null object\n",
      "Lockdown                         124 non-null float64\n",
      "Public_Health                    124 non-null float64\n",
      "Governance_and_socio-economic    124 non-null float64\n",
      "Humanitarian_exemption           124 non-null float64\n",
      "Social_distancing                124 non-null float64\n",
      "Movement_restrictions            124 non-null float64\n",
      "dtypes: float64(6), int64(5), object(3)\n",
      "memory usage: 13.6+ KB\n"
     ]
    }
   ],
   "source": [
    "data_policy.info()"
   ]
  },
  {
   "cell_type": "code",
   "execution_count": 5,
   "metadata": {},
   "outputs": [],
   "source": [
    "# Converting the datatype of dates to datetime\n",
    "dates = pd.to_datetime(data_policy['date'], format = '%Y-%m-%d')\n",
    "# Adding dates to the dataframe\n",
    "data_policy['Date'] = dates\n",
    "\n",
    "# Reading the dataset\n",
    "#data = pd.read_csv('Country-wise_data_testing_information/Switzerland_data.csv')\n",
    "\n",
    "# Converting the datatype of dates to datetime\n",
    "dates = pd.to_datetime(data_tests['date'], format = '%Y-%m-%d')\n",
    "\n",
    "# Adding dates to the dataframe\n",
    "data_tests['Date'] = dates\n",
    "\n",
    "# Removing the original object datatype\n",
    "# data = data.drop(labels = ['day'], axis = 1)"
   ]
  },
  {
   "cell_type": "code",
   "execution_count": 6,
   "metadata": {
    "scrolled": true
   },
   "outputs": [
    {
     "name": "stdout",
     "output_type": "stream",
     "text": [
      "<class 'pandas.core.frame.DataFrame'>\n",
      "RangeIndex: 124 entries, 0 to 123\n",
      "Data columns (total 8 columns):\n",
      "date            124 non-null object\n",
      "location        124 non-null object\n",
      "new_cases       124 non-null int64\n",
      "new_deaths      124 non-null int64\n",
      "total_cases     124 non-null int64\n",
      "total_deaths    124 non-null int64\n",
      "total_tests     98 non-null float64\n",
      "Date            124 non-null datetime64[ns]\n",
      "dtypes: datetime64[ns](1), float64(1), int64(4), object(2)\n",
      "memory usage: 7.8+ KB\n"
     ]
    }
   ],
   "source": [
    "data_tests.info()"
   ]
  },
  {
   "cell_type": "code",
   "execution_count": 7,
   "metadata": {
    "scrolled": true
   },
   "outputs": [
    {
     "name": "stdout",
     "output_type": "stream",
     "text": [
      "<class 'pandas.core.frame.DataFrame'>\n",
      "RangeIndex: 124 entries, 0 to 123\n",
      "Data columns (total 14 columns):\n",
      "Unnamed: 0                       124 non-null int64\n",
      "date                             124 non-null object\n",
      "location                         124 non-null object\n",
      "new_cases                        124 non-null int64\n",
      "new_deaths                       124 non-null int64\n",
      "total_cases                      124 non-null int64\n",
      "total_deaths                     124 non-null int64\n",
      "Date                             124 non-null datetime64[ns]\n",
      "Lockdown                         124 non-null float64\n",
      "Public_Health                    124 non-null float64\n",
      "Governance_and_socio-economic    124 non-null float64\n",
      "Humanitarian_exemption           124 non-null float64\n",
      "Social_distancing                124 non-null float64\n",
      "Movement_restrictions            124 non-null float64\n",
      "dtypes: datetime64[ns](1), float64(6), int64(5), object(2)\n",
      "memory usage: 13.6+ KB\n"
     ]
    }
   ],
   "source": [
    "data_policy.info()"
   ]
  },
  {
   "cell_type": "code",
   "execution_count": 8,
   "metadata": {},
   "outputs": [],
   "source": [
    "# Dataset Preprocessing before running the model\n",
    "def dataset_preprocess_policy(df):\n",
    "    \n",
    "    # Setting date as the index of the dataframe\n",
    "    df = df.set_index('Date')\n",
    "    \n",
    "    #Creating different columns with regressor variables\n",
    "    ds = df.index.to_series()\n",
    "    df['Day'] = ds.dt.day\n",
    "    df['Month'] = ds.dt.month\n",
    "    df['Weekday'] = ds.dt.dayofweek\n",
    "    df['Year'] = ds.dt.year\n",
    "    \n",
    "    # Dropping the text columns which have same entries at each row\n",
    "    #df = df.drop(['Country', 'day', 'Country Name', 'Region','Unnamed: 0', ], axis = 1)\n",
    "    df = df.drop(['Unnamed: 0','date','location','new_cases', 'new_deaths','total_cases','total_deaths'], axis = 1)\n",
    "    df = df.drop(df.index[len(df)-1])\n",
    "    \n",
    "    #return the dataframe\n",
    "    return(df)"
   ]
  },
  {
   "cell_type": "code",
   "execution_count": 9,
   "metadata": {},
   "outputs": [],
   "source": [
    "# Dataset Preprocessing before running the model\n",
    "def dataset_preprocess_tests(df):\n",
    "    \n",
    "    # Setting date as the index of the dataframe\n",
    "    df = df.set_index('Date')\n",
    "    \n",
    "    #Creating different columns with regressor variables\n",
    "#     ds = df.index.to_series()\n",
    "#     df['Day'] = ds.dt.day\n",
    "#     df['Month'] = ds.dt.month\n",
    "#     df['Weekday'] = ds.dt.dayofweek\n",
    "#     df['Year'] = ds.dt.year\n",
    "    \n",
    "    # Dropping the text columns which have same entries at each row\n",
    "    df = df.drop(['date'], axis = 1)\n",
    "#     df = df.drop([ 'countriesAndTerritories','geoId', 'dateRep', 'countryterritoryCode', 'cases', 'deaths'], axis = 1)\n",
    "    #df = df.drop(df.index[len(df)-1])\n",
    "    \n",
    "    #return the dataframe\n",
    "    return(df)"
   ]
  },
  {
   "cell_type": "code",
   "execution_count": 10,
   "metadata": {},
   "outputs": [],
   "source": [
    "data_policy = dataset_preprocess_policy(data_policy)\n",
    "data_tests = dataset_preprocess_tests(data_tests)"
   ]
  },
  {
   "cell_type": "code",
   "execution_count": 11,
   "metadata": {},
   "outputs": [],
   "source": [
    "merge = pd.merge(data_tests,data_policy, how='inner', left_index=True, right_index=True)"
   ]
  },
  {
   "cell_type": "code",
   "execution_count": 12,
   "metadata": {},
   "outputs": [],
   "source": [
    "merge_updated = merge[merge['total_cases']>30]"
   ]
  },
  {
   "cell_type": "code",
   "execution_count": 13,
   "metadata": {
    "scrolled": true
   },
   "outputs": [
    {
     "name": "stdout",
     "output_type": "stream",
     "text": [
      "<class 'pandas.core.frame.DataFrame'>\n",
      "DatetimeIndex: 59 entries, 2020-03-04 to 2020-05-01\n",
      "Data columns (total 16 columns):\n",
      "location                         59 non-null object\n",
      "new_cases                        59 non-null int64\n",
      "new_deaths                       59 non-null int64\n",
      "total_cases                      59 non-null int64\n",
      "total_deaths                     59 non-null int64\n",
      "total_tests                      59 non-null float64\n",
      "Lockdown                         59 non-null float64\n",
      "Public_Health                    59 non-null float64\n",
      "Governance_and_socio-economic    59 non-null float64\n",
      "Humanitarian_exemption           59 non-null float64\n",
      "Social_distancing                59 non-null float64\n",
      "Movement_restrictions            59 non-null float64\n",
      "Day                              59 non-null int64\n",
      "Month                            59 non-null int64\n",
      "Weekday                          59 non-null int64\n",
      "Year                             59 non-null int64\n",
      "dtypes: float64(7), int64(8), object(1)\n",
      "memory usage: 7.8+ KB\n"
     ]
    }
   ],
   "source": [
    "merge_updated.info()"
   ]
  },
  {
   "cell_type": "code",
   "execution_count": 14,
   "metadata": {
    "scrolled": false
   },
   "outputs": [],
   "source": [
    "merge_updated = merge_updated.reset_index()"
   ]
  },
  {
   "cell_type": "code",
   "execution_count": 15,
   "metadata": {},
   "outputs": [
    {
     "data": {
      "text/plain": [
       "59"
      ]
     },
     "execution_count": 15,
     "metadata": {},
     "output_type": "execute_result"
    }
   ],
   "source": [
    "len(merge_updated)"
   ]
  },
  {
   "cell_type": "code",
   "execution_count": 16,
   "metadata": {},
   "outputs": [],
   "source": [
    "Days_since_start = np.arange(1,len(merge_updated)+1)\n",
    "merge_updated['days_completed'] = Days_since_start"
   ]
  },
  {
   "cell_type": "code",
   "execution_count": 17,
   "metadata": {
    "scrolled": true
   },
   "outputs": [
    {
     "name": "stdout",
     "output_type": "stream",
     "text": [
      "<class 'pandas.core.frame.DataFrame'>\n",
      "RangeIndex: 59 entries, 0 to 58\n",
      "Data columns (total 18 columns):\n",
      "Date                             59 non-null datetime64[ns]\n",
      "location                         59 non-null object\n",
      "new_cases                        59 non-null int64\n",
      "new_deaths                       59 non-null int64\n",
      "total_cases                      59 non-null int64\n",
      "total_deaths                     59 non-null int64\n",
      "total_tests                      59 non-null float64\n",
      "Lockdown                         59 non-null float64\n",
      "Public_Health                    59 non-null float64\n",
      "Governance_and_socio-economic    59 non-null float64\n",
      "Humanitarian_exemption           59 non-null float64\n",
      "Social_distancing                59 non-null float64\n",
      "Movement_restrictions            59 non-null float64\n",
      "Day                              59 non-null int64\n",
      "Month                            59 non-null int64\n",
      "Weekday                          59 non-null int64\n",
      "Year                             59 non-null int64\n",
      "days_completed                   59 non-null int64\n",
      "dtypes: datetime64[ns](1), float64(7), int64(9), object(1)\n",
      "memory usage: 8.4+ KB\n"
     ]
    }
   ],
   "source": [
    "merge_updated.info()"
   ]
  },
  {
   "cell_type": "code",
   "execution_count": 18,
   "metadata": {},
   "outputs": [
    {
     "data": {
      "text/html": [
       "<div>\n",
       "<style scoped>\n",
       "    .dataframe tbody tr th:only-of-type {\n",
       "        vertical-align: middle;\n",
       "    }\n",
       "\n",
       "    .dataframe tbody tr th {\n",
       "        vertical-align: top;\n",
       "    }\n",
       "\n",
       "    .dataframe thead th {\n",
       "        text-align: right;\n",
       "    }\n",
       "</style>\n",
       "<table border=\"1\" class=\"dataframe\">\n",
       "  <thead>\n",
       "    <tr style=\"text-align: right;\">\n",
       "      <th></th>\n",
       "      <th>Date</th>\n",
       "      <th>location</th>\n",
       "      <th>new_cases</th>\n",
       "      <th>new_deaths</th>\n",
       "      <th>total_cases</th>\n",
       "      <th>total_deaths</th>\n",
       "      <th>total_tests</th>\n",
       "      <th>Lockdown</th>\n",
       "      <th>Public_Health</th>\n",
       "      <th>Governance_and_socio-economic</th>\n",
       "      <th>Humanitarian_exemption</th>\n",
       "      <th>Social_distancing</th>\n",
       "      <th>Movement_restrictions</th>\n",
       "      <th>Day</th>\n",
       "      <th>Month</th>\n",
       "      <th>Weekday</th>\n",
       "      <th>Year</th>\n",
       "      <th>days_completed</th>\n",
       "    </tr>\n",
       "  </thead>\n",
       "  <tbody>\n",
       "    <tr>\n",
       "      <th>0</th>\n",
       "      <td>2020-03-04</td>\n",
       "      <td>Switzerland</td>\n",
       "      <td>7</td>\n",
       "      <td>0</td>\n",
       "      <td>37</td>\n",
       "      <td>0</td>\n",
       "      <td>966.0</td>\n",
       "      <td>0.0</td>\n",
       "      <td>4.0</td>\n",
       "      <td>0.0</td>\n",
       "      <td>0.0</td>\n",
       "      <td>6.0</td>\n",
       "      <td>42.0</td>\n",
       "      <td>4</td>\n",
       "      <td>3</td>\n",
       "      <td>2</td>\n",
       "      <td>2020</td>\n",
       "      <td>1</td>\n",
       "    </tr>\n",
       "    <tr>\n",
       "      <th>1</th>\n",
       "      <td>2020-03-05</td>\n",
       "      <td>Switzerland</td>\n",
       "      <td>20</td>\n",
       "      <td>0</td>\n",
       "      <td>57</td>\n",
       "      <td>0</td>\n",
       "      <td>731.0</td>\n",
       "      <td>0.0</td>\n",
       "      <td>5.0</td>\n",
       "      <td>0.0</td>\n",
       "      <td>0.0</td>\n",
       "      <td>7.0</td>\n",
       "      <td>44.0</td>\n",
       "      <td>5</td>\n",
       "      <td>3</td>\n",
       "      <td>3</td>\n",
       "      <td>2020</td>\n",
       "      <td>2</td>\n",
       "    </tr>\n",
       "    <tr>\n",
       "      <th>2</th>\n",
       "      <td>2020-03-06</td>\n",
       "      <td>Switzerland</td>\n",
       "      <td>30</td>\n",
       "      <td>1</td>\n",
       "      <td>87</td>\n",
       "      <td>1</td>\n",
       "      <td>734.0</td>\n",
       "      <td>0.0</td>\n",
       "      <td>6.0</td>\n",
       "      <td>1.0</td>\n",
       "      <td>0.0</td>\n",
       "      <td>8.0</td>\n",
       "      <td>46.0</td>\n",
       "      <td>6</td>\n",
       "      <td>3</td>\n",
       "      <td>4</td>\n",
       "      <td>2020</td>\n",
       "      <td>3</td>\n",
       "    </tr>\n",
       "    <tr>\n",
       "      <th>3</th>\n",
       "      <td>2020-03-07</td>\n",
       "      <td>Switzerland</td>\n",
       "      <td>122</td>\n",
       "      <td>0</td>\n",
       "      <td>209</td>\n",
       "      <td>1</td>\n",
       "      <td>1577.0</td>\n",
       "      <td>0.0</td>\n",
       "      <td>8.0</td>\n",
       "      <td>2.0</td>\n",
       "      <td>0.0</td>\n",
       "      <td>9.0</td>\n",
       "      <td>48.0</td>\n",
       "      <td>7</td>\n",
       "      <td>3</td>\n",
       "      <td>5</td>\n",
       "      <td>2020</td>\n",
       "      <td>4</td>\n",
       "    </tr>\n",
       "    <tr>\n",
       "      <th>4</th>\n",
       "      <td>2020-03-08</td>\n",
       "      <td>Switzerland</td>\n",
       "      <td>55</td>\n",
       "      <td>0</td>\n",
       "      <td>264</td>\n",
       "      <td>1</td>\n",
       "      <td>2104.0</td>\n",
       "      <td>0.0</td>\n",
       "      <td>10.0</td>\n",
       "      <td>3.0</td>\n",
       "      <td>0.0</td>\n",
       "      <td>10.0</td>\n",
       "      <td>50.0</td>\n",
       "      <td>8</td>\n",
       "      <td>3</td>\n",
       "      <td>6</td>\n",
       "      <td>2020</td>\n",
       "      <td>5</td>\n",
       "    </tr>\n",
       "  </tbody>\n",
       "</table>\n",
       "</div>"
      ],
      "text/plain": [
       "        Date     location  new_cases  new_deaths  total_cases  total_deaths  \\\n",
       "0 2020-03-04  Switzerland          7           0           37             0   \n",
       "1 2020-03-05  Switzerland         20           0           57             0   \n",
       "2 2020-03-06  Switzerland         30           1           87             1   \n",
       "3 2020-03-07  Switzerland        122           0          209             1   \n",
       "4 2020-03-08  Switzerland         55           0          264             1   \n",
       "\n",
       "   total_tests  Lockdown  Public_Health  Governance_and_socio-economic  \\\n",
       "0        966.0       0.0            4.0                            0.0   \n",
       "1        731.0       0.0            5.0                            0.0   \n",
       "2        734.0       0.0            6.0                            1.0   \n",
       "3       1577.0       0.0            8.0                            2.0   \n",
       "4       2104.0       0.0           10.0                            3.0   \n",
       "\n",
       "   Humanitarian_exemption  Social_distancing  Movement_restrictions  Day  \\\n",
       "0                     0.0                6.0                   42.0    4   \n",
       "1                     0.0                7.0                   44.0    5   \n",
       "2                     0.0                8.0                   46.0    6   \n",
       "3                     0.0                9.0                   48.0    7   \n",
       "4                     0.0               10.0                   50.0    8   \n",
       "\n",
       "   Month  Weekday  Year  days_completed  \n",
       "0      3        2  2020               1  \n",
       "1      3        3  2020               2  \n",
       "2      3        4  2020               3  \n",
       "3      3        5  2020               4  \n",
       "4      3        6  2020               5  "
      ]
     },
     "execution_count": 18,
     "metadata": {},
     "output_type": "execute_result"
    }
   ],
   "source": [
    "merge_updated.head()"
   ]
  },
  {
   "cell_type": "code",
   "execution_count": 19,
   "metadata": {
    "scrolled": false
   },
   "outputs": [],
   "source": [
    "merge_updated.to_csv('Data/2nd May/Switzerland_Covid.csv')"
   ]
  },
  {
   "cell_type": "code",
   "execution_count": 20,
   "metadata": {
    "scrolled": false
   },
   "outputs": [
    {
     "data": {
      "text/plain": [
       "<matplotlib.axes._subplots.AxesSubplot at 0x7f503eb3b198>"
      ]
     },
     "execution_count": 20,
     "metadata": {},
     "output_type": "execute_result"
    },
    {
     "data": {
      "image/png": "[encoded data removed]",
      "text/plain": [
       "<Figure size 1440x2880 with 2 Axes>"
      ]
     },
     "metadata": {
      "needs_background": "light"
     },
     "output_type": "display_data"
    }
   ],
   "source": [
    "# Compute the correlation matrix\n",
    "corr = merge.corr()\n",
    "\n",
    "# Generate a mask for the upper triangle\n",
    "mask = np.triu(np.ones_like(corr, dtype=np.bool))\n",
    "\n",
    "# Set up the matplotlib figure\n",
    "f, ax = plt.subplots(figsize=(20, 40))\n",
    "\n",
    "# Generate a custom diverging colormap\n",
    "cmap = sn.diverging_palette(22, 10, as_cmap=True)\n",
    "\n",
    "# Draw the heatmap with the mask and correct aspect ratio\n",
    "sn.heatmap(corr, mask=mask, annot = True, cmap=cmap, vmax=1, center=0,\n",
    "            square=True, linewidths=.5, cbar_kws={\"shrink\": .5})"
   ]
  },
  {
   "cell_type": "code",
   "execution_count": 2,
   "metadata": {},
   "outputs": [],
   "source": [
    "stages_data = pd.read_csv('Data/2nd May/Shwetank.csv')"
   ]
  },
  {
   "cell_type": "code",
   "execution_count": 3,
   "metadata": {},
   "outputs": [
    {
     "name": "stdout",
     "output_type": "stream",
     "text": [
      "<class 'pandas.core.frame.DataFrame'>\n",
      "RangeIndex: 346 entries, 0 to 345\n",
      "Data columns (total 20 columns):\n",
      "Unnamed: 0                  346 non-null int64\n",
      "geoId                       346 non-null object\n",
      "countriesAndTerritories     346 non-null object\n",
      "Dates                       346 non-null object\n",
      "cum_day                     346 non-null int64\n",
      "total_cases                 346 non-null int64\n",
      "cases                       346 non-null int64\n",
      "total_deaths                346 non-null int64\n",
      "new_deaths                  346 non-null int64\n",
      "total_cases_per_million     346 non-null float64\n",
      "new_cases_per_million       346 non-null float64\n",
      "total_deaths_per_million    346 non-null float64\n",
      "new_deaths_per_million      346 non-null float64\n",
      "total_tests                 273 non-null float64\n",
      "new_tests                   266 non-null float64\n",
      "total_tests_per_thousand    273 non-null float64\n",
      "new_tests_per_thousand      267 non-null float64\n",
      "tests_units                 273 non-null object\n",
      "rolling_std                 346 non-null float64\n",
      "Stages                      346 non-null int64\n",
      "dtypes: float64(9), int64(7), object(4)\n",
      "memory usage: 54.1+ KB\n"
     ]
    }
   ],
   "source": [
    "stages_data.info()"
   ]
  },
  {
   "cell_type": "code",
   "execution_count": 14,
   "metadata": {},
   "outputs": [],
   "source": [
    "china  = stages_data[stages_data['countriesAndTerritories']=='China']"
   ]
  },
  {
   "cell_type": "code",
   "execution_count": 15,
   "metadata": {},
   "outputs": [
    {
     "data": {
      "text/plain": [
       "array([1, 2, 3])"
      ]
     },
     "execution_count": 15,
     "metadata": {},
     "output_type": "execute_result"
    }
   ],
   "source": [
    "china.Stages.unique()"
   ]
  },
  {
   "cell_type": "code",
   "execution_count": 16,
   "metadata": {},
   "outputs": [
    {
     "data": {
      "text/plain": [
       "133    1\n",
       "134    1\n",
       "135    1\n",
       "136    1\n",
       "137    1\n",
       "138    2\n",
       "139    2\n",
       "140    2\n",
       "141    2\n",
       "142    2\n",
       "143    2\n",
       "144    2\n",
       "145    3\n",
       "146    3\n",
       "147    3\n",
       "148    3\n",
       "149    3\n",
       "150    3\n",
       "151    3\n",
       "152    3\n",
       "153    3\n",
       "154    3\n",
       "155    2\n",
       "156    3\n",
       "157    3\n",
       "158    2\n",
       "159    2\n",
       "160    2\n",
       "161    2\n",
       "162    1\n",
       "163    2\n",
       "164    2\n",
       "165    2\n",
       "166    1\n",
       "167    1\n",
       "168    1\n",
       "169    1\n",
       "170    1\n",
       "171    1\n",
       "172    1\n",
       "173    1\n",
       "174    1\n",
       "Name: Stages, dtype: int64"
      ]
     },
     "execution_count": 16,
     "metadata": {},
     "output_type": "execute_result"
    }
   ],
   "source": [
    "china.Stages"
   ]
  },
  {
   "cell_type": "code",
   "execution_count": 20,
   "metadata": {},
   "outputs": [],
   "source": [
    "India = stages_data[stages_data['countriesAndTerritories']=='Australia']"
   ]
  },
  {
   "cell_type": "code",
   "execution_count": 22,
   "metadata": {},
   "outputs": [
    {
     "data": {
      "text/plain": [
       "array([1])"
      ]
     },
     "execution_count": 22,
     "metadata": {},
     "output_type": "execute_result"
    }
   ],
   "source": [
    "India.Stages.unique()"
   ]
  },
  {
   "cell_type": "code",
   "execution_count": null,
   "metadata": {},
   "outputs": [],
   "source": []
  }
 ],
 "metadata": {
  "kernelspec": {
   "display_name": "Python 3",
   "language": "python",
   "name": "python3"
  },
  "language_info": {
   "codemirror_mode": {
    "name": "ipython",
    "version": 3
   },
   "file_extension": ".py",
   "mimetype": "text/x-python",
   "name": "python",
   "nbconvert_exporter": "python",
   "pygments_lexer": "ipython3",
   "version": "3.6.9"
  }
 },
 "nbformat": 4,
 "nbformat_minor": 2
}
