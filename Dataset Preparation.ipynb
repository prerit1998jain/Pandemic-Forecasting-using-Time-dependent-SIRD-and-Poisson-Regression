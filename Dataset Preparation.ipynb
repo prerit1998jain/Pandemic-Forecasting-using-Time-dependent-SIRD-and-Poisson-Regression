{
 "cells": [
  {
   "cell_type": "code",
   "execution_count": 1,
   "metadata": {
    "scrolled": true
   },
   "outputs": [],
   "source": [
    "# Importing Packages\n",
    "\n",
    "import pandas as pd\n",
    "from patsy import dmatrices\n",
    "import numpy as np\n",
    "# import statsmodels.api as sm\n",
    "import matplotlib.pyplot as plt\n",
    "import seaborn as sn"
   ]
  },
  {
   "cell_type": "code",
   "execution_count": 2,
   "metadata": {},
   "outputs": [],
   "source": [
    "# Reading the dataset\n",
    "data_tests = pd.read_csv('Country-wise_data_testing_information/2nd May/S_korea_data.csv')\n",
    "data_policy = pd.read_csv('Cases_and_policies_Country_wise/2nd May/S_Korea_Covid_Policies.csv')\n",
    "data_stages = pd.read_csv('Data/2nd May/country_wise_stages.csv')"
   ]
  },
  {
   "cell_type": "code",
   "execution_count": 3,
   "metadata": {
    "scrolled": true
   },
   "outputs": [
    {
     "name": "stdout",
     "output_type": "stream",
     "text": [
      "<class 'pandas.core.frame.DataFrame'>\n",
      "RangeIndex: 124 entries, 0 to 123\n",
      "Data columns (total 7 columns):\n",
      " #   Column        Non-Null Count  Dtype \n",
      "---  ------        --------------  ----- \n",
      " 0   date          124 non-null    object\n",
      " 1   location      124 non-null    object\n",
      " 2   new_cases     124 non-null    int64 \n",
      " 3   new_deaths    124 non-null    int64 \n",
      " 4   total_cases   124 non-null    int64 \n",
      " 5   total_deaths  124 non-null    int64 \n",
      " 6   total_tests   124 non-null    int64 \n",
      "dtypes: int64(5), object(2)\n",
      "memory usage: 6.9+ KB\n"
     ]
    }
   ],
   "source": [
    "data_tests.info()"
   ]
  },
  {
   "cell_type": "code",
   "execution_count": 4,
   "metadata": {
    "scrolled": false
   },
   "outputs": [
    {
     "name": "stdout",
     "output_type": "stream",
     "text": [
      "<class 'pandas.core.frame.DataFrame'>\n",
      "RangeIndex: 124 entries, 0 to 123\n",
      "Data columns (total 14 columns):\n",
      " #   Column                         Non-Null Count  Dtype  \n",
      "---  ------                         --------------  -----  \n",
      " 0   Unnamed: 0                     124 non-null    int64  \n",
      " 1   date                           124 non-null    object \n",
      " 2   location                       124 non-null    object \n",
      " 3   new_cases                      124 non-null    int64  \n",
      " 4   new_deaths                     124 non-null    int64  \n",
      " 5   total_cases                    124 non-null    int64  \n",
      " 6   total_deaths                   124 non-null    int64  \n",
      " 7   Date                           124 non-null    object \n",
      " 8   Lockdown                       124 non-null    float64\n",
      " 9   Public_Health                  124 non-null    float64\n",
      " 10  Governance_and_socio-economic  124 non-null    float64\n",
      " 11  Humanitarian_exemption         124 non-null    float64\n",
      " 12  Social_distancing              124 non-null    float64\n",
      " 13  Movement_restrictions          124 non-null    float64\n",
      "dtypes: float64(6), int64(5), object(3)\n",
      "memory usage: 13.7+ KB\n"
     ]
    }
   ],
   "source": [
    "data_policy.info()"
   ]
  },
  {
   "cell_type": "code",
   "execution_count": 5,
   "metadata": {
    "scrolled": false
   },
   "outputs": [
    {
     "name": "stdout",
     "output_type": "stream",
     "text": [
      "<class 'pandas.core.frame.DataFrame'>\n",
      "RangeIndex: 346 entries, 0 to 345\n",
      "Data columns (total 21 columns):\n",
      " #   Column                    Non-Null Count  Dtype  \n",
      "---  ------                    --------------  -----  \n",
      " 0   Unnamed: 0                346 non-null    int64  \n",
      " 1   geoId                     346 non-null    object \n",
      " 2   countriesAndTerritories   346 non-null    object \n",
      " 3   Dates                     346 non-null    object \n",
      " 4   days_outbreak             346 non-null    int64  \n",
      " 5   total_cases               346 non-null    int64  \n",
      " 6   cases                     346 non-null    int64  \n",
      " 7   total_deaths              346 non-null    int64  \n",
      " 8   new_deaths                346 non-null    int64  \n",
      " 9   total_cases_per_million   346 non-null    float64\n",
      " 10  new_cases_per_million     346 non-null    float64\n",
      " 11  total_deaths_per_million  346 non-null    float64\n",
      " 12  new_deaths_per_million    346 non-null    float64\n",
      " 13  total_tests               273 non-null    float64\n",
      " 14  new_tests                 266 non-null    float64\n",
      " 15  total_tests_per_thousand  273 non-null    float64\n",
      " 16  new_tests_per_thousand    267 non-null    float64\n",
      " 17  tests_units               273 non-null    object \n",
      " 18  rolling_std               346 non-null    float64\n",
      " 19  Stages                    346 non-null    int64  \n",
      " 20  Components                346 non-null    int64  \n",
      "dtypes: float64(9), int64(8), object(4)\n",
      "memory usage: 56.9+ KB\n"
     ]
    }
   ],
   "source": [
    "data_stages.info()"
   ]
  },
  {
   "cell_type": "code",
   "execution_count": 6,
   "metadata": {
    "scrolled": true
   },
   "outputs": [
    {
     "data": {
      "text/plain": [
       "array([nan, 'tests performed', 'samples tested', 'samples',\n",
       "       'cases tested'], dtype=object)"
      ]
     },
     "execution_count": 6,
     "metadata": {},
     "output_type": "execute_result"
    }
   ],
   "source": [
    "data_stages.tests_units.unique()"
   ]
  },
  {
   "cell_type": "code",
   "execution_count": 7,
   "metadata": {},
   "outputs": [],
   "source": [
    "# Converting the datatype of dates to datetime\n",
    "dates = pd.to_datetime(data_policy['date'], format = '%Y-%m-%d')\n",
    "\n",
    "# Adding dates to the dataframe\n",
    "data_policy['Date'] = dates\n",
    "\n",
    "# Converting the datatype of dates to datetime\n",
    "dates = pd.to_datetime(data_tests['date'], format = '%Y-%m-%d')\n",
    "\n",
    "# Adding dates to the dataframe\n",
    "data_tests['Date'] = dates\n",
    "\n",
    "# Converting the datatype of dates to datetime\n",
    "dates = pd.to_datetime(data_stages['Dates'], format = '%Y-%m-%d')\n",
    "\n",
    "# Adding dates to the dataframe\n",
    "data_stages['Date'] = dates\n",
    "\n"
   ]
  },
  {
   "cell_type": "code",
   "execution_count": 8,
   "metadata": {
    "scrolled": true
   },
   "outputs": [
    {
     "name": "stdout",
     "output_type": "stream",
     "text": [
      "<class 'pandas.core.frame.DataFrame'>\n",
      "RangeIndex: 124 entries, 0 to 123\n",
      "Data columns (total 8 columns):\n",
      " #   Column        Non-Null Count  Dtype         \n",
      "---  ------        --------------  -----         \n",
      " 0   date          124 non-null    object        \n",
      " 1   location      124 non-null    object        \n",
      " 2   new_cases     124 non-null    int64         \n",
      " 3   new_deaths    124 non-null    int64         \n",
      " 4   total_cases   124 non-null    int64         \n",
      " 5   total_deaths  124 non-null    int64         \n",
      " 6   total_tests   124 non-null    int64         \n",
      " 7   Date          124 non-null    datetime64[ns]\n",
      "dtypes: datetime64[ns](1), int64(5), object(2)\n",
      "memory usage: 7.9+ KB\n"
     ]
    }
   ],
   "source": [
    "data_tests.info()"
   ]
  },
  {
   "cell_type": "code",
   "execution_count": 9,
   "metadata": {
    "scrolled": true
   },
   "outputs": [
    {
     "name": "stdout",
     "output_type": "stream",
     "text": [
      "<class 'pandas.core.frame.DataFrame'>\n",
      "RangeIndex: 124 entries, 0 to 123\n",
      "Data columns (total 14 columns):\n",
      " #   Column                         Non-Null Count  Dtype         \n",
      "---  ------                         --------------  -----         \n",
      " 0   Unnamed: 0                     124 non-null    int64         \n",
      " 1   date                           124 non-null    object        \n",
      " 2   location                       124 non-null    object        \n",
      " 3   new_cases                      124 non-null    int64         \n",
      " 4   new_deaths                     124 non-null    int64         \n",
      " 5   total_cases                    124 non-null    int64         \n",
      " 6   total_deaths                   124 non-null    int64         \n",
      " 7   Date                           124 non-null    datetime64[ns]\n",
      " 8   Lockdown                       124 non-null    float64       \n",
      " 9   Public_Health                  124 non-null    float64       \n",
      " 10  Governance_and_socio-economic  124 non-null    float64       \n",
      " 11  Humanitarian_exemption         124 non-null    float64       \n",
      " 12  Social_distancing              124 non-null    float64       \n",
      " 13  Movement_restrictions          124 non-null    float64       \n",
      "dtypes: datetime64[ns](1), float64(6), int64(5), object(2)\n",
      "memory usage: 13.7+ KB\n"
     ]
    }
   ],
   "source": [
    "data_policy.info()"
   ]
  },
  {
   "cell_type": "code",
   "execution_count": 10,
   "metadata": {
    "scrolled": true
   },
   "outputs": [
    {
     "name": "stdout",
     "output_type": "stream",
     "text": [
      "<class 'pandas.core.frame.DataFrame'>\n",
      "RangeIndex: 346 entries, 0 to 345\n",
      "Data columns (total 22 columns):\n",
      " #   Column                    Non-Null Count  Dtype         \n",
      "---  ------                    --------------  -----         \n",
      " 0   Unnamed: 0                346 non-null    int64         \n",
      " 1   geoId                     346 non-null    object        \n",
      " 2   countriesAndTerritories   346 non-null    object        \n",
      " 3   Dates                     346 non-null    object        \n",
      " 4   days_outbreak             346 non-null    int64         \n",
      " 5   total_cases               346 non-null    int64         \n",
      " 6   cases                     346 non-null    int64         \n",
      " 7   total_deaths              346 non-null    int64         \n",
      " 8   new_deaths                346 non-null    int64         \n",
      " 9   total_cases_per_million   346 non-null    float64       \n",
      " 10  new_cases_per_million     346 non-null    float64       \n",
      " 11  total_deaths_per_million  346 non-null    float64       \n",
      " 12  new_deaths_per_million    346 non-null    float64       \n",
      " 13  total_tests               273 non-null    float64       \n",
      " 14  new_tests                 266 non-null    float64       \n",
      " 15  total_tests_per_thousand  273 non-null    float64       \n",
      " 16  new_tests_per_thousand    267 non-null    float64       \n",
      " 17  tests_units               273 non-null    object        \n",
      " 18  rolling_std               346 non-null    float64       \n",
      " 19  Stages                    346 non-null    int64         \n",
      " 20  Components                346 non-null    int64         \n",
      " 21  Date                      346 non-null    datetime64[ns]\n",
      "dtypes: datetime64[ns](1), float64(9), int64(8), object(4)\n",
      "memory usage: 59.6+ KB\n"
     ]
    }
   ],
   "source": [
    "data_stages.info()"
   ]
  },
  {
   "cell_type": "code",
   "execution_count": 11,
   "metadata": {},
   "outputs": [],
   "source": [
    "grouped = data_stages.groupby('countriesAndTerritories')"
   ]
  },
  {
   "cell_type": "code",
   "execution_count": 12,
   "metadata": {
    "scrolled": false
   },
   "outputs": [
    {
     "data": {
      "text/plain": [
       "countriesAndTerritories\n",
       "Australia        [Australia]\n",
       "Austria            [Austria]\n",
       "China                [China]\n",
       "Iceland            [Iceland]\n",
       "India                [India]\n",
       "New Zealand    [New Zealand]\n",
       "South Korea    [South Korea]\n",
       "Switzerland    [Switzerland]\n",
       "Name: countriesAndTerritories, dtype: object"
      ]
     },
     "execution_count": 12,
     "metadata": {},
     "output_type": "execute_result"
    }
   ],
   "source": [
    "grouped.countriesAndTerritories.unique()"
   ]
  },
  {
   "cell_type": "code",
   "execution_count": 13,
   "metadata": {},
   "outputs": [],
   "source": [
    "## Isolating the datasets for different countries into different dataframes\n",
    "South_Korea = pd.DataFrame(grouped.get_group('South Korea'))"
   ]
  },
  {
   "cell_type": "code",
   "execution_count": 14,
   "metadata": {},
   "outputs": [],
   "source": [
    "# Dataset Preprocessing before running the model\n",
    "def dataset_preprocess_policy(df):\n",
    "    \n",
    "    # Setting date as the index of the dataframe\n",
    "    df = df.set_index('Date')\n",
    "    \n",
    "    #Creating different columns with regressor variables\n",
    "    ds = df.index.to_series()\n",
    "    df['Day'] = ds.dt.day\n",
    "    df['Month'] = ds.dt.month\n",
    "    #df['Weekday'] = ds.dt.dayofweek\n",
    "    df['Year'] = ds.dt.year\n",
    "    \n",
    "    # Dropping the text columns which have same entries at each row\n",
    "    #df = df.drop(['Country', 'day', 'Country Name', 'Region','Unnamed: 0', ], axis = 1)\n",
    "    df = df.drop(['Unnamed: 0','date','location','new_cases', 'new_deaths','total_cases','total_deaths'], axis = 1)\n",
    "    df = df.drop(df.index[len(df)-1])\n",
    "    \n",
    "    #return the dataframe\n",
    "    return(df)"
   ]
  },
  {
   "cell_type": "code",
   "execution_count": 15,
   "metadata": {},
   "outputs": [],
   "source": [
    "# Dataset Preprocessing before running the model\n",
    "def dataset_preprocess_tests(df):\n",
    "    \n",
    "    # Setting date as the index of the dataframe\n",
    "    df = df.set_index('Date')\n",
    "    \n",
    "    #Creating different columns with regressor variables\n",
    "#     ds = df.index.to_series()\n",
    "#     df['Day'] = ds.dt.day\n",
    "#     df['Month'] = ds.dt.month\n",
    "#     df['Weekday'] = ds.dt.dayofweek\n",
    "#     df['Year'] = ds.dt.year\n",
    "    \n",
    "    # Dropping the text columns which have same entries at each row\n",
    "    df = df.drop(['date'], axis = 1)\n",
    "#     df = df.drop([ 'countriesAndTerritories','geoId', 'dateRep', 'countryterritoryCode', 'cases', 'deaths'], axis = 1)\n",
    "    #df = df.drop(df.index[len(df)-1])\n",
    "    \n",
    "    #return the dataframe\n",
    "    return(df)"
   ]
  },
  {
   "cell_type": "code",
   "execution_count": 16,
   "metadata": {},
   "outputs": [],
   "source": [
    "# Dataset Preprocessing before running the model\n",
    "def data_stages_preprocess(df):\n",
    "    \n",
    "    # Setting date as the index of the dataframe\n",
    "    df = df.set_index('Date')\n",
    "    \n",
    "    # Creating different columns with regressor variables\n",
    "    ds = df.index.to_series()\n",
    "#     df['Day'] = ds.dt.day\n",
    "#     df['Month'] = ds.dt.month\n",
    "    df['Weekday'] = ds.dt.dayofweek\n",
    "#     df['Year'] = ds.dt.year\n",
    "    \n",
    "    # Dropping the text columns which have same entries at each row\n",
    "    df = df.drop(['countriesAndTerritories', 'geoId', 'Dates','cases', 'new_deaths','total_cases','total_deaths','total_tests','new_tests','new_tests_per_thousand','total_tests_per_thousand','Unnamed: 0','tests_units'], axis = 1)\n",
    "    df = df.drop(df.index[len(df)-1])\n",
    "    \n",
    "    #return the dataframe\n",
    "    return(df)"
   ]
  },
  {
   "cell_type": "code",
   "execution_count": 17,
   "metadata": {},
   "outputs": [
    {
     "name": "stdout",
     "output_type": "stream",
     "text": [
      "<class 'pandas.core.frame.DataFrame'>\n",
      "RangeIndex: 346 entries, 0 to 345\n",
      "Data columns (total 22 columns):\n",
      " #   Column                    Non-Null Count  Dtype         \n",
      "---  ------                    --------------  -----         \n",
      " 0   Unnamed: 0                346 non-null    int64         \n",
      " 1   geoId                     346 non-null    object        \n",
      " 2   countriesAndTerritories   346 non-null    object        \n",
      " 3   Dates                     346 non-null    object        \n",
      " 4   days_outbreak             346 non-null    int64         \n",
      " 5   total_cases               346 non-null    int64         \n",
      " 6   cases                     346 non-null    int64         \n",
      " 7   total_deaths              346 non-null    int64         \n",
      " 8   new_deaths                346 non-null    int64         \n",
      " 9   total_cases_per_million   346 non-null    float64       \n",
      " 10  new_cases_per_million     346 non-null    float64       \n",
      " 11  total_deaths_per_million  346 non-null    float64       \n",
      " 12  new_deaths_per_million    346 non-null    float64       \n",
      " 13  total_tests               273 non-null    float64       \n",
      " 14  new_tests                 266 non-null    float64       \n",
      " 15  total_tests_per_thousand  273 non-null    float64       \n",
      " 16  new_tests_per_thousand    267 non-null    float64       \n",
      " 17  tests_units               273 non-null    object        \n",
      " 18  rolling_std               346 non-null    float64       \n",
      " 19  Stages                    346 non-null    int64         \n",
      " 20  Components                346 non-null    int64         \n",
      " 21  Date                      346 non-null    datetime64[ns]\n",
      "dtypes: datetime64[ns](1), float64(9), int64(8), object(4)\n",
      "memory usage: 59.6+ KB\n"
     ]
    }
   ],
   "source": [
    "data_stages.info()"
   ]
  },
  {
   "cell_type": "code",
   "execution_count": 18,
   "metadata": {},
   "outputs": [],
   "source": [
    "data_policy = dataset_preprocess_policy(data_policy)\n",
    "data_tests = dataset_preprocess_tests(data_tests)\n",
    "data_stages = data_stages_preprocess(South_Korea)"
   ]
  },
  {
   "cell_type": "code",
   "execution_count": 19,
   "metadata": {
    "scrolled": true
   },
   "outputs": [
    {
     "name": "stdout",
     "output_type": "stream",
     "text": [
      "<class 'pandas.core.frame.DataFrame'>\n",
      "DatetimeIndex: 47 entries, 2020-02-20 to 2020-04-13\n",
      "Data columns (total 9 columns):\n",
      " #   Column                    Non-Null Count  Dtype  \n",
      "---  ------                    --------------  -----  \n",
      " 0   days_outbreak             47 non-null     int64  \n",
      " 1   total_cases_per_million   47 non-null     float64\n",
      " 2   new_cases_per_million     47 non-null     float64\n",
      " 3   total_deaths_per_million  47 non-null     float64\n",
      " 4   new_deaths_per_million    47 non-null     float64\n",
      " 5   rolling_std               47 non-null     float64\n",
      " 6   Stages                    47 non-null     int64  \n",
      " 7   Components                47 non-null     int64  \n",
      " 8   Weekday                   47 non-null     int64  \n",
      "dtypes: float64(5), int64(4)\n",
      "memory usage: 3.7 KB\n"
     ]
    }
   ],
   "source": [
    "data_stages.info()"
   ]
  },
  {
   "cell_type": "code",
   "execution_count": 20,
   "metadata": {},
   "outputs": [],
   "source": [
    "merge = pd.merge(data_tests,data_policy, how='inner', left_index=True, right_index=True)"
   ]
  },
  {
   "cell_type": "code",
   "execution_count": 30,
   "metadata": {},
   "outputs": [],
   "source": [
    "merge = pd.merge(data_stages, merge, how = 'inner', left_index = True, right_index=True)"
   ]
  },
  {
   "cell_type": "code",
   "execution_count": 31,
   "metadata": {
    "scrolled": false
   },
   "outputs": [
    {
     "name": "stdout",
     "output_type": "stream",
     "text": [
      "<class 'pandas.core.frame.DataFrame'>\n",
      "DatetimeIndex: 47 entries, 2020-02-20 to 2020-04-13\n",
      "Data columns (total 24 columns):\n",
      " #   Column                         Non-Null Count  Dtype  \n",
      "---  ------                         --------------  -----  \n",
      " 0   days_outbreak                  47 non-null     int64  \n",
      " 1   total_cases_per_million        47 non-null     float64\n",
      " 2   new_cases_per_million          47 non-null     float64\n",
      " 3   total_deaths_per_million       47 non-null     float64\n",
      " 4   new_deaths_per_million         47 non-null     float64\n",
      " 5   rolling_std                    47 non-null     float64\n",
      " 6   Stages                         47 non-null     int64  \n",
      " 7   Components                     47 non-null     int64  \n",
      " 8   Weekday                        47 non-null     int64  \n",
      " 9   location                       47 non-null     object \n",
      " 10  new_cases                      47 non-null     int64  \n",
      " 11  new_deaths                     47 non-null     int64  \n",
      " 12  total_cases                    47 non-null     int64  \n",
      " 13  total_deaths                   47 non-null     int64  \n",
      " 14  total_tests                    47 non-null     int64  \n",
      " 15  Lockdown                       47 non-null     float64\n",
      " 16  Public_Health                  47 non-null     float64\n",
      " 17  Governance_and_socio-economic  47 non-null     float64\n",
      " 18  Humanitarian_exemption         47 non-null     float64\n",
      " 19  Social_distancing              47 non-null     float64\n",
      " 20  Movement_restrictions          47 non-null     float64\n",
      " 21  Day                            47 non-null     int64  \n",
      " 22  Month                          47 non-null     int64  \n",
      " 23  Year                           47 non-null     int64  \n",
      "dtypes: float64(11), int64(12), object(1)\n",
      "memory usage: 9.2+ KB\n"
     ]
    }
   ],
   "source": [
    "merge.info()"
   ]
  },
  {
   "cell_type": "code",
   "execution_count": 22,
   "metadata": {},
   "outputs": [],
   "source": [
    "merge_updated = pd.merge(merge,data_stages, how='inner', left_index=True, right_index=True)"
   ]
  },
  {
   "cell_type": "code",
   "execution_count": 23,
   "metadata": {
    "scrolled": false
   },
   "outputs": [
    {
     "name": "stdout",
     "output_type": "stream",
     "text": [
      "<class 'pandas.core.frame.DataFrame'>\n",
      "DatetimeIndex: 123 entries, 2019-12-31 to 2020-05-01\n",
      "Data columns (total 15 columns):\n",
      " #   Column                         Non-Null Count  Dtype  \n",
      "---  ------                         --------------  -----  \n",
      " 0   location                       123 non-null    object \n",
      " 1   new_cases                      123 non-null    int64  \n",
      " 2   new_deaths                     123 non-null    int64  \n",
      " 3   total_cases                    123 non-null    int64  \n",
      " 4   total_deaths                   123 non-null    int64  \n",
      " 5   total_tests                    123 non-null    int64  \n",
      " 6   Lockdown                       123 non-null    float64\n",
      " 7   Public_Health                  123 non-null    float64\n",
      " 8   Governance_and_socio-economic  123 non-null    float64\n",
      " 9   Humanitarian_exemption         123 non-null    float64\n",
      " 10  Social_distancing              123 non-null    float64\n",
      " 11  Movement_restrictions          123 non-null    float64\n",
      " 12  Day                            123 non-null    int64  \n",
      " 13  Month                          123 non-null    int64  \n",
      " 14  Year                           123 non-null    int64  \n",
      "dtypes: float64(6), int64(8), object(1)\n",
      "memory usage: 20.4+ KB\n"
     ]
    }
   ],
   "source": [
    "merge.info()"
   ]
  },
  {
   "cell_type": "code",
   "execution_count": 24,
   "metadata": {
    "scrolled": false
   },
   "outputs": [],
   "source": [
    "merge_updated = merge_updated.reset_index()"
   ]
  },
  {
   "cell_type": "code",
   "execution_count": 25,
   "metadata": {},
   "outputs": [
    {
     "data": {
      "text/plain": [
       "47"
      ]
     },
     "execution_count": 25,
     "metadata": {},
     "output_type": "execute_result"
    }
   ],
   "source": [
    "len(merge_updated)"
   ]
  },
  {
   "cell_type": "code",
   "execution_count": 26,
   "metadata": {},
   "outputs": [],
   "source": [
    "Days_since_start = np.arange(1,len(merge_updated)+1)\n",
    "merge_updated['days_completed'] = Days_since_start"
   ]
  },
  {
   "cell_type": "code",
   "execution_count": 27,
   "metadata": {
    "scrolled": true
   },
   "outputs": [
    {
     "data": {
      "text/html": [
       "<div>\n",
       "<style scoped>\n",
       "    .dataframe tbody tr th:only-of-type {\n",
       "        vertical-align: middle;\n",
       "    }\n",
       "\n",
       "    .dataframe tbody tr th {\n",
       "        vertical-align: top;\n",
       "    }\n",
       "\n",
       "    .dataframe thead th {\n",
       "        text-align: right;\n",
       "    }\n",
       "</style>\n",
       "<table border=\"1\" class=\"dataframe\">\n",
       "  <thead>\n",
       "    <tr style=\"text-align: right;\">\n",
       "      <th></th>\n",
       "      <th>Date</th>\n",
       "      <th>location</th>\n",
       "      <th>new_cases</th>\n",
       "      <th>new_deaths</th>\n",
       "      <th>total_cases</th>\n",
       "      <th>total_deaths</th>\n",
       "      <th>total_tests</th>\n",
       "      <th>Lockdown</th>\n",
       "      <th>Public_Health</th>\n",
       "      <th>Governance_and_socio-economic</th>\n",
       "      <th>...</th>\n",
       "      <th>days_outbreak</th>\n",
       "      <th>total_cases_per_million</th>\n",
       "      <th>new_cases_per_million</th>\n",
       "      <th>total_deaths_per_million</th>\n",
       "      <th>new_deaths_per_million</th>\n",
       "      <th>rolling_std</th>\n",
       "      <th>Stages</th>\n",
       "      <th>Components</th>\n",
       "      <th>Weekday</th>\n",
       "      <th>days_completed</th>\n",
       "    </tr>\n",
       "  </thead>\n",
       "  <tbody>\n",
       "    <tr>\n",
       "      <th>0</th>\n",
       "      <td>2020-02-20</td>\n",
       "      <td>South Korea</td>\n",
       "      <td>34</td>\n",
       "      <td>0</td>\n",
       "      <td>80</td>\n",
       "      <td>0</td>\n",
       "      <td>1146</td>\n",
       "      <td>0.0</td>\n",
       "      <td>0.0</td>\n",
       "      <td>0.0</td>\n",
       "      <td>...</td>\n",
       "      <td>1</td>\n",
       "      <td>1.560</td>\n",
       "      <td>0.663</td>\n",
       "      <td>0.000</td>\n",
       "      <td>0.000</td>\n",
       "      <td>0.001536</td>\n",
       "      <td>1</td>\n",
       "      <td>0</td>\n",
       "      <td>3</td>\n",
       "      <td>1</td>\n",
       "    </tr>\n",
       "    <tr>\n",
       "      <th>1</th>\n",
       "      <td>2020-02-21</td>\n",
       "      <td>South Korea</td>\n",
       "      <td>75</td>\n",
       "      <td>1</td>\n",
       "      <td>155</td>\n",
       "      <td>1</td>\n",
       "      <td>1750</td>\n",
       "      <td>0.0</td>\n",
       "      <td>0.0</td>\n",
       "      <td>0.0</td>\n",
       "      <td>...</td>\n",
       "      <td>2</td>\n",
       "      <td>3.023</td>\n",
       "      <td>1.463</td>\n",
       "      <td>0.020</td>\n",
       "      <td>0.020</td>\n",
       "      <td>0.002845</td>\n",
       "      <td>1</td>\n",
       "      <td>0</td>\n",
       "      <td>4</td>\n",
       "      <td>2</td>\n",
       "    </tr>\n",
       "    <tr>\n",
       "      <th>2</th>\n",
       "      <td>2020-02-22</td>\n",
       "      <td>South Korea</td>\n",
       "      <td>190</td>\n",
       "      <td>1</td>\n",
       "      <td>345</td>\n",
       "      <td>2</td>\n",
       "      <td>2655</td>\n",
       "      <td>0.0</td>\n",
       "      <td>0.0</td>\n",
       "      <td>0.0</td>\n",
       "      <td>...</td>\n",
       "      <td>3</td>\n",
       "      <td>6.729</td>\n",
       "      <td>3.706</td>\n",
       "      <td>0.039</td>\n",
       "      <td>0.020</td>\n",
       "      <td>0.007502</td>\n",
       "      <td>2</td>\n",
       "      <td>2</td>\n",
       "      <td>5</td>\n",
       "      <td>3</td>\n",
       "    </tr>\n",
       "    <tr>\n",
       "      <th>3</th>\n",
       "      <td>2020-02-23</td>\n",
       "      <td>South Korea</td>\n",
       "      <td>256</td>\n",
       "      <td>3</td>\n",
       "      <td>601</td>\n",
       "      <td>5</td>\n",
       "      <td>4805</td>\n",
       "      <td>0.0</td>\n",
       "      <td>0.0</td>\n",
       "      <td>0.0</td>\n",
       "      <td>...</td>\n",
       "      <td>4</td>\n",
       "      <td>11.722</td>\n",
       "      <td>4.993</td>\n",
       "      <td>0.098</td>\n",
       "      <td>0.059</td>\n",
       "      <td>0.008497</td>\n",
       "      <td>2</td>\n",
       "      <td>2</td>\n",
       "      <td>6</td>\n",
       "      <td>4</td>\n",
       "    </tr>\n",
       "    <tr>\n",
       "      <th>4</th>\n",
       "      <td>2020-02-24</td>\n",
       "      <td>South Korea</td>\n",
       "      <td>161</td>\n",
       "      <td>2</td>\n",
       "      <td>762</td>\n",
       "      <td>7</td>\n",
       "      <td>3012</td>\n",
       "      <td>0.0</td>\n",
       "      <td>0.0</td>\n",
       "      <td>0.0</td>\n",
       "      <td>...</td>\n",
       "      <td>5</td>\n",
       "      <td>14.863</td>\n",
       "      <td>3.140</td>\n",
       "      <td>0.137</td>\n",
       "      <td>0.039</td>\n",
       "      <td>0.004516</td>\n",
       "      <td>2</td>\n",
       "      <td>2</td>\n",
       "      <td>0</td>\n",
       "      <td>5</td>\n",
       "    </tr>\n",
       "  </tbody>\n",
       "</table>\n",
       "<p>5 rows × 26 columns</p>\n",
       "</div>"
      ],
      "text/plain": [
       "        Date     location  new_cases  new_deaths  total_cases  total_deaths  \\\n",
       "0 2020-02-20  South Korea         34           0           80             0   \n",
       "1 2020-02-21  South Korea         75           1          155             1   \n",
       "2 2020-02-22  South Korea        190           1          345             2   \n",
       "3 2020-02-23  South Korea        256           3          601             5   \n",
       "4 2020-02-24  South Korea        161           2          762             7   \n",
       "\n",
       "   total_tests  Lockdown  Public_Health  Governance_and_socio-economic  ...  \\\n",
       "0         1146       0.0            0.0                            0.0  ...   \n",
       "1         1750       0.0            0.0                            0.0  ...   \n",
       "2         2655       0.0            0.0                            0.0  ...   \n",
       "3         4805       0.0            0.0                            0.0  ...   \n",
       "4         3012       0.0            0.0                            0.0  ...   \n",
       "\n",
       "   days_outbreak  total_cases_per_million  new_cases_per_million  \\\n",
       "0              1                    1.560                  0.663   \n",
       "1              2                    3.023                  1.463   \n",
       "2              3                    6.729                  3.706   \n",
       "3              4                   11.722                  4.993   \n",
       "4              5                   14.863                  3.140   \n",
       "\n",
       "   total_deaths_per_million  new_deaths_per_million  rolling_std  Stages  \\\n",
       "0                     0.000                   0.000     0.001536       1   \n",
       "1                     0.020                   0.020     0.002845       1   \n",
       "2                     0.039                   0.020     0.007502       2   \n",
       "3                     0.098                   0.059     0.008497       2   \n",
       "4                     0.137                   0.039     0.004516       2   \n",
       "\n",
       "   Components  Weekday  days_completed  \n",
       "0           0        3               1  \n",
       "1           0        4               2  \n",
       "2           2        5               3  \n",
       "3           2        6               4  \n",
       "4           2        0               5  \n",
       "\n",
       "[5 rows x 26 columns]"
      ]
     },
     "execution_count": 27,
     "metadata": {},
     "output_type": "execute_result"
    }
   ],
   "source": [
    "merge_updated.head()"
   ]
  },
  {
   "cell_type": "code",
   "execution_count": 28,
   "metadata": {
    "scrolled": false
   },
   "outputs": [],
   "source": [
    "merge_updated.to_csv('Data/2nd May/South_Korea_Covid.csv')"
   ]
  },
  {
   "cell_type": "code",
   "execution_count": 29,
   "metadata": {
    "scrolled": true
   },
   "outputs": [
    {
     "data": {
      "text/plain": [
       "<matplotlib.axes._subplots.AxesSubplot at 0x7f2dbef61dd8>"
      ]
     },
     "execution_count": 29,
     "metadata": {},
     "output_type": "execute_result"
    },
    {
     "data": {
      "image/png": "[encoded data removed]",
      "text/plain": [
       "<Figure size 1440x2880 with 2 Axes>"
      ]
     },
     "metadata": {
      "needs_background": "light"
     },
     "output_type": "display_data"
    }
   ],
   "source": [
    "# Compute the correlation matrix\n",
    "corr = merge.corr()\n",
    "\n",
    "# Generate a mask for the upper triangle\n",
    "mask = np.triu(np.ones_like(corr, dtype=np.bool))\n",
    "\n",
    "# Set up the matplotlib figure\n",
    "f, ax = plt.subplots(figsize=(20, 40))\n",
    "\n",
    "# Generate a custom diverging colormap\n",
    "cmap = sn.diverging_palette(22, 10, as_cmap=True)\n",
    "\n",
    "# Draw the heatmap with the mask and correct aspect ratio\n",
    "sn.heatmap(corr, mask=mask, annot = True, cmap=cmap, vmax=1, center=0,\n",
    "            square=True, linewidths=.5, cbar_kws={\"shrink\": .5})"
   ]
  }
 ],
 "metadata": {
  "kernelspec": {
   "display_name": "Python 3",
   "language": "python",
   "name": "python3"
  },
  "language_info": {
   "codemirror_mode": {
    "name": "ipython",
    "version": 3
   },
   "file_extension": ".py",
   "mimetype": "text/x-python",
   "name": "python",
   "nbconvert_exporter": "python",
   "pygments_lexer": "ipython3",
   "version": "3.6.9"
  }
 },
 "nbformat": 4,
 "nbformat_minor": 2
}
