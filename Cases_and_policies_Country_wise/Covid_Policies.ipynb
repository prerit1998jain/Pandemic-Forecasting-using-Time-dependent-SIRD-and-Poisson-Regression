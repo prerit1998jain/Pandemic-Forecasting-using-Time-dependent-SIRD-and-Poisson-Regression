{
 "cells": [
  {
   "cell_type": "code",
   "execution_count": 74,
   "metadata": {},
   "outputs": [],
   "source": [
    "import numpy as np\n",
    "import pandas as pd"
   ]
  },
  {
   "cell_type": "markdown",
   "metadata": {},
   "source": [
    "## Reading the Government Policy Data"
   ]
  },
  {
   "cell_type": "code",
   "execution_count": 98,
   "metadata": {},
   "outputs": [
    {
     "name": "stderr",
     "output_type": "stream",
     "text": [
      "/home/prerit/anaconda3/lib/python3.6/site-packages/ipykernel_launcher.py:9: SettingWithCopyWarning: \n",
      "A value is trying to be set on a copy of a slice from a DataFrame.\n",
      "Try using .loc[row_indexer,col_indexer] = value instead\n",
      "\n",
      "See the caveats in the documentation: http://pandas.pydata.org/pandas-docs/stable/indexing.html#indexing-view-versus-copy\n",
      "  if __name__ == '__main__':\n"
     ]
    },
    {
     "data": {
      "text/plain": [
       "array(['Afghanistan', 'Albania', 'Algeria', 'Angola',\n",
       "       'Antigua and Barbuda', 'Argentina', 'Armenia', 'Australia',\n",
       "       'Austria', 'Azerbaijan', 'Bahamas', 'Bahrain', 'Bangladesh',\n",
       "       'Barbados', 'Belarus', 'Belgium', 'Belize', 'Benin', 'Bhutan',\n",
       "       'Bolivia', 'Bosnia and Herzegovina', 'Botswana', 'Brazil',\n",
       "       'Brunei Darussalam', 'Bulgaria', 'Burkina Faso', 'Burundi',\n",
       "       'Cabo Verde', 'Cambodia', 'Cameroon', 'Canada',\n",
       "       'Central African Republic', 'Chad', 'Chile', 'China',\n",
       "       'China, Hong Kong Special Administrative Region', 'Colombia',\n",
       "       'Comoros', 'Congo', 'Congo DR', 'Costa Rica', \"Côte d'Ivoire\",\n",
       "       'Croatia', 'Cuba', 'Cyprus', 'Czech Republic', 'Czech republic',\n",
       "       'Denmark', 'Djibouti', 'Dominica', 'Dominican Republic', 'Ecuador',\n",
       "       'Egypt', 'El Salvador', 'Equatorial Guinea', 'Eritrea', 'Estonia',\n",
       "       'Eswatini', 'Ethiopia', 'Fiji', 'Finland', 'France', 'Gabon',\n",
       "       'Gambia', 'Georgia', 'Germany', 'Ghana', 'Greece', 'Grenada',\n",
       "       'Guatemala', 'Guinea', 'Guinea-Bissau', 'Guyana', 'Haiti',\n",
       "       'Honduras', 'Hungary', 'Iceland', 'India', 'Indonesia', 'Iran',\n",
       "       'Iraq', 'Ireland', 'Israel', 'Italy', 'Jamaica', 'Japan', 'Jordan',\n",
       "       'Kazakhstan', 'Kenya', 'Kiribati', 'Korea DPR',\n",
       "       'Korea Republic of', 'Kuwait', 'Kyrgyzstan', 'Lao PDR', 'Latvia',\n",
       "       'Lebanon', 'Lesotho', 'Liberia', 'Libya', 'Liechtenstein',\n",
       "       'Lithuania', 'Luxembourg', 'Madagascar', 'Malawi', 'Malaysia',\n",
       "       'Maldives', 'Mali', 'Malta', 'Marshall Islands', 'Mauritania',\n",
       "       'Mauritius', 'Mexico', 'Micronesia', 'Moldova Republic Of',\n",
       "       'Moldova Republic of', 'Mongolia', 'Montenegro', 'Morocco',\n",
       "       'Mozambique', 'Myanmar', 'Namibia', 'Nauru', 'Nepal',\n",
       "       'Netherlands', 'New Zealand', 'Nicaragua', 'Niger', 'Nigeria',\n",
       "       'North Macedonia Republic Of', 'Norway', 'Oman', 'Pakistan',\n",
       "       'Palau', 'Palestine', 'Panama', 'Papua New Guinea', 'Paraguay',\n",
       "       'Peru', 'Philippines', 'Poland', 'Portugal', 'Qatar', 'Romania',\n",
       "       'Russian Federation', 'Rwanda', 'Saint Kitts and Nevis',\n",
       "       'Saint Lucia', 'Saint Vincent and the Grenadines', 'Samoa',\n",
       "       'San Marino', 'Sao Tome and Principe', 'Saudi Arabia', 'Senegal',\n",
       "       'Serbia', 'Seychelles', 'Sierra Leone', 'Singapore', 'Slovakia',\n",
       "       'Slovenia', 'Solomon Islands', 'Somalia', 'South Africa',\n",
       "       'South Sudan', 'Spain', 'Sri Lanka', 'Sudan', 'Suriname', 'Sweden',\n",
       "       'Switzerland', 'Syria', 'Tajikistan', 'Tanzania', 'Thailand',\n",
       "       'Timor-Leste', 'Togo', 'Tonga', 'Trinidad and Tobago', 'Tunisia',\n",
       "       'Turkey', 'Turkmenistan', 'Tuvalu', 'Uganda', 'Ukraine',\n",
       "       'United Arab Emirates', 'United Kingdom',\n",
       "       'United States of America', 'Uruguay', 'Uzbekistan', 'Vanuatu',\n",
       "       'Venezuela', 'Viet Nam', 'Yemen', 'Zambia', 'Zimbabwe'],\n",
       "      dtype=object)"
      ]
     },
     "execution_count": 98,
     "metadata": {},
     "output_type": "execute_result"
    }
   ],
   "source": [
    "# Reading the Government Policies dataset\n",
    "policy_data = pd.read_excel('Goverment_Policy.xlsx')\n",
    "\n",
    "# Preparing a dataFrame of relevant information from the whole file\n",
    "policies = policy_data[['COUNTRY', 'CATEGORY', 'MEASURE', 'DATE_IMPLEMENTED']]\n",
    "\n",
    "# Adding dates in the desired format in the dataset\n",
    "policy_dates = pd.to_datetime(policies['DATE_IMPLEMENTED'],format='%Y-%m-%d').dt.date\n",
    "policies['DATE_IMPLEMENTED'] = policy_dates\n",
    "\n",
    "policies.COUNTRY.unique()"
   ]
  },
  {
   "cell_type": "markdown",
   "metadata": {},
   "source": [
    "## Reading the COVID 19 Cases Data"
   ]
  },
  {
   "cell_type": "code",
   "execution_count": 97,
   "metadata": {},
   "outputs": [
    {
     "data": {
      "text/plain": [
       "array(['Afghanistan', 'Albania', 'Andorra', 'Algeria', 'Angola',\n",
       "       'Anguilla', 'Antigua_and_Barbuda', 'Argentina', 'Armenia', 'Aruba',\n",
       "       'Australia', 'Austria', 'Azerbaijan', 'Bahamas', 'Bahrain',\n",
       "       'Bangladesh', 'Barbados', 'Belarus', 'Belgium', 'Belize', 'Benin',\n",
       "       'Bermuda', 'Bhutan', 'Bolivia',\n",
       "       'Bonaire, Saint Eustatius and Saba', 'Bosnia_and_Herzegovina',\n",
       "       'Botswana', 'Brazil', 'British_Virgin_Islands',\n",
       "       'Brunei_Darussalam', 'Bulgaria', 'Burkina_Faso', 'Burundi',\n",
       "       'Cambodia', 'Cameroon', 'Canada', 'Cape_Verde',\n",
       "       'Cases_on_an_international_conveyance_Japan', 'Cayman_Islands',\n",
       "       'Central_African_Republic', 'Chad', 'Chile', 'China', 'Colombia',\n",
       "       'Congo', 'Costa_Rica', 'Cote_dIvoire', 'Croatia', 'Cuba',\n",
       "       'Curaçao', 'Cyprus', 'Czechia', 'Democratic_Republic_of_the_Congo',\n",
       "       'Denmark', 'Djibouti', 'Dominica', 'Dominican_Republic', 'Ecuador',\n",
       "       'Egypt', 'El_Salvador', 'Equatorial_Guinea', 'Eritrea', 'Estonia',\n",
       "       'Eswatini', 'Ethiopia', 'Falkland_Islands_(Malvinas)',\n",
       "       'Faroe_Islands', 'Fiji', 'Finland', 'France', 'French_Polynesia',\n",
       "       'Gabon', 'Gambia', 'Georgia', 'Germany', 'Ghana', 'Gibraltar',\n",
       "       'Greece', 'Greenland', 'Grenada', 'Guam', 'Guatemala', 'Guernsey',\n",
       "       'Guinea', 'Guinea_Bissau', 'Guyana', 'Haiti', 'Holy_See',\n",
       "       'Honduras', 'Hungary', 'Iceland', 'India', 'Indonesia', 'Iran',\n",
       "       'Iraq', 'Ireland', 'Isle_of_Man', 'Israel', 'Italy', 'Jamaica',\n",
       "       'Japan', 'Jersey', 'Jordan', 'Kazakhstan', 'Kenya', 'Kosovo',\n",
       "       'Kuwait', 'Kyrgyzstan', 'Laos', 'Latvia', 'Lebanon', 'Liberia',\n",
       "       'Libya', 'Liechtenstein', 'Lithuania', 'Luxembourg', 'Madagascar',\n",
       "       'Malawi', 'Malaysia', 'Maldives', 'Mali', 'Malta', 'Mauritania',\n",
       "       'Mauritius', 'Mexico', 'Moldova', 'Monaco', 'Mongolia',\n",
       "       'Montenegro', 'Montserrat', 'Morocco', 'Mozambique', 'Myanmar',\n",
       "       'Namibia', 'Nepal', 'Netherlands', 'New_Caledonia', 'New_Zealand',\n",
       "       'Nicaragua', 'Niger', 'Nigeria', 'North_Macedonia',\n",
       "       'Northern_Mariana_Islands', 'Norway', 'Oman', 'Pakistan',\n",
       "       'Palestine', 'Panama', 'Papua_New_Guinea', 'Paraguay', 'Peru',\n",
       "       'Philippines', 'Poland', 'Portugal', 'Puerto_Rico', 'Qatar',\n",
       "       'Romania', 'Russia', 'Rwanda', 'Saint_Kitts_and_Nevis',\n",
       "       'Saint_Lucia', 'Saint_Vincent_and_the_Grenadines', 'San_Marino',\n",
       "       'Sao_Tome_and_Principe', 'Saudi_Arabia', 'Senegal', 'Serbia',\n",
       "       'Seychelles', 'Sierra_Leone', 'Singapore', 'Sint_Maarten',\n",
       "       'Slovakia', 'Slovenia', 'Somalia', 'South_Africa', 'South_Korea',\n",
       "       'South_Sudan', 'Spain', 'Sri_Lanka', 'Sudan', 'Suriname', 'Sweden',\n",
       "       'Switzerland', 'Syria', 'Taiwan', 'Thailand', 'Timor_Leste',\n",
       "       'Togo', 'Trinidad_and_Tobago', 'Tunisia', 'Turkey',\n",
       "       'Turks_and_Caicos_islands', 'Uganda', 'Ukraine',\n",
       "       'United_Arab_Emirates', 'United_Kingdom',\n",
       "       'United_Republic_of_Tanzania', 'United_States_of_America',\n",
       "       'United_States_Virgin_Islands', 'Uruguay', 'Uzbekistan',\n",
       "       'Venezuela', 'Vietnam', 'Yemen', 'Zambia', 'Zimbabwe'],\n",
       "      dtype=object)"
      ]
     },
     "execution_count": 97,
     "metadata": {},
     "output_type": "execute_result"
    }
   ],
   "source": [
    "## Reading the dataset\n",
    "cases = pd.read_csv('WHO-COVID-19-global-data.csv')\n",
    "\n",
    "## Adding Dates in the desired format in the dataset\n",
    "dates = pd.to_datetime(cases['dateRep'], format = '%d/%m/%Y').dt.date\n",
    "cases['Date'] = dates\n",
    "\n",
    "cases.countriesAndTerritories.unique()"
   ]
  },
  {
   "cell_type": "markdown",
   "metadata": {},
   "source": [
    "## Preprocessing Functions"
   ]
  },
  {
   "cell_type": "code",
   "execution_count": 77,
   "metadata": {},
   "outputs": [],
   "source": [
    "def policy_data_country_preprocess(country):\n",
    "\n",
    "    # Pulling out data for a particular country\n",
    "    policies_ct = policies.loc[policies['COUNTRY'] == country]\n",
    "    policies_ct = policies_ct.reset_index(drop=True)\n",
    "\n",
    "    # Sorting Dataset by dates\n",
    "    policies_ct = policies_ct.sort_values(by=['DATE_IMPLEMENTED'])\n",
    "    policies_ct = policies_ct.reset_index(drop=True)\n",
    "\n",
    "    # Deleting Duplicates\n",
    "    policies_ct.drop_duplicates(subset=['COUNTRY', 'CATEGORY', 'MEASURE'], inplace = True)\n",
    "    policies_ct = policies_ct.reset_index(drop=True)\n",
    "    \n",
    "    return(policies_ct)\n",
    "\n",
    "def case_data_country_preprocess(country):\n",
    "    \n",
    "    ## Taking values for a particular country\n",
    "    cases_ct = cases.loc[cases['countriesAndTerritories'] == country]\n",
    "    cases_ct = cases_ct.reset_index(drop=True)\n",
    "\n",
    "    ## Sorting by date\n",
    "    # cases_ct = cases_ct.drop(columns=['dateRep'])\n",
    "    cases_ct = cases_ct.sort_values(by=['Date'],ascending=True)\n",
    "    cases_ct = cases_ct.reset_index(drop=True)\n",
    "    \n",
    "    return(cases_ct)"
   ]
  },
  {
   "cell_type": "markdown",
   "metadata": {},
   "source": [
    "## Preparing Dummy variables for each Category of Measures Taken"
   ]
  },
  {
   "cell_type": "code",
   "execution_count": 78,
   "metadata": {},
   "outputs": [],
   "source": [
    "def create_dummy_variables(policies_ct, cases_ct):\n",
    "    # Defining arrays for each category\n",
    "    Governance_and_socio_economic_measures = np.zeros(len(cases_ct))\n",
    "    Social_distancing = np.zeros(len(cases_ct))\n",
    "    Humanitarian_exemption = np.zeros(len(cases_ct))\n",
    "    Movement_restrictions = np.zeros(len(cases_ct))\n",
    "    Lockdown = np.zeros(len(cases_ct))\n",
    "    Public_health_measures = np.zeros(len(cases_ct))\n",
    "\n",
    "\n",
    "    row_counter = 0\n",
    "    counter_1 = 0\n",
    "    counter_2 = 0\n",
    "    counter_3 = 0\n",
    "    counter_4 = 0\n",
    "    counter_5 = 0\n",
    "    counter_6 = 0\n",
    "    for i in range(0,len(cases_ct)):\n",
    "        k = 0\n",
    "\n",
    "        while(policies_ct['DATE_IMPLEMENTED'][k] <= cases_ct['Date'][i]):\n",
    "            #---------------Block to update the counters for each category-----------------------#\n",
    "            # print(i,k)\n",
    "            if(policies_ct['CATEGORY'][k] == 'Governance and socio-economic measures'):\n",
    "                # Update the category counter\n",
    "                counter_1 += 1\n",
    "                #Populate the row\n",
    "                #Governance_and_socio_economic_measures[row_counter] = counter_1\n",
    "\n",
    "            elif(policies_ct['CATEGORY'][k] == 'Social distancing'):\n",
    "                counter_2 += 1\n",
    "                #Social_distancing[row_counter] = counter_2\n",
    "\n",
    "            elif(policies_ct['CATEGORY'][k] == 'Humanitarian exemption'):\n",
    "                counter_3 += 1\n",
    "                #Humanitarian_exemption[row_counter] = counter_3\n",
    "\n",
    "            elif(policies_ct['CATEGORY'][k] == 'Movement restrictions'):\n",
    "                counter_4 += 1\n",
    "                #Movement_restrictions[row_counter] = counter_4\n",
    "\n",
    "            elif(policies_ct['CATEGORY'][k] == 'Lockdown'):\n",
    "                counter_5 += 1\n",
    "                #Lockdown[row_counter] = counter_5\n",
    "\n",
    "            elif(policies_ct['CATEGORY'][k] == 'Public health measures'):\n",
    "                #print(counter_6)\n",
    "                counter_6 += 1\n",
    "                #Public_health_measures[row_counter] = counter_6\n",
    "            #-------------------------------------xxxxxxxxxxxxxx---------------------------------#\n",
    "\n",
    "            # Update k to check next policy date\n",
    "            if(k < len(policies_ct)-1):\n",
    "                k += 1\n",
    "            else:\n",
    "                break\n",
    "\n",
    "        #----------Update the ith row with counts of each category------------------#    \n",
    "        Governance_and_socio_economic_measures[i] = counter_1\n",
    "        Social_distancing[i] = counter_2\n",
    "        Humanitarian_exemption[i] = counter_3\n",
    "        Movement_restrictions[i] = counter_4\n",
    "        Lockdown[i] = counter_5\n",
    "        Public_health_measures[i] = counter_6\n",
    "        #----------------------xxxxxxxxxxxx------------------------#\n",
    "    cases_ct['Lockdown'] = Lockdown\n",
    "    cases_ct['Public Health Measures'] = Public_health_measures\n",
    "    cases_ct['Governance and socio-economic measures'] = Governance_and_socio_economic_measures\n",
    "    cases_ct['Humanitarian exemption'] = Humanitarian_exemption\n",
    "    cases_ct['Social distancing'] = Social_distancing\n",
    "    cases_ct['Movement restrictions'] = Movement_restrictions\n",
    "    \n",
    "    return(cases_ct)"
   ]
  },
  {
   "cell_type": "markdown",
   "metadata": {},
   "source": [
    "## Main"
   ]
  },
  {
   "cell_type": "code",
   "execution_count": 101,
   "metadata": {},
   "outputs": [],
   "source": [
    "Italy_policy = policy_data_country_preprocess('Italy')\n",
    "Italy_cases = case_data_country_preprocess('Italy')\n",
    "dataset = create_dummy_variables(Italy_policy, Italy_cases)"
   ]
  },
  {
   "cell_type": "code",
   "execution_count": 102,
   "metadata": {},
   "outputs": [],
   "source": [
    "dataset.to_csv('Italy_Covid_Policies.csv')"
   ]
  }
 ],
 "metadata": {
  "kernelspec": {
   "display_name": "Python 3",
   "language": "python",
   "name": "python3"
  },
  "language_info": {
   "codemirror_mode": {
    "name": "ipython",
    "version": 3
   },
   "file_extension": ".py",
   "mimetype": "text/x-python",
   "name": "python",
   "nbconvert_exporter": "python",
   "pygments_lexer": "ipython3",
   "version": "3.6.9"
  }
 },
 "nbformat": 4,
 "nbformat_minor": 2
}
