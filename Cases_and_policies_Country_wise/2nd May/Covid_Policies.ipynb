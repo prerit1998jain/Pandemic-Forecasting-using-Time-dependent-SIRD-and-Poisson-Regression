{
 "cells": [
  {
   "cell_type": "code",
   "execution_count": 27,
   "metadata": {},
   "outputs": [],
   "source": [
    "import numpy as np\n",
    "import pandas as pd"
   ]
  },
  {
   "cell_type": "markdown",
   "metadata": {},
   "source": [
    "## Reading the Government Policy Data"
   ]
  },
  {
   "cell_type": "code",
   "execution_count": 28,
   "metadata": {},
   "outputs": [
    {
     "name": "stderr",
     "output_type": "stream",
     "text": [
      "/home/prerit/anaconda3/lib/python3.6/site-packages/ipykernel_launcher.py:9: SettingWithCopyWarning: \n",
      "A value is trying to be set on a copy of a slice from a DataFrame.\n",
      "Try using .loc[row_indexer,col_indexer] = value instead\n",
      "\n",
      "See the caveats in the documentation: http://pandas.pydata.org/pandas-docs/stable/indexing.html#indexing-view-versus-copy\n",
      "  if __name__ == '__main__':\n"
     ]
    },
    {
     "data": {
      "text/plain": [
       "array(['Afghanistan', 'Albania', 'Algeria', 'Angola',\n",
       "       'Antigua and Barbuda', 'Argentina', 'Armenia', 'Australia',\n",
       "       'Austria', 'Azerbaijan', 'Bahamas', 'Bahrain', 'Bangladesh',\n",
       "       'Barbados', 'Belarus', 'Belgium', 'Belize', 'Benin', 'Bhutan',\n",
       "       'Bolivia', 'Bosnia and Herzegovina', 'Botswana', 'Brazil',\n",
       "       'Brunei Darussalam', 'Bulgaria', 'Burkina Faso', 'Burundi',\n",
       "       'Cabo Verde', 'Cambodia', 'Cameroon', 'Canada',\n",
       "       'Central African Republic', 'Chad', 'Chile', 'China',\n",
       "       'China, Hong Kong Special Administrative Region', 'Colombia',\n",
       "       'Comoros', 'Congo', 'Congo DR', 'Costa Rica', \"Côte d'Ivoire\",\n",
       "       'Croatia', 'Cuba', 'Cyprus', 'Czech Republic', 'Czech republic',\n",
       "       'Denmark', 'Djibouti', 'Dominica', 'Dominican Republic', 'Ecuador',\n",
       "       'Egypt', 'El Salvador', 'Equatorial Guinea', 'Eritrea', 'Estonia',\n",
       "       'Eswatini', 'Ethiopia', 'Fiji', 'Finland', 'France', 'Gabon',\n",
       "       'Gambia', 'Georgia', 'Germany', 'Ghana', 'Greece', 'Grenada',\n",
       "       'Guatemala', 'Guinea', 'Guinea-Bissau', 'Guyana', 'Haiti',\n",
       "       'Honduras', 'Hungary', 'Iceland', 'India', 'Indonesia', 'Iran',\n",
       "       'Iraq', 'Ireland', 'Israel', 'Italy', 'Jamaica', 'Japan', 'Jordan',\n",
       "       'Kazakhstan', 'Kenya', 'kenya', 'Kiribati', 'Korea DPR',\n",
       "       'Korea Republic of', 'Kuwait', 'Kyrgyzstan', 'Lao PDR', 'Latvia',\n",
       "       'Lebanon', 'Lesotho', 'Liberia', 'Libya', 'Liechtenstein',\n",
       "       'Lithuania', 'Luxembourg', 'Madagascar', 'Malawi', 'Malaysia',\n",
       "       'Maldives', 'Mali', 'Malta', 'Marshall Islands', 'Mauritania',\n",
       "       'Mauritius', 'Mexico', 'Micronesia', 'Moldova Republic Of',\n",
       "       'Moldova Republic of', 'Mongolia', 'Montenegro', 'Morocco',\n",
       "       'Mozambique', 'Myanmar', 'Namibia', 'Nauru', 'Nepal',\n",
       "       'Netherlands', 'New Zealand', 'Nicaragua', 'Niger', 'Nigeria',\n",
       "       'North Macedonia Republic Of', 'Norway', 'Oman', 'Pakistan',\n",
       "       'Palau', 'Palestine', 'Panama', 'Papua New Guinea', 'Paraguay',\n",
       "       'Peru', 'Philippines', 'Poland', 'Portugal', 'Qatar', 'Romania',\n",
       "       'Russian Federation', 'Rwanda', 'Saint Kitts and Nevis',\n",
       "       'Saint Lucia', 'Saint Vincent and the Grenadines', 'Samoa',\n",
       "       'San Marino', 'Sao Tome and Principe', 'Saudi Arabia', 'Senegal',\n",
       "       'Serbia', 'Seychelles', 'Sierra Leone', 'Singapore', 'Slovakia',\n",
       "       'Slovenia', 'Solomon Islands', 'Somalia', 'South Africa',\n",
       "       'South Sudan', 'Spain', 'Sri Lanka', 'Sudan', 'Suriname', 'Sweden',\n",
       "       'Switzerland', 'Syria', 'Tajikistan', 'Tanzania', 'Thailand',\n",
       "       'Timor-Leste', 'Togo', 'Tonga', 'Trinidad and Tobago', 'Tunisia',\n",
       "       'Turkey', 'Turkmenistan', 'Tuvalu', 'Uganda', 'Ukraine',\n",
       "       'United Arab Emirates', 'United Kingdom',\n",
       "       'United States of America', 'Uruguay', 'Uzbekistan', 'Vanuatu',\n",
       "       'Venezuela', 'Viet Nam', 'Yemen', 'Zambia', 'Zimbabwe'],\n",
       "      dtype=object)"
      ]
     },
     "execution_count": 28,
     "metadata": {},
     "output_type": "execute_result"
    }
   ],
   "source": [
    "# Reading the Government Policies dataset\n",
    "policy_data = pd.read_excel('Government_Policy.xlsx')\n",
    "\n",
    "# Preparing a dataFrame of relevant information from the whole file\n",
    "policies = policy_data[['COUNTRY', 'CATEGORY', 'MEASURE', 'DATE_IMPLEMENTED']]\n",
    "\n",
    "# Adding dates in the desired format in the dataset\n",
    "policy_dates = pd.to_datetime(policies['DATE_IMPLEMENTED'],format='%Y-%m-%d').dt.date\n",
    "policies['DATE_IMPLEMENTED'] = policy_dates\n",
    "\n",
    "(policies.COUNTRY.unique())"
   ]
  },
  {
   "cell_type": "code",
   "execution_count": 29,
   "metadata": {},
   "outputs": [
    {
     "name": "stdout",
     "output_type": "stream",
     "text": [
      "<class 'pandas.core.frame.DataFrame'>\n",
      "RangeIndex: 8294 entries, 0 to 8293\n",
      "Data columns (total 18 columns):\n",
      "ID                    8294 non-null int64\n",
      "COUNTRY               8294 non-null object\n",
      "ISO                   8294 non-null object\n",
      "ADMIN_LEVEL_NAME      764 non-null object\n",
      "PCODE                 0 non-null float64\n",
      "REGION                8294 non-null object\n",
      "LOG_TYPE              8294 non-null object\n",
      "CATEGORY              8294 non-null object\n",
      "MEASURE               8294 non-null object\n",
      "TARGETED_POP_GROUP    8294 non-null object\n",
      "COMMENTS              8153 non-null object\n",
      "NON_COMPLIANCE        7085 non-null object\n",
      "DATE_IMPLEMENTED      8073 non-null datetime64[ns]\n",
      "SOURCE                8278 non-null object\n",
      "SOURCE_TYPE           8281 non-null object\n",
      "LINK                  8263 non-null object\n",
      "ENTRY_DATE            8294 non-null datetime64[ns]\n",
      "Alternative source    765 non-null object\n",
      "dtypes: datetime64[ns](2), float64(1), int64(1), object(14)\n",
      "memory usage: 1.1+ MB\n"
     ]
    }
   ],
   "source": [
    "policy_data.info()"
   ]
  },
  {
   "cell_type": "markdown",
   "metadata": {},
   "source": [
    "## Reading the COVID 19 Cases Data"
   ]
  },
  {
   "cell_type": "code",
   "execution_count": 30,
   "metadata": {},
   "outputs": [
    {
     "data": {
      "text/plain": [
       "array(['Afghanistan', 'Albania', 'Algeria', 'Andorra', 'Angola',\n",
       "       'Anguilla', 'Antigua and Barbuda', 'Argentina', 'Armenia', 'Aruba',\n",
       "       'Australia', 'Austria', 'Azerbaijan', 'Bahamas', 'Bahrain',\n",
       "       'Bangladesh', 'Barbados', 'Belarus', 'Belgium', 'Belize', 'Benin',\n",
       "       'Bermuda', 'Bhutan', 'Bolivia', 'Bonaire Sint Eustatius and Saba',\n",
       "       'Bosnia and Herzegovina', 'Botswana', 'Brazil',\n",
       "       'British Virgin Islands', 'Brunei', 'Bulgaria', 'Burkina Faso',\n",
       "       'Burundi', 'Cambodia', 'Cameroon', 'Canada', 'Cape Verde',\n",
       "       'Cayman Islands', 'Central African Republic', 'Chad', 'Chile',\n",
       "       'China', 'Colombia', 'Comoros', 'Congo', 'Costa Rica',\n",
       "       \"Cote d'Ivoire\", 'Croatia', 'Cuba', 'Curacao', 'Cyprus',\n",
       "       'Czech Republic', 'Democratic Republic of Congo', 'Denmark',\n",
       "       'Djibouti', 'Dominica', 'Dominican Republic', 'Ecuador', 'Egypt',\n",
       "       'El Salvador', 'Equatorial Guinea', 'Eritrea', 'Estonia',\n",
       "       'Ethiopia', 'Faeroe Islands', 'Falkland Islands', 'Fiji',\n",
       "       'Finland', 'France', 'French Polynesia', 'Gabon', 'Gambia',\n",
       "       'Georgia', 'Germany', 'Ghana', 'Gibraltar', 'Greece', 'Greenland',\n",
       "       'Grenada', 'Guam', 'Guatemala', 'Guernsey', 'Guinea',\n",
       "       'Guinea-Bissau', 'Guyana', 'Haiti', 'Honduras', 'Hungary',\n",
       "       'Iceland', 'India', 'Indonesia', 'International', 'Iran', 'Iraq',\n",
       "       'Ireland', 'Isle of Man', 'Israel', 'Italy', 'Jamaica', 'Japan',\n",
       "       'Jersey', 'Jordan', 'Kazakhstan', 'Kenya', 'Kosovo', 'Kuwait',\n",
       "       'Kyrgyzstan', 'Laos', 'Latvia', 'Lebanon', 'Liberia', 'Libya',\n",
       "       'Liechtenstein', 'Lithuania', 'Luxembourg', 'Macedonia',\n",
       "       'Madagascar', 'Malawi', 'Malaysia', 'Maldives', 'Mali', 'Malta',\n",
       "       'Mauritania', 'Mauritius', 'Mexico', 'Moldova', 'Monaco',\n",
       "       'Mongolia', 'Montenegro', 'Montserrat', 'Morocco', 'Mozambique',\n",
       "       'Myanmar', 'Namibia', 'Nepal', 'Netherlands', 'New Caledonia',\n",
       "       'New Zealand', 'Nicaragua', 'Niger', 'Nigeria',\n",
       "       'Northern Mariana Islands', 'Norway', 'Oman', 'Pakistan',\n",
       "       'Palestine', 'Panama', 'Papua New Guinea', 'Paraguay', 'Peru',\n",
       "       'Philippines', 'Poland', 'Portugal', 'Puerto Rico', 'Qatar',\n",
       "       'Romania', 'Russia', 'Rwanda', 'Saint Kitts and Nevis',\n",
       "       'Saint Lucia', 'Saint Vincent and the Grenadines', 'San Marino',\n",
       "       'Sao Tome and Principe', 'Saudi Arabia', 'Senegal', 'Serbia',\n",
       "       'Seychelles', 'Sierra Leone', 'Singapore',\n",
       "       'Sint Maarten (Dutch part)', 'Slovakia', 'Slovenia', 'Somalia',\n",
       "       'South Africa', 'South Korea', 'South Sudan', 'Spain', 'Sri Lanka',\n",
       "       'Sudan', 'Suriname', 'Swaziland', 'Sweden', 'Switzerland', 'Syria',\n",
       "       'Taiwan', 'Tajikistan', 'Tanzania', 'Thailand', 'Timor', 'Togo',\n",
       "       'Trinidad and Tobago', 'Tunisia', 'Turkey',\n",
       "       'Turks and Caicos Islands', 'Uganda', 'Ukraine',\n",
       "       'United Arab Emirates', 'United Kingdom', 'United States',\n",
       "       'United States Virgin Islands', 'Uruguay', 'Uzbekistan', 'Vatican',\n",
       "       'Venezuela', 'Vietnam', 'Western Sahara', 'World', 'Yemen',\n",
       "       'Zambia', 'Zimbabwe'], dtype=object)"
      ]
     },
     "execution_count": 30,
     "metadata": {},
     "output_type": "execute_result"
    }
   ],
   "source": [
    "## Reading the dataset\n",
    "cases = pd.read_csv('full_data.csv')\n",
    "\n",
    "## Adding Dates in the desired format in the dataset\n",
    "dates = pd.to_datetime(cases['date'], format = '%Y-%m-%d').dt.date\n",
    "cases['Date'] = dates\n",
    "\n",
    "(cases.location.unique())"
   ]
  },
  {
   "cell_type": "markdown",
   "metadata": {},
   "source": [
    "## Preprocessing Functions"
   ]
  },
  {
   "cell_type": "code",
   "execution_count": 31,
   "metadata": {},
   "outputs": [],
   "source": [
    "def policy_data_country_preprocess(country):\n",
    "\n",
    "    # Pulling out data for a particular country\n",
    "    policies_ct = policies.loc[policies['COUNTRY'] == country]\n",
    "    policies_ct = policies_ct.reset_index(drop=True)\n",
    "\n",
    "    # Sorting Dataset by dates\n",
    "    policies_ct = policies_ct.sort_values(by=['DATE_IMPLEMENTED'])\n",
    "    policies_ct = policies_ct.reset_index(drop=True)\n",
    "\n",
    "    # Deleting Duplicates\n",
    "    policies_ct.drop_duplicates(subset=['COUNTRY', 'CATEGORY', 'MEASURE'], inplace = True)\n",
    "    policies_ct = policies_ct.reset_index(drop=True)\n",
    "    \n",
    "    return(policies_ct)\n",
    "\n",
    "def case_data_country_preprocess(country):\n",
    "    \n",
    "    ## Taking values for a particular country\n",
    "    cases_ct = cases.loc[cases['location'] == country]\n",
    "    cases_ct = cases_ct.reset_index(drop=True)\n",
    "\n",
    "    ## Sorting by date\n",
    "    # cases_ct = cases_ct.drop(columns=['dateRep'])\n",
    "    cases_ct = cases_ct.sort_values(by=['Date'],ascending=True)\n",
    "    cases_ct = cases_ct.reset_index(drop=True)\n",
    "    \n",
    "    return(cases_ct)"
   ]
  },
  {
   "cell_type": "code",
   "execution_count": null,
   "metadata": {},
   "outputs": [],
   "source": []
  },
  {
   "cell_type": "markdown",
   "metadata": {},
   "source": [
    "## Preparing Dummy variables for each Category of Measures Taken"
   ]
  },
  {
   "cell_type": "code",
   "execution_count": 53,
   "metadata": {},
   "outputs": [],
   "source": [
    "def create_dummy_variables(policies_ct, cases_ct):\n",
    "    # Defining arrays for each category\n",
    "    Governance_and_socio_economic_measures = np.zeros(len(cases_ct))\n",
    "    Social_distancing = np.zeros(len(cases_ct))\n",
    "    Humanitarian_exemption = np.zeros(len(cases_ct))\n",
    "    Movement_restrictions = np.zeros(len(cases_ct))\n",
    "    Lockdown = np.zeros(len(cases_ct))\n",
    "    Public_health_measures = np.zeros(len(cases_ct))\n",
    "\n",
    "\n",
    "    row_counter = 0\n",
    "    counter_1 = 0\n",
    "    counter_2 = 0\n",
    "    counter_3 = 0\n",
    "    counter_4 = 0\n",
    "    counter_5 = 0\n",
    "    counter_6 = 0\n",
    "    for i in range(0,len(cases_ct)):\n",
    "        k = 0\n",
    "\n",
    "        while(policies_ct['DATE_IMPLEMENTED'][k] <= cases_ct['Date'][i]):\n",
    "            #---------------Block to update the counters for each category-----------------------#\n",
    "            # print(i,k)\n",
    "            if(policies_ct['CATEGORY'][k] == 'Governance and socio-economic measures'):\n",
    "                # Update the category counter\n",
    "                counter_1 += 1\n",
    "                #Populate the row\n",
    "                #Governance_and_socio_economic_measures[row_counter] = counter_1\n",
    "\n",
    "            elif(policies_ct['CATEGORY'][k] == 'Social distancing'):\n",
    "                counter_2 += 1\n",
    "                #Social_distancing[row_counter] = counter_2\n",
    "\n",
    "            elif(policies_ct['CATEGORY'][k] == 'Humanitarian exemption'):\n",
    "                counter_3 += 1\n",
    "                #Humanitarian_exemption[row_counter] = counter_3\n",
    "\n",
    "            elif(policies_ct['CATEGORY'][k] == 'Movement restrictions'):\n",
    "                counter_4 += 1\n",
    "                #Movement_restrictions[row_counter] = counter_4\n",
    "\n",
    "            elif(policies_ct['CATEGORY'][k] == 'Lockdown'):\n",
    "                counter_5 += 1\n",
    "                #Lockdown[row_counter] = counter_5\n",
    "\n",
    "            elif(policies_ct['CATEGORY'][k] == 'Public health measures'):\n",
    "                #print(counter_6)\n",
    "                counter_6 += 1\n",
    "                #Public_health_measures[row_counter] = counter_6\n",
    "            #-------------------------------------xxxxxxxxxxxxxx---------------------------------#\n",
    "\n",
    "            # Update k to check next policy date\n",
    "            if(k < len(policies_ct)-1):\n",
    "                k += 1\n",
    "            else:\n",
    "                break\n",
    "\n",
    "        #----------Update the ith row with counts of each category------------------#    \n",
    "        Governance_and_socio_economic_measures[i] = counter_1\n",
    "        Social_distancing[i] = counter_2\n",
    "        Humanitarian_exemption[i] = counter_3\n",
    "        Movement_restrictions[i] = counter_4\n",
    "        Lockdown[i] = counter_5\n",
    "        Public_health_measures[i] = counter_6\n",
    "        #----------------------xxxxxxxxxxxx------------------------#\n",
    "    cases_ct['Lockdown'] = Lockdown\n",
    "    cases_ct['Public_Health'] = Public_health_measures\n",
    "    cases_ct['Governance_and_socio-economic'] = Governance_and_socio_economic_measures\n",
    "    cases_ct['Humanitarian_exemption'] = Humanitarian_exemption\n",
    "    cases_ct['Social_distancing'] = Social_distancing\n",
    "    cases_ct['Movement_restrictions'] = Movement_restrictions\n",
    "    \n",
    "    return(cases_ct)"
   ]
  },
  {
   "cell_type": "markdown",
   "metadata": {},
   "source": [
    "## Main"
   ]
  },
  {
   "cell_type": "code",
   "execution_count": 70,
   "metadata": {},
   "outputs": [],
   "source": [
    "Italy_policy = policy_data_country_preprocess('Switzerland')\n",
    "Italy_cases = case_data_country_preprocess('Switzerland')\n",
    "dataset = create_dummy_variables(Italy_policy, Italy_cases)"
   ]
  },
  {
   "cell_type": "code",
   "execution_count": 71,
   "metadata": {},
   "outputs": [],
   "source": [
    "dataset.to_csv('Switzerland_Covid_Policies.csv')"
   ]
  }
 ],
 "metadata": {
  "kernelspec": {
   "display_name": "Python 3",
   "language": "python",
   "name": "python3"
  },
  "language_info": {
   "codemirror_mode": {
    "name": "ipython",
    "version": 3
   },
   "file_extension": ".py",
   "mimetype": "text/x-python",
   "name": "python",
   "nbconvert_exporter": "python",
   "pygments_lexer": "ipython3",
   "version": "3.6.9"
  }
 },
 "nbformat": 4,
 "nbformat_minor": 2
}
