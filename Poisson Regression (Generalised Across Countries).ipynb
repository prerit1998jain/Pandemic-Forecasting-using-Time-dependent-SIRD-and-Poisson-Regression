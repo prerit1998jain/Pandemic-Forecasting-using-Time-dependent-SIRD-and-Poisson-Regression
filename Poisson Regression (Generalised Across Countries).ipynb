{
 "cells": [
  {
   "cell_type": "code",
   "execution_count": 41,
   "metadata": {},
   "outputs": [],
   "source": [
    "import numpy as np\n",
    "import pandas as pd"
   ]
  },
  {
   "cell_type": "markdown",
   "metadata": {},
   "source": [
    "# Reading the Datasets"
   ]
  },
  {
   "cell_type": "code",
   "execution_count": 42,
   "metadata": {
    "scrolled": false
   },
   "outputs": [],
   "source": [
    "# Reading the dataset\n",
    "India = pd.read_csv('Full Dataset/India_Covid.csv')\n",
    "USA = pd.read_csv('Full Dataset/USA_Covid.csv')\n",
    "UK = pd.read_csv('Full Dataset/UK_Covid.csv')\n",
    "Italy = pd.read_csv('Full Dataset/Italy_Covid.csv')\n",
    "Belgium = pd.read_csv('Full Dataset/Belgium_Covid.csv')\n",
    "France = pd.read_csv('Full Dataset/France_Covid.csv')\n",
    "S_korea = pd.read_csv('Full Dataset/South_Korea_Covid.csv')"
   ]
  },
  {
   "cell_type": "markdown",
   "metadata": {},
   "source": [
    "# Keeping the Dataset after the cases arrived"
   ]
  },
  {
   "cell_type": "code",
   "execution_count": 77,
   "metadata": {},
   "outputs": [],
   "source": [
    "def create_cumm(df):\n",
    "    y = np.zeros(len(df))\n",
    "    x = np.array(df.cases)\n",
    "    y[0]=x[0]\n",
    "    for i in range(1,len(df)):\n",
    "        y[i] = y[i-1]+x[i]\n",
    "    df['cumm_cases'] = y\n",
    "    return(df)"
   ]
  },
  {
   "cell_type": "code",
   "execution_count": 78,
   "metadata": {},
   "outputs": [],
   "source": [
    "India = create_cumm(India)\n",
    "USA = create_cumm(USA)\n",
    "UK = create_cumm(UK)\n",
    "Italy = create_cumm(Italy)\n",
    "Belgium = create_cumm(Belgium)\n",
    "France = create_cumm(France)\n",
    "S_korea = create_cumm(S_korea)"
   ]
  },
  {
   "cell_type": "code",
   "execution_count": 79,
   "metadata": {},
   "outputs": [],
   "source": [
    "India_updated = India[India['cumm_cases']>0]\n",
    "USA_updated = USA[USA['cumm_cases']>0]\n",
    "UK_updated = UK[UK['cumm_cases']>0]\n",
    "Italy_updated = Italy[Italy['cumm_cases']>0]\n",
    "Belgium_updated = Belgium[Belgium['cumm_cases']>0]\n",
    "France_updated = France[France['cumm_cases']>0]\n",
    "S_korea_updated = S_korea[S_korea['cumm_cases']>0]"
   ]
  },
  {
   "cell_type": "markdown",
   "metadata": {},
   "source": [
    "# Adding Stage Column for Countries"
   ]
  },
  {
   "cell_type": "code",
   "execution_count": 82,
   "metadata": {},
   "outputs": [
    {
     "data": {
      "text/html": [
       "<div>\n",
       "<style scoped>\n",
       "    .dataframe tbody tr th:only-of-type {\n",
       "        vertical-align: middle;\n",
       "    }\n",
       "\n",
       "    .dataframe tbody tr th {\n",
       "        vertical-align: top;\n",
       "    }\n",
       "\n",
       "    .dataframe thead th {\n",
       "        text-align: right;\n",
       "    }\n",
       "</style>\n",
       "<table border=\"1\" class=\"dataframe\">\n",
       "  <thead>\n",
       "    <tr style=\"text-align: right;\">\n",
       "      <th></th>\n",
       "      <th>Date</th>\n",
       "      <th>day</th>\n",
       "      <th>month</th>\n",
       "      <th>year</th>\n",
       "      <th>popData2018</th>\n",
       "      <th>Daily_total_tests</th>\n",
       "      <th>Daily_tests_per_thousand</th>\n",
       "      <th>tests_per_thousand</th>\n",
       "      <th>cases</th>\n",
       "      <th>deaths</th>\n",
       "      <th>Lockdown</th>\n",
       "      <th>Public_Health</th>\n",
       "      <th>Governance_and_socioeconomic</th>\n",
       "      <th>Humanitarian_exemption</th>\n",
       "      <th>Social_distancing</th>\n",
       "      <th>Movement_restrictions</th>\n",
       "      <th>cumm_cases</th>\n",
       "    </tr>\n",
       "  </thead>\n",
       "  <tbody>\n",
       "    <tr>\n",
       "      <th>30</th>\n",
       "      <td>2020-01-30</td>\n",
       "      <td>30</td>\n",
       "      <td>1</td>\n",
       "      <td>2020</td>\n",
       "      <td>1352617328</td>\n",
       "      <td>1.0</td>\n",
       "      <td>0.0</td>\n",
       "      <td>0.0</td>\n",
       "      <td>1</td>\n",
       "      <td>0</td>\n",
       "      <td>0</td>\n",
       "      <td>12</td>\n",
       "      <td>0</td>\n",
       "      <td>0</td>\n",
       "      <td>0</td>\n",
       "      <td>0</td>\n",
       "      <td>1.0</td>\n",
       "    </tr>\n",
       "    <tr>\n",
       "      <th>31</th>\n",
       "      <td>2020-01-31</td>\n",
       "      <td>31</td>\n",
       "      <td>1</td>\n",
       "      <td>2020</td>\n",
       "      <td>1352617328</td>\n",
       "      <td>0.0</td>\n",
       "      <td>0.0</td>\n",
       "      <td>0.0</td>\n",
       "      <td>0</td>\n",
       "      <td>0</td>\n",
       "      <td>0</td>\n",
       "      <td>14</td>\n",
       "      <td>0</td>\n",
       "      <td>0</td>\n",
       "      <td>0</td>\n",
       "      <td>0</td>\n",
       "      <td>1.0</td>\n",
       "    </tr>\n",
       "    <tr>\n",
       "      <th>32</th>\n",
       "      <td>2020-02-01</td>\n",
       "      <td>1</td>\n",
       "      <td>2</td>\n",
       "      <td>2020</td>\n",
       "      <td>1352617328</td>\n",
       "      <td>0.0</td>\n",
       "      <td>0.0</td>\n",
       "      <td>0.0</td>\n",
       "      <td>0</td>\n",
       "      <td>0</td>\n",
       "      <td>0</td>\n",
       "      <td>16</td>\n",
       "      <td>0</td>\n",
       "      <td>0</td>\n",
       "      <td>0</td>\n",
       "      <td>0</td>\n",
       "      <td>1.0</td>\n",
       "    </tr>\n",
       "    <tr>\n",
       "      <th>33</th>\n",
       "      <td>2020-02-02</td>\n",
       "      <td>2</td>\n",
       "      <td>2</td>\n",
       "      <td>2020</td>\n",
       "      <td>1352617328</td>\n",
       "      <td>1.0</td>\n",
       "      <td>0.0</td>\n",
       "      <td>0.0</td>\n",
       "      <td>1</td>\n",
       "      <td>0</td>\n",
       "      <td>0</td>\n",
       "      <td>18</td>\n",
       "      <td>0</td>\n",
       "      <td>0</td>\n",
       "      <td>0</td>\n",
       "      <td>0</td>\n",
       "      <td>2.0</td>\n",
       "    </tr>\n",
       "    <tr>\n",
       "      <th>34</th>\n",
       "      <td>2020-02-03</td>\n",
       "      <td>3</td>\n",
       "      <td>2</td>\n",
       "      <td>2020</td>\n",
       "      <td>1352617328</td>\n",
       "      <td>0.0</td>\n",
       "      <td>0.0</td>\n",
       "      <td>0.0</td>\n",
       "      <td>0</td>\n",
       "      <td>0</td>\n",
       "      <td>0</td>\n",
       "      <td>20</td>\n",
       "      <td>0</td>\n",
       "      <td>0</td>\n",
       "      <td>0</td>\n",
       "      <td>0</td>\n",
       "      <td>2.0</td>\n",
       "    </tr>\n",
       "  </tbody>\n",
       "</table>\n",
       "</div>"
      ],
      "text/plain": [
       "          Date  day  month  year  popData2018  Daily_total_tests  \\\n",
       "30  2020-01-30   30      1  2020   1352617328                1.0   \n",
       "31  2020-01-31   31      1  2020   1352617328                0.0   \n",
       "32  2020-02-01    1      2  2020   1352617328                0.0   \n",
       "33  2020-02-02    2      2  2020   1352617328                1.0   \n",
       "34  2020-02-03    3      2  2020   1352617328                0.0   \n",
       "\n",
       "    Daily_tests_per_thousand  tests_per_thousand  cases  deaths  Lockdown  \\\n",
       "30                       0.0                 0.0      1       0         0   \n",
       "31                       0.0                 0.0      0       0         0   \n",
       "32                       0.0                 0.0      0       0         0   \n",
       "33                       0.0                 0.0      1       0         0   \n",
       "34                       0.0                 0.0      0       0         0   \n",
       "\n",
       "    Public_Health  Governance_and_socioeconomic  Humanitarian_exemption  \\\n",
       "30             12                             0                       0   \n",
       "31             14                             0                       0   \n",
       "32             16                             0                       0   \n",
       "33             18                             0                       0   \n",
       "34             20                             0                       0   \n",
       "\n",
       "    Social_distancing  Movement_restrictions  cumm_cases  \n",
       "30                  0                      0         1.0  \n",
       "31                  0                      0         1.0  \n",
       "32                  0                      0         1.0  \n",
       "33                  0                      0         2.0  \n",
       "34                  0                      0         2.0  "
      ]
     },
     "execution_count": 82,
     "metadata": {},
     "output_type": "execute_result"
    }
   ],
   "source": [
    "l = len(India)\n",
    "Stage = []\n",
    "for i in range(l):\n",
    "    if()"
   ]
  },
  {
   "cell_type": "code",
   "execution_count": 46,
   "metadata": {},
   "outputs": [],
   "source": [
    "countries = ['India', 'USA', 'UK', 'Italy', 'Belgium', 'France', 'S_korea']\n",
    "Country = []\n",
    "for j in countries:\n",
    "    for i in range(101):\n",
    "        Country.append(j)\n",
    "        \n",
    "frames = [India, USA, UK, Italy, Belgium, France, S_korea]\n",
    "data = pd.concat(frames)\n",
    "\n",
    "x = np.arange(707)\n",
    "data['index'] = x\n",
    "data = data.set_index('index')"
   ]
  },
  {
   "cell_type": "code",
   "execution_count": 57,
   "metadata": {},
   "outputs": [],
   "source": [
    "dummy = pd.get_dummies(data['Country'])"
   ]
  },
  {
   "cell_type": "code",
   "execution_count": 61,
   "metadata": {},
   "outputs": [],
   "source": [
    "data = pd.concat([data,dummy], axis = 1)"
   ]
  },
  {
   "cell_type": "code",
   "execution_count": null,
   "metadata": {},
   "outputs": [],
   "source": []
  }
 ],
 "metadata": {
  "kernelspec": {
   "display_name": "Python 3",
   "language": "python",
   "name": "python3"
  },
  "language_info": {
   "codemirror_mode": {
    "name": "ipython",
    "version": 3
   },
   "file_extension": ".py",
   "mimetype": "text/x-python",
   "name": "python",
   "nbconvert_exporter": "python",
   "pygments_lexer": "ipython3",
   "version": "3.6.9"
  }
 },
 "nbformat": 4,
 "nbformat_minor": 2
}
