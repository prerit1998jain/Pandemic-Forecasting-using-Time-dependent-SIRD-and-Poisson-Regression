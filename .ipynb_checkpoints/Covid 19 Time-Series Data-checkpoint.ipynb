{
 "cells": [
  {
   "cell_type": "code",
   "execution_count": 93,
   "metadata": {},
   "outputs": [],
   "source": [
    "# Importing Packages\n",
    "\n",
    "import pandas as pd\n",
    "from patsy import dmatrices\n",
    "import numpy as np\n",
    "import statsmodels.api as sm\n",
    "import matplotlib.pyplot as plt"
   ]
  },
  {
   "cell_type": "code",
   "execution_count": 94,
   "metadata": {
    "scrolled": true
   },
   "outputs": [],
   "source": [
    "# Reading the dataset\n",
    "data = pd.read_csv('Country-wise_data_testing_information/India_data.csv')\n",
    "\n",
    "# Converting the datatype of dates to datetime\n",
    "dates = pd.to_datetime(data['dateRep'], format = '%d-%m-%Y')\n",
    "\n",
    "# Adding dates to the dataframe\n",
    "data['Date'] = dates\n",
    "\n",
    "# Removing the original object datatype\n",
    "# data = data.drop(labels = ['day'], axis = 1)"
   ]
  },
  {
   "cell_type": "code",
   "execution_count": 95,
   "metadata": {
    "scrolled": false
   },
   "outputs": [
    {
     "name": "stdout",
     "output_type": "stream",
     "text": [
      "<class 'pandas.core.frame.DataFrame'>\n",
      "RangeIndex: 101 entries, 0 to 100\n",
      "Data columns (total 14 columns):\n",
      "dateRep                     101 non-null object\n",
      "day                         101 non-null int64\n",
      "month                       101 non-null int64\n",
      "year                        101 non-null int64\n",
      "cases                       101 non-null int64\n",
      "deaths                      101 non-null int64\n",
      "countriesAndTerritories     101 non-null object\n",
      "geoId                       101 non-null object\n",
      "countryterritoryCode        101 non-null object\n",
      "popData2018                 101 non-null int64\n",
      "Daily_tests                 101 non-null float64\n",
      "Daily_tests_per_thousand    101 non-null float64\n",
      "Cum_tests_per_thousand      101 non-null float64\n",
      "Date                        101 non-null datetime64[ns]\n",
      "dtypes: datetime64[ns](1), float64(3), int64(6), object(4)\n",
      "memory usage: 11.1+ KB\n"
     ]
    }
   ],
   "source": [
    "data.info()"
   ]
  },
  {
   "cell_type": "code",
   "execution_count": 96,
   "metadata": {},
   "outputs": [],
   "source": [
    "# To separate country-wise data, grouping by Country name\n",
    "grouped = data.groupby('countriesAndTerritories')"
   ]
  },
  {
   "cell_type": "code",
   "execution_count": 97,
   "metadata": {},
   "outputs": [],
   "source": [
    "# Dataset Preprocessing before running the model\n",
    "def dataset_preprocess(df):\n",
    "    \n",
    "    # Setting date as the index of the dataframe\n",
    "    df = df.set_index('Date')\n",
    "    \n",
    "    # Creating different columns with regressor variables\n",
    "#     ds = df.index.to_series()\n",
    "#     df['Day'] = ds.dt.day\n",
    "#     df['Month'] = ds.dt.month\n",
    "#     df['Weekday'] = ds.dt.dayofweek\n",
    "#     df['Year'] = ds.dt.year\n",
    "    \n",
    "    # Dropping the text columns which have same entries at each row\n",
    "    df = df.drop(['countriesAndTerritories', 'geoId', 'dateRep', 'countryterritoryCode'], axis = 1)\n",
    "    df = df.drop(df.index[len(df)-1])\n",
    "    \n",
    "    #return the dataframe\n",
    "    return(df)"
   ]
  },
  {
   "cell_type": "code",
   "execution_count": 98,
   "metadata": {
    "scrolled": false
   },
   "outputs": [
    {
     "data": {
      "text/plain": [
       "countriesAndTerritories\n",
       "India    [India]\n",
       "Name: countriesAndTerritories, dtype: object"
      ]
     },
     "execution_count": 98,
     "metadata": {},
     "output_type": "execute_result"
    }
   ],
   "source": [
    "grouped.countriesAndTerritories.unique()"
   ]
  },
  {
   "cell_type": "code",
   "execution_count": null,
   "metadata": {},
   "outputs": [],
   "source": []
  },
  {
   "cell_type": "code",
   "execution_count": 99,
   "metadata": {},
   "outputs": [],
   "source": [
    "## Isolating the datasets for different countries into different dataframes\n",
    "India = pd.DataFrame((grouped.get_group('India')))\n",
    "# USA = pd.DataFrame( (grouped.get_group('United_States_of_America'))) \n",
    "# Italy = pd.DataFrame((grouped.get_group('Italy')))\n",
    "# Spain = pd.DataFrame((grouped.get_group('Spain')))\n",
    "# Germany = pd.DataFrame(grouped.get_group('Germany'))\n",
    "# France = pd.DataFrame(grouped.get_group('France'))\n",
    "# China = pd.DataFrame(grouped.get_group('China'))\n",
    "# S_korea = pd.DataFrame(grouped.get_group('South_Korea'))"
   ]
  },
  {
   "cell_type": "code",
   "execution_count": 100,
   "metadata": {
    "scrolled": false
   },
   "outputs": [],
   "source": [
    "# Preprocessing Datasets\n",
    "\n",
    "# USA_updated = dataset_preprocess(USA)\n",
    "# Italy_updated = dataset_preprocess(Italy)\n",
    "# Spain_updated = dataset_preprocess(Spain)\n",
    "# Germany_updated = dataset_preprocess(Germany)\n",
    "# France_updated = dataset_preprocess(France)\n",
    "# China_updated = dataset_preprocess(China)\n",
    "# S_korea_updated = dataset_preprocess(S_korea)\n",
    "India_updated = dataset_preprocess(India)"
   ]
  },
  {
   "cell_type": "code",
   "execution_count": 101,
   "metadata": {
    "scrolled": true
   },
   "outputs": [
    {
     "name": "stdout",
     "output_type": "stream",
     "text": [
      "<class 'pandas.core.frame.DataFrame'>\n",
      "DatetimeIndex: 100 entries, 2019-12-31 to 2020-04-09\n",
      "Data columns (total 9 columns):\n",
      "day                         100 non-null int64\n",
      "month                       100 non-null int64\n",
      "year                        100 non-null int64\n",
      "cases                       100 non-null int64\n",
      "deaths                      100 non-null int64\n",
      "popData2018                 100 non-null int64\n",
      "Daily_tests                 100 non-null float64\n",
      "Daily_tests_per_thousand    100 non-null float64\n",
      "Cum_tests_per_thousand      100 non-null float64\n",
      "dtypes: float64(3), int64(6)\n",
      "memory usage: 7.8 KB\n"
     ]
    }
   ],
   "source": [
    "India_updated.info()"
   ]
  },
  {
   "cell_type": "code",
   "execution_count": 90,
   "metadata": {},
   "outputs": [],
   "source": [
    "# Plotting the Confirmed Cases with Date\n",
    "import matplotlib.pyplot as plt\n",
    "import seaborn as sns\n",
    "\n",
    "def plot_data(df, label):\n",
    "    sns.set(rc = {'figure.figsize':(11,4)})\n",
    "    df[label].plot(linewidth = 3, color = 'purple')"
   ]
  },
  {
   "cell_type": "code",
   "execution_count": null,
   "metadata": {},
   "outputs": [],
   "source": []
  },
  {
   "cell_type": "code",
   "execution_count": 91,
   "metadata": {
    "scrolled": false
   },
   "outputs": [
    {
     "data": {
      "image/png": "[encoded data removed]",
      "text/plain": [
       "<Figure size 792x288 with 1 Axes>"
      ]
     },
     "metadata": {},
     "output_type": "display_data"
    }
   ],
   "source": [
    "plot_data(India_updated, 'cases')"
   ]
  },
  {
   "cell_type": "code",
   "execution_count": 56,
   "metadata": {
    "scrolled": true
   },
   "outputs": [
    {
     "data": {
      "image/png": "[encoded data removed]",
      "text/plain": [
       "<Figure size 792x288 with 1 Axes>"
      ]
     },
     "metadata": {},
     "output_type": "display_data"
    }
   ],
   "source": [
    "plot_data(China_updated, 'cases')"
   ]
  },
  {
   "cell_type": "code",
   "execution_count": 57,
   "metadata": {},
   "outputs": [
    {
     "data": {
      "image/png": "[encoded data removed]",
      "text/plain": [
       "<Figure size 792x288 with 1 Axes>"
      ]
     },
     "metadata": {},
     "output_type": "display_data"
    }
   ],
   "source": [
    "plot_data(Italy_updated, 'cases')"
   ]
  },
  {
   "cell_type": "code",
   "execution_count": 58,
   "metadata": {
    "scrolled": true
   },
   "outputs": [
    {
     "data": {
      "image/png": "[encoded data removed]",
      "text/plain": [
       "<Figure size 792x288 with 1 Axes>"
      ]
     },
     "metadata": {},
     "output_type": "display_data"
    }
   ],
   "source": [
    "plot_data(France_updated, 'cases')"
   ]
  },
  {
   "cell_type": "code",
   "execution_count": 59,
   "metadata": {},
   "outputs": [
    {
     "data": {
      "image/png": "[encoded data removed]",
      "text/plain": [
       "<Figure size 792x288 with 1 Axes>"
      ]
     },
     "metadata": {},
     "output_type": "display_data"
    }
   ],
   "source": [
    "plot_data(Germany_updated, 'cases')"
   ]
  },
  {
   "cell_type": "code",
   "execution_count": 60,
   "metadata": {
    "scrolled": true
   },
   "outputs": [
    {
     "data": {
      "image/png": "[encoded data removed]",
      "text/plain": [
       "<Figure size 792x288 with 1 Axes>"
      ]
     },
     "metadata": {},
     "output_type": "display_data"
    }
   ],
   "source": [
    "plot_data(Spain_updated, 'cases')"
   ]
  },
  {
   "cell_type": "code",
   "execution_count": 61,
   "metadata": {
    "scrolled": false
   },
   "outputs": [
    {
     "data": {
      "image/png": "[encoded data removed]",
      "text/plain": [
       "<Figure size 792x288 with 1 Axes>"
      ]
     },
     "metadata": {},
     "output_type": "display_data"
    }
   ],
   "source": [
    "plot_data(S_korea_updated, 'cases')"
   ]
  },
  {
   "cell_type": "code",
   "execution_count": 102,
   "metadata": {},
   "outputs": [
    {
     "name": "stdout",
     "output_type": "stream",
     "text": [
      "<class 'pandas.core.frame.DataFrame'>\n",
      "DatetimeIndex: 100 entries, 2019-12-31 to 2020-04-09\n",
      "Data columns (total 9 columns):\n",
      "day                         100 non-null int64\n",
      "month                       100 non-null int64\n",
      "year                        100 non-null int64\n",
      "cases                       100 non-null int64\n",
      "deaths                      100 non-null int64\n",
      "popData2018                 100 non-null int64\n",
      "Daily_tests                 100 non-null float64\n",
      "Daily_tests_per_thousand    100 non-null float64\n",
      "Cum_tests_per_thousand      100 non-null float64\n",
      "dtypes: float64(3), int64(6)\n",
      "memory usage: 7.8 KB\n"
     ]
    }
   ],
   "source": [
    "India_updated.info()"
   ]
  },
  {
   "cell_type": "code",
   "execution_count": 115,
   "metadata": {},
   "outputs": [],
   "source": [
    "# Train test split\n",
    "\n",
    "def train_test_split(df,ratio):\n",
    "    mask = np.random.rand(len(df)) < ratio\n",
    "    df_train = df[mask]\n",
    "    df_test = df[~mask]\n",
    "    print('Training data set length='+str(len(df_train)))\n",
    "    print('Testing data set length='+str(len(df_test)))\n",
    "    \n",
    "    # Expression for the Model \n",
    "    expr = \"\"\" cases ~ day + month + year   \"\"\"#Daily_tests_per_thousand  + Cum_tests_per_thousand + Daily_tests\"\"\"\n",
    "\n",
    "    ## Matrix Formation\n",
    "    y_train, X_train = dmatrices(expr, df_train, return_type='dataframe')\n",
    "    y_test, X_test = dmatrices(expr, df_test, return_type='dataframe')\n",
    "    return X_train, y_train, X_test, y_test\n",
    "\n",
    "def train_model(y_train, X_train):\n",
    "    model = sm.GLM(y_train, X_train, family=sm.families.Poisson()).fit()\n",
    "    print(model.summary())\n",
    "    return(model)\n",
    "\n",
    "def predict(model, X_test):\n",
    "    poisson_predictions = model.get_prediction(X_test)\n",
    "    #.summary_frame() returns a pandas DataFrame\n",
    "    predictions_summary_frame = poisson_predictions.summary_frame()\n",
    "    print(predictions_summary_frame)\n",
    "    return(predictions_summary_frame)\n",
    "    \n",
    "    \n",
    "def plot_results(predictions_summary_frame, y_test, country, label):\n",
    "    predicted_counts=predictions_summary_frame['mean']\n",
    "    actual_counts = y_test[label]\n",
    "    fig = plt.figure()\n",
    "    fig.suptitle(str('Predicted Mean of Covid 19 Cofirmed Cases Count'))\n",
    "    predicted, = plt.plot(X_test.index, predicted_counts, 'go-', label='Predicted counts')\n",
    "    actual, = plt.plot(X_test.index, actual_counts, 'ro-', label='Actual counts')\n",
    "    plt.legend(handles=[predicted, actual])\n",
    "    plt.show()\n",
    "    return(predicted_counts, actual_counts)\n",
    "    \n",
    "def plot_actual_vs_output(predicted_counts, actual_counts):\n",
    "    plt.clf()\n",
    "    fig = plt.figure()\n",
    "    fig.suptitle('Scatter plot of Actual versus Predicted counts')\n",
    "    plt.scatter(x=predicted_counts, y=actual_counts, marker='.')\n",
    "    plt.xlabel('Predicted counts')\n",
    "    plt.ylabel('Actual counts')\n",
    "    plt.show()"
   ]
  },
  {
   "cell_type": "markdown",
   "metadata": {},
   "source": [
    "## USA MODEL: Poisson Regression for confirmed Cases Count"
   ]
  },
  {
   "cell_type": "markdown",
   "metadata": {},
   "source": [
    "### STEP 1: TEST TRAIN SPLIT"
   ]
  },
  {
   "cell_type": "code",
   "execution_count": 116,
   "metadata": {
    "scrolled": false
   },
   "outputs": [
    {
     "name": "stdout",
     "output_type": "stream",
     "text": [
      "Training data set length=76\n",
      "Testing data set length=24\n"
     ]
    }
   ],
   "source": [
    "X_train, y_train, X_test, y_test = train_test_split(India_updated,0.8) "
   ]
  },
  {
   "cell_type": "markdown",
   "metadata": {},
   "source": [
    "### STEP 2: MODEL TRAINING AND SUMMARY"
   ]
  },
  {
   "cell_type": "code",
   "execution_count": 117,
   "metadata": {
    "scrolled": true
   },
   "outputs": [
    {
     "name": "stdout",
     "output_type": "stream",
     "text": [
      "                 Generalized Linear Model Regression Results                  \n",
      "==============================================================================\n",
      "Dep. Variable:                  cases   No. Observations:                   76\n",
      "Model:                            GLM   Df Residuals:                       72\n",
      "Model Family:                 Poisson   Df Model:                            3\n",
      "Link Function:                    log   Scale:                          1.0000\n",
      "Method:                          IRLS   Log-Likelihood:                -399.80\n",
      "Date:                Fri, 17 Apr 2020   Deviance:                       638.45\n",
      "Time:                        05:23:36   Pearson chi2:                     665.\n",
      "No. Iterations:                    23   Covariance Type:             nonrobust\n",
      "==============================================================================\n",
      "                 coef    std err          z      P>|z|      [0.025      0.975]\n",
      "------------------------------------------------------------------------------\n",
      "Intercept  -1.291e+05   2.11e+07     -0.006      0.995   -4.15e+07    4.12e+07\n",
      "day            0.1228      0.004     31.009      0.000       0.115       0.131\n",
      "month          4.3743      0.077     56.460      0.000       4.222       4.526\n",
      "year          63.9265   1.04e+04      0.006      0.995   -2.04e+04    2.05e+04\n",
      "==============================================================================\n"
     ]
    }
   ],
   "source": [
    "model_USA = train_model(y_train, X_train)"
   ]
  },
  {
   "cell_type": "markdown",
   "metadata": {},
   "source": [
    "### STEP 3: PREDICTIONS"
   ]
  },
  {
   "cell_type": "code",
   "execution_count": 118,
   "metadata": {
    "scrolled": true
   },
   "outputs": [
    {
     "name": "stdout",
     "output_type": "stream",
     "text": [
      "                  mean   mean_se  mean_ci_lower  mean_ci_upper\n",
      "Date                                                          \n",
      "2020-01-02    0.000699  0.000072       0.000571       0.000856\n",
      "2020-01-03    0.000790  0.000199       0.000483       0.001295\n",
      "2020-01-06    0.001143  0.000211       0.000796       0.001641\n",
      "2020-01-07    0.001292  0.000202       0.000951       0.001755\n",
      "2020-01-23    0.009222       NaN            NaN            NaN\n",
      "2020-01-28    0.017044       NaN            NaN            NaN\n",
      "2020-02-04    0.070948  0.018348       0.042738       0.117778\n",
      "2020-02-07    0.102561  0.020331       0.069542       0.151260\n",
      "2020-02-08    0.115967  0.020425       0.082113       0.163777\n",
      "2020-02-10    0.148262  0.016809       0.118720       0.185155\n",
      "2020-02-20    0.506427  0.111989       0.328312       0.781173\n",
      "2020-02-21    0.572619  0.114778       0.386588       0.848172\n",
      "2020-02-24    0.827774  0.101558       0.650848       1.052796\n",
      "2020-02-27    1.196625       NaN            NaN            NaN\n",
      "2020-03-02    4.405227       NaN            NaN            NaN\n",
      "2020-03-05    6.368166  0.922784       4.793695       8.459766\n",
      "2020-03-11   13.307809       NaN            NaN            NaN\n",
      "2020-03-14   19.237677  1.677721      16.215084      22.823701\n",
      "2020-03-16   24.595181       NaN            NaN            NaN\n",
      "2020-03-20   40.201734  5.735426      30.395350      53.171931\n",
      "2020-03-21   45.456237  5.014934      36.617201      56.428931\n",
      "2020-03-30  137.319346  7.887248     122.699003     153.681793\n",
      "2020-03-31  155.267450       NaN            NaN            NaN\n",
      "2020-04-07  646.307676       NaN            NaN            NaN\n"
     ]
    }
   ],
   "source": [
    "predictions_frame = predict(model_USA, X_test)"
   ]
  },
  {
   "cell_type": "markdown",
   "metadata": {},
   "source": [
    "### STEP 4: PLOTTING THE RESULTS"
   ]
  },
  {
   "cell_type": "code",
   "execution_count": 119,
   "metadata": {
    "scrolled": false
   },
   "outputs": [
    {
     "data": {
      "image/png": "[encoded data removed]",
      "text/plain": [
       "<Figure size 792x288 with 1 Axes>"
      ]
     },
     "metadata": {},
     "output_type": "display_data"
    }
   ],
   "source": [
    "predicted_counts, actual_counts = plot_results(predictions_frame, y_test, USA, 'cases')"
   ]
  },
  {
   "cell_type": "markdown",
   "metadata": {},
   "source": [
    "## China MODEL: Poisson Regression for confirmed Cases Count"
   ]
  },
  {
   "cell_type": "markdown",
   "metadata": {},
   "source": [
    "### STEP 1: TEST TRAIN SPLIT"
   ]
  },
  {
   "cell_type": "code",
   "execution_count": 69,
   "metadata": {
    "scrolled": false
   },
   "outputs": [
    {
     "name": "stdout",
     "output_type": "stream",
     "text": [
      "Training data set length=76\n",
      "Testing data set length=11\n"
     ]
    }
   ],
   "source": [
    "X_train, y_train, X_test, y_test = train_test_split(China_updated,0.8) "
   ]
  },
  {
   "cell_type": "markdown",
   "metadata": {},
   "source": [
    "### STEP 2: MODEL TRAINING AND SUMMARY"
   ]
  },
  {
   "cell_type": "code",
   "execution_count": 70,
   "metadata": {},
   "outputs": [
    {
     "name": "stdout",
     "output_type": "stream",
     "text": [
      "                 Generalized Linear Model Regression Results                  \n",
      "==============================================================================\n",
      "Dep. Variable:              Confirmed   No. Observations:                   76\n",
      "Model:                            GLM   Df Residuals:                       72\n",
      "Model Family:                 Poisson   Df Model:                            3\n",
      "Link Function:                    log   Scale:                          1.0000\n",
      "Method:                          IRLS   Log-Likelihood:                -37168.\n",
      "Date:                Sat, 11 Apr 2020   Deviance:                       73819.\n",
      "Time:                        16:56:15   Pearson chi2:                 7.05e+04\n",
      "No. Iterations:                     6   Covariance Type:             nonrobust\n",
      "==============================================================================\n",
      "                 coef    std err          z      P>|z|      [0.025      0.975]\n",
      "------------------------------------------------------------------------------\n",
      "Intercept   2.263e-06   4.23e-09    535.458      0.000    2.26e-06    2.27e-06\n",
      "Day           -0.0794      0.001   -135.307      0.000      -0.081      -0.078\n",
      "Weekday       -0.0199      0.002    -10.124      0.000      -0.024      -0.016\n",
      "Month         -0.6963      0.006   -125.455      0.000      -0.707      -0.685\n",
      "Year           0.0046   8.54e-06    535.458      0.000       0.005       0.005\n",
      "==============================================================================\n"
     ]
    }
   ],
   "source": [
    "model_China = train_model(y_train, X_train)"
   ]
  },
  {
   "cell_type": "markdown",
   "metadata": {},
   "source": [
    "### STEP 3: PREDICTIONS"
   ]
  },
  {
   "cell_type": "code",
   "execution_count": 71,
   "metadata": {
    "scrolled": true
   },
   "outputs": [
    {
     "name": "stdout",
     "output_type": "stream",
     "text": [
      "                   mean   mean_se  mean_ci_lower  mean_ci_upper\n",
      "Date                                                           \n",
      "2020-01-20  1044.254373  9.521635    1025.758079    1063.084189\n",
      "2020-01-25   635.564795  5.902019     624.101685     647.238453\n",
      "2020-01-29   491.128226  5.009359     481.407549     501.045185\n",
      "2020-01-30   444.698435  4.671619     435.635847     453.949552\n",
      "2020-02-12   943.938538  4.419950     935.315226     952.641354\n",
      "2020-02-13   854.701416  3.659339     847.559252     861.903764\n",
      "2020-02-14   773.900504  3.745115     766.594914     781.275715\n",
      "2020-02-19   541.490569  3.361132     534.942781     548.118503\n",
      "2020-03-06   727.986261  5.185129     717.894201     738.220194\n",
      "2020-03-14   378.129943  3.300288     371.716509     384.654031\n",
      "2020-04-01   561.597225  6.391435     549.208923     574.264966\n"
     ]
    }
   ],
   "source": [
    "predictions_frame = predict(model_China, X_test)"
   ]
  },
  {
   "cell_type": "markdown",
   "metadata": {},
   "source": [
    "### STEP 4: PLOTTING THE RESULTS"
   ]
  },
  {
   "cell_type": "code",
   "execution_count": 72,
   "metadata": {
    "scrolled": false
   },
   "outputs": [
    {
     "data": {
      "image/png": "[encoded data removed]",
      "text/plain": [
       "<Figure size 792x288 with 1 Axes>"
      ]
     },
     "metadata": {},
     "output_type": "display_data"
    },
    {
     "data": {
      "text/plain": [
       "(Date\n",
       " 2020-01-20    1044.254373\n",
       " 2020-01-25     635.564795\n",
       " 2020-01-29     491.128226\n",
       " 2020-01-30     444.698435\n",
       " 2020-02-12     943.938538\n",
       " 2020-02-13     854.701416\n",
       " 2020-02-14     773.900504\n",
       " 2020-02-19     541.490569\n",
       " 2020-03-06     727.986261\n",
       " 2020-03-14     378.129943\n",
       " 2020-04-01     561.597225\n",
       " Name: mean, dtype: float64, Date\n",
       " 2020-01-20       77.0\n",
       " 2020-01-25      462.0\n",
       " 2020-01-29     1462.0\n",
       " 2020-01-30     1741.0\n",
       " 2020-02-12     2022.0\n",
       " 2020-02-13    15152.0\n",
       " 2020-02-14     4050.0\n",
       " 2020-02-19     1751.0\n",
       " 2020-03-06      146.0\n",
       " 2020-03-14       30.0\n",
       " 2020-04-01       87.0\n",
       " Name: Confirmed, dtype: float64)"
      ]
     },
     "execution_count": 72,
     "metadata": {},
     "output_type": "execute_result"
    }
   ],
   "source": [
    "plot_results(predictions_frame, y_test, China)"
   ]
  },
  {
   "cell_type": "markdown",
   "metadata": {},
   "source": [
    "## ITALY MODEL: Poisson Regression for confirmed Cases Count"
   ]
  },
  {
   "cell_type": "markdown",
   "metadata": {},
   "source": [
    "### STEP 1: TEST TRAIN SPLIT"
   ]
  },
  {
   "cell_type": "code",
   "execution_count": 28,
   "metadata": {
    "scrolled": true
   },
   "outputs": [
    {
     "name": "stdout",
     "output_type": "stream",
     "text": [
      "Training data set length=51\n",
      "Testing data set length=17\n"
     ]
    }
   ],
   "source": [
    "X_train, y_train, X_test, y_test = train_test_split(Italy_updated,0.8) "
   ]
  },
  {
   "cell_type": "markdown",
   "metadata": {},
   "source": [
    "### STEP 2: MODEL TRAINING AND SUMMARY"
   ]
  },
  {
   "cell_type": "code",
   "execution_count": 29,
   "metadata": {},
   "outputs": [
    {
     "name": "stdout",
     "output_type": "stream",
     "text": [
      "                 Generalized Linear Model Regression Results                  \n",
      "==============================================================================\n",
      "Dep. Variable:                 Deaths   No. Observations:                   51\n",
      "Model:                            GLM   Df Residuals:                       47\n",
      "Model Family:                 Poisson   Df Model:                            3\n",
      "Link Function:                    log   Scale:                          1.0000\n",
      "Method:                          IRLS   Log-Likelihood:                -1065.9\n",
      "Date:                Sat, 11 Apr 2020   Deviance:                       1914.8\n",
      "Time:                        15:20:23   Pearson chi2:                 1.61e+03\n",
      "No. Iterations:                     6   Covariance Type:             nonrobust\n",
      "==============================================================================\n",
      "                 coef    std err          z      P>|z|      [0.025      0.975]\n",
      "------------------------------------------------------------------------------\n",
      "Intercept  -1.333e-06      3e-08    -44.420      0.000   -1.39e-06   -1.27e-06\n",
      "Day            0.1289      0.002     80.690      0.000       0.126       0.132\n",
      "Weekday       -0.0279      0.005     -6.039      0.000      -0.037      -0.019\n",
      "Month          2.9285      0.031     95.848      0.000       2.869       2.988\n",
      "Year          -0.0027   6.06e-05    -44.420      0.000      -0.003      -0.003\n",
      "==============================================================================\n"
     ]
    }
   ],
   "source": [
    "model_Italy = train_model(y_train, X_train)"
   ]
  },
  {
   "cell_type": "markdown",
   "metadata": {},
   "source": [
    "### STEP 3: PREDICTIONS"
   ]
  },
  {
   "cell_type": "code",
   "execution_count": 30,
   "metadata": {
    "scrolled": true
   },
   "outputs": [
    {
     "name": "stdout",
     "output_type": "stream",
     "text": [
      "                   mean    mean_se  mean_ci_lower  mean_ci_upper\n",
      "Date                                                            \n",
      "2020-01-30     3.570701   0.195669       3.207073       3.975558\n",
      "2020-02-03     2.237805   0.131671       1.994059       2.511345\n",
      "2020-02-07     3.350935   0.184013       3.009007       3.731718\n",
      "2020-02-08     3.706824   0.203236       3.329144       4.127351\n",
      "2020-02-13     7.466509   0.340621       6.827882       8.164869\n",
      "2020-02-14     8.259497   0.373225       7.559446       9.024376\n",
      "2020-02-27    45.362050   1.331608      42.825807      48.048495\n",
      "2020-03-02    36.787536   1.211806      34.487487      39.240980\n",
      "2020-03-04    45.016593   1.305287      42.529616      47.649001\n",
      "2020-03-10   100.305372   2.178327      96.125517     104.666981\n",
      "2020-03-13   135.778837   2.437361     131.084757     140.641009\n",
      "2020-03-15   166.151403   3.433272     159.556756     173.018613\n",
      "2020-03-20   334.672181   3.882560     327.148365     342.369030\n",
      "2020-03-22   409.535488   6.622232     396.759671     422.722691\n",
      "2020-03-24   609.395512  10.195001     589.737723     629.708555\n",
      "2020-03-30  1357.846935  34.812655    1291.301339    1427.821876\n",
      "2020-03-31  1502.058268  35.513379    1434.041435    1573.301151\n"
     ]
    }
   ],
   "source": [
    "predictions_frame = predict(model_Italy, X_test)"
   ]
  },
  {
   "cell_type": "markdown",
   "metadata": {},
   "source": [
    "### STEP 4: PLOTTING THE RESULTS"
   ]
  },
  {
   "cell_type": "code",
   "execution_count": 31,
   "metadata": {
    "scrolled": true
   },
   "outputs": [
    {
     "data": {
      "image/png": "[encoded data removed]",
      "text/plain": [
       "<Figure size 792x288 with 1 Axes>"
      ]
     },
     "metadata": {},
     "output_type": "display_data"
    },
    {
     "data": {
      "text/plain": [
       "(Date\n",
       " 2020-01-30       3.570701\n",
       " 2020-02-03       2.237805\n",
       " 2020-02-07       3.350935\n",
       " 2020-02-08       3.706824\n",
       " 2020-02-13       7.466509\n",
       " 2020-02-14       8.259497\n",
       " 2020-02-27      45.362050\n",
       " 2020-03-02      36.787536\n",
       " 2020-03-04      45.016593\n",
       " 2020-03-10     100.305372\n",
       " 2020-03-13     135.778837\n",
       " 2020-03-15     166.151403\n",
       " 2020-03-20     334.672181\n",
       " 2020-03-22     409.535488\n",
       " 2020-03-24     609.395512\n",
       " 2020-03-30    1357.846935\n",
       " 2020-03-31    1502.058268\n",
       " Name: mean, dtype: float64, Date\n",
       " 2020-01-30      0.0\n",
       " 2020-02-03      0.0\n",
       " 2020-02-07      0.0\n",
       " 2020-02-08      0.0\n",
       " 2020-02-13      0.0\n",
       " 2020-02-14      0.0\n",
       " 2020-02-27      0.0\n",
       " 2020-03-02      6.0\n",
       " 2020-03-04     28.0\n",
       " 2020-03-10     97.0\n",
       " 2020-03-13    189.0\n",
       " 2020-03-15    173.0\n",
       " 2020-03-20    429.0\n",
       " 2020-03-22    795.0\n",
       " 2020-03-24    601.0\n",
       " 2020-03-30    758.0\n",
       " 2020-03-31    810.0\n",
       " Name: Deaths, dtype: float64)"
      ]
     },
     "execution_count": 31,
     "metadata": {},
     "output_type": "execute_result"
    }
   ],
   "source": [
    "plot_results(predictions_frame, y_test, Italy)"
   ]
  },
  {
   "cell_type": "markdown",
   "metadata": {},
   "source": [
    "## FRANCE MODEL: Poisson Regression for confirmed Cases Count"
   ]
  },
  {
   "cell_type": "markdown",
   "metadata": {},
   "source": [
    "### STEP 1: TEST TRAIN SPLIT"
   ]
  },
  {
   "cell_type": "code",
   "execution_count": 32,
   "metadata": {
    "scrolled": true
   },
   "outputs": [
    {
     "name": "stdout",
     "output_type": "stream",
     "text": [
      "Training data set length=59\n",
      "Testing data set length=14\n"
     ]
    }
   ],
   "source": [
    "X_train, y_train, X_test, y_test = train_test_split(France_updated,0.8) "
   ]
  },
  {
   "cell_type": "markdown",
   "metadata": {},
   "source": [
    "### STEP 2: MODEL TRAINING AND SUMMARY"
   ]
  },
  {
   "cell_type": "code",
   "execution_count": 33,
   "metadata": {},
   "outputs": [
    {
     "name": "stdout",
     "output_type": "stream",
     "text": [
      "                 Generalized Linear Model Regression Results                  \n",
      "==============================================================================\n",
      "Dep. Variable:                 Deaths   No. Observations:                   59\n",
      "Model:                            GLM   Df Residuals:                       55\n",
      "Model Family:                 Poisson   Df Model:                            3\n",
      "Link Function:                    log   Scale:                          1.0000\n",
      "Method:                          IRLS   Log-Likelihood:                -776.12\n",
      "Date:                Sat, 11 Apr 2020   Deviance:                       1380.6\n",
      "Time:                        15:20:36   Pearson chi2:                 1.50e+03\n",
      "No. Iterations:                     8   Covariance Type:             nonrobust\n",
      "==============================================================================\n",
      "                 coef    std err          z      P>|z|      [0.025      0.975]\n",
      "------------------------------------------------------------------------------\n",
      "Intercept   -3.98e-06    8.4e-08    -47.370      0.000   -4.14e-06   -3.82e-06\n",
      "Day            0.1840      0.004     51.327      0.000       0.177       0.191\n",
      "Weekday        0.1314      0.005     23.927      0.000       0.121       0.142\n",
      "Month          5.4533      0.082     66.376      0.000       5.292       5.614\n",
      "Year          -0.0080      0.000    -47.370      0.000      -0.008      -0.008\n",
      "==============================================================================\n"
     ]
    }
   ],
   "source": [
    "model_France = train_model(y_train, X_train)"
   ]
  },
  {
   "cell_type": "markdown",
   "metadata": {},
   "source": [
    "### STEP 3: PREDICTIONS"
   ]
  },
  {
   "cell_type": "code",
   "execution_count": 34,
   "metadata": {
    "scrolled": true
   },
   "outputs": [
    {
     "name": "stdout",
     "output_type": "stream",
     "text": [
      "                  mean   mean_se  mean_ci_lower  mean_ci_upper\n",
      "Date                                                          \n",
      "2020-01-28    0.004071  0.000673       0.002945       0.005628\n",
      "2020-02-04    0.011487  0.001891       0.008319       0.015862\n",
      "2020-02-05    0.015746  0.002524       0.011501       0.021559\n",
      "2020-02-18    0.150996  0.017667       0.120052       0.189916\n",
      "2020-02-21    0.388912  0.040858       0.316539       0.477831\n",
      "2020-02-24    0.399374  0.039397       0.329163       0.484561\n",
      "2020-03-02    1.628080  0.150290       1.358627       1.950973\n",
      "2020-03-04    3.059133  0.252478       2.602236       3.596252\n",
      "2020-03-05    4.193337  0.327534       3.598107       4.887036\n",
      "2020-03-11   11.091049  0.650449       9.886732      12.442065\n",
      "2020-03-16   21.400507  0.998034      19.531133      23.448803\n",
      "2020-03-20   75.556103  2.219291      71.329209      80.033477\n",
      "2020-03-23   77.588659  2.315765      73.180049      82.262859\n",
      "2020-03-28  375.495821  8.947198     358.362817     393.447938\n"
     ]
    }
   ],
   "source": [
    "predictions_frame = predict(model_France, X_test)"
   ]
  },
  {
   "cell_type": "markdown",
   "metadata": {},
   "source": [
    "### STEP 4: PLOTTING THE RESULTS"
   ]
  },
  {
   "cell_type": "code",
   "execution_count": 35,
   "metadata": {
    "scrolled": false
   },
   "outputs": [
    {
     "data": {
      "image/png": "[encoded data removed]",
      "text/plain": [
       "<Figure size 792x288 with 1 Axes>"
      ]
     },
     "metadata": {},
     "output_type": "display_data"
    },
    {
     "data": {
      "text/plain": [
       "(Date\n",
       " 2020-01-28      0.004071\n",
       " 2020-02-04      0.011487\n",
       " 2020-02-05      0.015746\n",
       " 2020-02-18      0.150996\n",
       " 2020-02-21      0.388912\n",
       " 2020-02-24      0.399374\n",
       " 2020-03-02      1.628080\n",
       " 2020-03-04      3.059133\n",
       " 2020-03-05      4.193337\n",
       " 2020-03-11     11.091049\n",
       " 2020-03-16     21.400507\n",
       " 2020-03-20     75.556103\n",
       " 2020-03-23     77.588659\n",
       " 2020-03-28    375.495821\n",
       " Name: mean, dtype: float64, Date\n",
       " 2020-01-28      0.0\n",
       " 2020-02-04      0.0\n",
       " 2020-02-05      0.0\n",
       " 2020-02-18      0.0\n",
       " 2020-02-21      0.0\n",
       " 2020-02-24      0.0\n",
       " 2020-03-02      0.0\n",
       " 2020-03-04      1.0\n",
       " 2020-03-05      0.0\n",
       " 2020-03-11      3.0\n",
       " 2020-03-16     36.0\n",
       " 2020-03-20    128.0\n",
       " 2020-03-23    112.0\n",
       " 2020-03-28    297.0\n",
       " Name: Deaths, dtype: float64)"
      ]
     },
     "execution_count": 35,
     "metadata": {},
     "output_type": "execute_result"
    }
   ],
   "source": [
    "plot_results(predictions_frame, y_test, France)"
   ]
  },
  {
   "cell_type": "code",
   "execution_count": 36,
   "metadata": {},
   "outputs": [
    {
     "data": {
      "text/html": [
       "<div>\n",
       "<style scoped>\n",
       "    .dataframe tbody tr th:only-of-type {\n",
       "        vertical-align: middle;\n",
       "    }\n",
       "\n",
       "    .dataframe tbody tr th {\n",
       "        vertical-align: top;\n",
       "    }\n",
       "\n",
       "    .dataframe thead th {\n",
       "        text-align: right;\n",
       "    }\n",
       "</style>\n",
       "<table border=\"1\" class=\"dataframe\">\n",
       "  <thead>\n",
       "    <tr style=\"text-align: right;\">\n",
       "      <th></th>\n",
       "      <th>Deaths</th>\n",
       "      <th>Cumulative_Deaths</th>\n",
       "      <th>Confirmed</th>\n",
       "      <th>Cumulative_Confirmed</th>\n",
       "      <th>Day</th>\n",
       "      <th>Month</th>\n",
       "      <th>Weekday</th>\n",
       "      <th>Year</th>\n",
       "    </tr>\n",
       "    <tr>\n",
       "      <th>Date</th>\n",
       "      <th></th>\n",
       "      <th></th>\n",
       "      <th></th>\n",
       "      <th></th>\n",
       "      <th></th>\n",
       "      <th></th>\n",
       "      <th></th>\n",
       "      <th></th>\n",
       "    </tr>\n",
       "  </thead>\n",
       "  <tbody>\n",
       "    <tr>\n",
       "      <th>2020-01-21</th>\n",
       "      <td>0</td>\n",
       "      <td>0</td>\n",
       "      <td>1</td>\n",
       "      <td>1</td>\n",
       "      <td>21</td>\n",
       "      <td>1</td>\n",
       "      <td>1</td>\n",
       "      <td>2020</td>\n",
       "    </tr>\n",
       "    <tr>\n",
       "      <th>2020-01-22</th>\n",
       "      <td>0</td>\n",
       "      <td>0</td>\n",
       "      <td>0</td>\n",
       "      <td>1</td>\n",
       "      <td>22</td>\n",
       "      <td>1</td>\n",
       "      <td>2</td>\n",
       "      <td>2020</td>\n",
       "    </tr>\n",
       "    <tr>\n",
       "      <th>2020-01-23</th>\n",
       "      <td>0</td>\n",
       "      <td>0</td>\n",
       "      <td>0</td>\n",
       "      <td>1</td>\n",
       "      <td>23</td>\n",
       "      <td>1</td>\n",
       "      <td>3</td>\n",
       "      <td>2020</td>\n",
       "    </tr>\n",
       "    <tr>\n",
       "      <th>2020-01-24</th>\n",
       "      <td>0</td>\n",
       "      <td>0</td>\n",
       "      <td>0</td>\n",
       "      <td>1</td>\n",
       "      <td>24</td>\n",
       "      <td>1</td>\n",
       "      <td>4</td>\n",
       "      <td>2020</td>\n",
       "    </tr>\n",
       "    <tr>\n",
       "      <th>2020-01-25</th>\n",
       "      <td>0</td>\n",
       "      <td>0</td>\n",
       "      <td>1</td>\n",
       "      <td>2</td>\n",
       "      <td>25</td>\n",
       "      <td>1</td>\n",
       "      <td>5</td>\n",
       "      <td>2020</td>\n",
       "    </tr>\n",
       "  </tbody>\n",
       "</table>\n",
       "</div>"
      ],
      "text/plain": [
       "            Deaths  Cumulative_Deaths  Confirmed  Cumulative_Confirmed  Day  \\\n",
       "Date                                                                          \n",
       "2020-01-21       0                  0          1                     1   21   \n",
       "2020-01-22       0                  0          0                     1   22   \n",
       "2020-01-23       0                  0          0                     1   23   \n",
       "2020-01-24       0                  0          0                     1   24   \n",
       "2020-01-25       0                  0          1                     2   25   \n",
       "\n",
       "            Month  Weekday  Year  \n",
       "Date                              \n",
       "2020-01-21      1        1  2020  \n",
       "2020-01-22      1        2  2020  \n",
       "2020-01-23      1        3  2020  \n",
       "2020-01-24      1        4  2020  \n",
       "2020-01-25      1        5  2020  "
      ]
     },
     "execution_count": 36,
     "metadata": {},
     "output_type": "execute_result"
    }
   ],
   "source": [
    "USA_updated.head()"
   ]
  },
  {
   "cell_type": "code",
   "execution_count": 45,
   "metadata": {
    "scrolled": true
   },
   "outputs": [
    {
     "name": "stdout",
     "output_type": "stream",
     "text": [
      "Date\n",
      "2020-01-21         1\n",
      "2020-01-22         1\n",
      "2020-01-23         1\n",
      "2020-01-24         1\n",
      "2020-01-25         2\n",
      "2020-01-26         2\n",
      "2020-01-27         5\n",
      "2020-01-28         5\n",
      "2020-01-29         5\n",
      "2020-01-30         5\n",
      "2020-01-31         6\n",
      "2020-02-01         7\n",
      "2020-02-02         8\n",
      "2020-02-03        11\n",
      "2020-02-04        11\n",
      "2020-02-05        11\n",
      "2020-02-06        12\n",
      "2020-02-07        12\n",
      "2020-02-08        12\n",
      "2020-02-09        12\n",
      "2020-02-10        12\n",
      "2020-02-11        13\n",
      "2020-02-12        13\n",
      "2020-02-13        14\n",
      "2020-02-14        15\n",
      "2020-02-15        15\n",
      "2020-02-16        15\n",
      "2020-02-17        15\n",
      "2020-02-18        15\n",
      "2020-02-19        15\n",
      "               ...  \n",
      "2020-03-08       213\n",
      "2020-03-09       213\n",
      "2020-03-10       472\n",
      "2020-03-11       696\n",
      "2020-03-12       987\n",
      "2020-03-13      1264\n",
      "2020-03-14      1678\n",
      "2020-03-15      1678\n",
      "2020-03-16      1714\n",
      "2020-03-17      3536\n",
      "2020-03-18      4356\n",
      "2020-03-19      7087\n",
      "2020-03-20     10442\n",
      "2020-03-21     15219\n",
      "2020-03-22     15219\n",
      "2020-03-23     31573\n",
      "2020-03-24     42164\n",
      "2020-03-25     51914\n",
      "2020-03-26     63570\n",
      "2020-03-27     68334\n",
      "2020-03-28     85228\n",
      "2020-03-29    103321\n",
      "2020-03-30    122653\n",
      "2020-03-31    140640\n",
      "2020-04-01    163199\n",
      "2020-04-02    187302\n",
      "2020-04-03    213600\n",
      "2020-04-04    241703\n",
      "2020-04-05    273808\n",
      "2020-04-06    307318\n",
      "Name: Cumulative_Confirmed, Length: 77, dtype: int64\n"
     ]
    }
   ],
   "source": [
    "print(USA_updated['Cumulative_Confirmed'])\n",
    "#for i in USA_updated.index:\n",
    " #   print()"
   ]
  },
  {
   "cell_type": "code",
   "execution_count": 54,
   "metadata": {},
   "outputs": [
    {
     "data": {
      "text/html": [
       "<div>\n",
       "<style scoped>\n",
       "    .dataframe tbody tr th:only-of-type {\n",
       "        vertical-align: middle;\n",
       "    }\n",
       "\n",
       "    .dataframe tbody tr th {\n",
       "        vertical-align: top;\n",
       "    }\n",
       "\n",
       "    .dataframe thead th {\n",
       "        text-align: right;\n",
       "    }\n",
       "</style>\n",
       "<table border=\"1\" class=\"dataframe\">\n",
       "  <thead>\n",
       "    <tr style=\"text-align: right;\">\n",
       "      <th></th>\n",
       "      <th>Deaths</th>\n",
       "      <th>Cumulative_Deaths</th>\n",
       "      <th>Confirmed</th>\n",
       "      <th>Cumulative_Confirmed</th>\n",
       "      <th>Day</th>\n",
       "      <th>Month</th>\n",
       "      <th>Weekday</th>\n",
       "      <th>Year</th>\n",
       "    </tr>\n",
       "    <tr>\n",
       "      <th>Date</th>\n",
       "      <th></th>\n",
       "      <th></th>\n",
       "      <th></th>\n",
       "      <th></th>\n",
       "      <th></th>\n",
       "      <th></th>\n",
       "      <th></th>\n",
       "      <th></th>\n",
       "    </tr>\n",
       "  </thead>\n",
       "  <tbody>\n",
       "    <tr>\n",
       "      <th>2020-01-30</th>\n",
       "      <td>0</td>\n",
       "      <td>0</td>\n",
       "      <td>2</td>\n",
       "      <td>2</td>\n",
       "      <td>30</td>\n",
       "      <td>1</td>\n",
       "      <td>3</td>\n",
       "      <td>2020</td>\n",
       "    </tr>\n",
       "    <tr>\n",
       "      <th>2020-01-31</th>\n",
       "      <td>0</td>\n",
       "      <td>0</td>\n",
       "      <td>0</td>\n",
       "      <td>2</td>\n",
       "      <td>31</td>\n",
       "      <td>1</td>\n",
       "      <td>4</td>\n",
       "      <td>2020</td>\n",
       "    </tr>\n",
       "    <tr>\n",
       "      <th>2020-02-01</th>\n",
       "      <td>0</td>\n",
       "      <td>0</td>\n",
       "      <td>0</td>\n",
       "      <td>2</td>\n",
       "      <td>1</td>\n",
       "      <td>2</td>\n",
       "      <td>5</td>\n",
       "      <td>2020</td>\n",
       "    </tr>\n",
       "    <tr>\n",
       "      <th>2020-02-02</th>\n",
       "      <td>0</td>\n",
       "      <td>0</td>\n",
       "      <td>0</td>\n",
       "      <td>2</td>\n",
       "      <td>2</td>\n",
       "      <td>2</td>\n",
       "      <td>6</td>\n",
       "      <td>2020</td>\n",
       "    </tr>\n",
       "    <tr>\n",
       "      <th>2020-02-03</th>\n",
       "      <td>0</td>\n",
       "      <td>0</td>\n",
       "      <td>0</td>\n",
       "      <td>2</td>\n",
       "      <td>3</td>\n",
       "      <td>2</td>\n",
       "      <td>0</td>\n",
       "      <td>2020</td>\n",
       "    </tr>\n",
       "    <tr>\n",
       "      <th>2020-02-04</th>\n",
       "      <td>0</td>\n",
       "      <td>0</td>\n",
       "      <td>0</td>\n",
       "      <td>2</td>\n",
       "      <td>4</td>\n",
       "      <td>2</td>\n",
       "      <td>1</td>\n",
       "      <td>2020</td>\n",
       "    </tr>\n",
       "    <tr>\n",
       "      <th>2020-02-05</th>\n",
       "      <td>0</td>\n",
       "      <td>0</td>\n",
       "      <td>0</td>\n",
       "      <td>2</td>\n",
       "      <td>5</td>\n",
       "      <td>2</td>\n",
       "      <td>2</td>\n",
       "      <td>2020</td>\n",
       "    </tr>\n",
       "    <tr>\n",
       "      <th>2020-02-06</th>\n",
       "      <td>0</td>\n",
       "      <td>0</td>\n",
       "      <td>0</td>\n",
       "      <td>2</td>\n",
       "      <td>6</td>\n",
       "      <td>2</td>\n",
       "      <td>3</td>\n",
       "      <td>2020</td>\n",
       "    </tr>\n",
       "    <tr>\n",
       "      <th>2020-02-07</th>\n",
       "      <td>0</td>\n",
       "      <td>0</td>\n",
       "      <td>1</td>\n",
       "      <td>3</td>\n",
       "      <td>7</td>\n",
       "      <td>2</td>\n",
       "      <td>4</td>\n",
       "      <td>2020</td>\n",
       "    </tr>\n",
       "    <tr>\n",
       "      <th>2020-02-08</th>\n",
       "      <td>0</td>\n",
       "      <td>0</td>\n",
       "      <td>0</td>\n",
       "      <td>3</td>\n",
       "      <td>8</td>\n",
       "      <td>2</td>\n",
       "      <td>5</td>\n",
       "      <td>2020</td>\n",
       "    </tr>\n",
       "    <tr>\n",
       "      <th>2020-02-09</th>\n",
       "      <td>0</td>\n",
       "      <td>0</td>\n",
       "      <td>0</td>\n",
       "      <td>3</td>\n",
       "      <td>9</td>\n",
       "      <td>2</td>\n",
       "      <td>6</td>\n",
       "      <td>2020</td>\n",
       "    </tr>\n",
       "    <tr>\n",
       "      <th>2020-02-10</th>\n",
       "      <td>0</td>\n",
       "      <td>0</td>\n",
       "      <td>0</td>\n",
       "      <td>3</td>\n",
       "      <td>10</td>\n",
       "      <td>2</td>\n",
       "      <td>0</td>\n",
       "      <td>2020</td>\n",
       "    </tr>\n",
       "    <tr>\n",
       "      <th>2020-02-11</th>\n",
       "      <td>0</td>\n",
       "      <td>0</td>\n",
       "      <td>0</td>\n",
       "      <td>3</td>\n",
       "      <td>11</td>\n",
       "      <td>2</td>\n",
       "      <td>1</td>\n",
       "      <td>2020</td>\n",
       "    </tr>\n",
       "    <tr>\n",
       "      <th>2020-02-12</th>\n",
       "      <td>0</td>\n",
       "      <td>0</td>\n",
       "      <td>0</td>\n",
       "      <td>3</td>\n",
       "      <td>12</td>\n",
       "      <td>2</td>\n",
       "      <td>2</td>\n",
       "      <td>2020</td>\n",
       "    </tr>\n",
       "    <tr>\n",
       "      <th>2020-02-13</th>\n",
       "      <td>0</td>\n",
       "      <td>0</td>\n",
       "      <td>0</td>\n",
       "      <td>3</td>\n",
       "      <td>13</td>\n",
       "      <td>2</td>\n",
       "      <td>3</td>\n",
       "      <td>2020</td>\n",
       "    </tr>\n",
       "    <tr>\n",
       "      <th>2020-02-14</th>\n",
       "      <td>0</td>\n",
       "      <td>0</td>\n",
       "      <td>0</td>\n",
       "      <td>3</td>\n",
       "      <td>14</td>\n",
       "      <td>2</td>\n",
       "      <td>4</td>\n",
       "      <td>2020</td>\n",
       "    </tr>\n",
       "    <tr>\n",
       "      <th>2020-02-15</th>\n",
       "      <td>0</td>\n",
       "      <td>0</td>\n",
       "      <td>0</td>\n",
       "      <td>3</td>\n",
       "      <td>15</td>\n",
       "      <td>2</td>\n",
       "      <td>5</td>\n",
       "      <td>2020</td>\n",
       "    </tr>\n",
       "    <tr>\n",
       "      <th>2020-02-16</th>\n",
       "      <td>0</td>\n",
       "      <td>0</td>\n",
       "      <td>0</td>\n",
       "      <td>3</td>\n",
       "      <td>16</td>\n",
       "      <td>2</td>\n",
       "      <td>6</td>\n",
       "      <td>2020</td>\n",
       "    </tr>\n",
       "    <tr>\n",
       "      <th>2020-02-17</th>\n",
       "      <td>0</td>\n",
       "      <td>0</td>\n",
       "      <td>0</td>\n",
       "      <td>3</td>\n",
       "      <td>17</td>\n",
       "      <td>2</td>\n",
       "      <td>0</td>\n",
       "      <td>2020</td>\n",
       "    </tr>\n",
       "    <tr>\n",
       "      <th>2020-02-18</th>\n",
       "      <td>0</td>\n",
       "      <td>0</td>\n",
       "      <td>0</td>\n",
       "      <td>3</td>\n",
       "      <td>18</td>\n",
       "      <td>2</td>\n",
       "      <td>1</td>\n",
       "      <td>2020</td>\n",
       "    </tr>\n",
       "    <tr>\n",
       "      <th>2020-02-19</th>\n",
       "      <td>0</td>\n",
       "      <td>0</td>\n",
       "      <td>0</td>\n",
       "      <td>3</td>\n",
       "      <td>19</td>\n",
       "      <td>2</td>\n",
       "      <td>2</td>\n",
       "      <td>2020</td>\n",
       "    </tr>\n",
       "    <tr>\n",
       "      <th>2020-02-20</th>\n",
       "      <td>0</td>\n",
       "      <td>0</td>\n",
       "      <td>0</td>\n",
       "      <td>3</td>\n",
       "      <td>20</td>\n",
       "      <td>2</td>\n",
       "      <td>3</td>\n",
       "      <td>2020</td>\n",
       "    </tr>\n",
       "    <tr>\n",
       "      <th>2020-02-21</th>\n",
       "      <td>0</td>\n",
       "      <td>0</td>\n",
       "      <td>0</td>\n",
       "      <td>3</td>\n",
       "      <td>21</td>\n",
       "      <td>2</td>\n",
       "      <td>4</td>\n",
       "      <td>2020</td>\n",
       "    </tr>\n",
       "    <tr>\n",
       "      <th>2020-02-22</th>\n",
       "      <td>1</td>\n",
       "      <td>1</td>\n",
       "      <td>6</td>\n",
       "      <td>9</td>\n",
       "      <td>22</td>\n",
       "      <td>2</td>\n",
       "      <td>5</td>\n",
       "      <td>2020</td>\n",
       "    </tr>\n",
       "    <tr>\n",
       "      <th>2020-02-23</th>\n",
       "      <td>1</td>\n",
       "      <td>2</td>\n",
       "      <td>67</td>\n",
       "      <td>76</td>\n",
       "      <td>23</td>\n",
       "      <td>2</td>\n",
       "      <td>6</td>\n",
       "      <td>2020</td>\n",
       "    </tr>\n",
       "    <tr>\n",
       "      <th>2020-02-24</th>\n",
       "      <td>0</td>\n",
       "      <td>2</td>\n",
       "      <td>48</td>\n",
       "      <td>124</td>\n",
       "      <td>24</td>\n",
       "      <td>2</td>\n",
       "      <td>0</td>\n",
       "      <td>2020</td>\n",
       "    </tr>\n",
       "    <tr>\n",
       "      <th>2020-02-25</th>\n",
       "      <td>5</td>\n",
       "      <td>7</td>\n",
       "      <td>105</td>\n",
       "      <td>229</td>\n",
       "      <td>25</td>\n",
       "      <td>2</td>\n",
       "      <td>1</td>\n",
       "      <td>2020</td>\n",
       "    </tr>\n",
       "    <tr>\n",
       "      <th>2020-02-26</th>\n",
       "      <td>5</td>\n",
       "      <td>12</td>\n",
       "      <td>93</td>\n",
       "      <td>322</td>\n",
       "      <td>26</td>\n",
       "      <td>2</td>\n",
       "      <td>2</td>\n",
       "      <td>2020</td>\n",
       "    </tr>\n",
       "    <tr>\n",
       "      <th>2020-02-27</th>\n",
       "      <td>0</td>\n",
       "      <td>12</td>\n",
       "      <td>78</td>\n",
       "      <td>400</td>\n",
       "      <td>27</td>\n",
       "      <td>2</td>\n",
       "      <td>3</td>\n",
       "      <td>2020</td>\n",
       "    </tr>\n",
       "    <tr>\n",
       "      <th>2020-02-28</th>\n",
       "      <td>5</td>\n",
       "      <td>17</td>\n",
       "      <td>250</td>\n",
       "      <td>650</td>\n",
       "      <td>28</td>\n",
       "      <td>2</td>\n",
       "      <td>4</td>\n",
       "      <td>2020</td>\n",
       "    </tr>\n",
       "    <tr>\n",
       "      <th>...</th>\n",
       "      <td>...</td>\n",
       "      <td>...</td>\n",
       "      <td>...</td>\n",
       "      <td>...</td>\n",
       "      <td>...</td>\n",
       "      <td>...</td>\n",
       "      <td>...</td>\n",
       "      <td>...</td>\n",
       "    </tr>\n",
       "    <tr>\n",
       "      <th>2020-03-08</th>\n",
       "      <td>37</td>\n",
       "      <td>234</td>\n",
       "      <td>1247</td>\n",
       "      <td>5883</td>\n",
       "      <td>8</td>\n",
       "      <td>3</td>\n",
       "      <td>6</td>\n",
       "      <td>2020</td>\n",
       "    </tr>\n",
       "    <tr>\n",
       "      <th>2020-03-09</th>\n",
       "      <td>132</td>\n",
       "      <td>366</td>\n",
       "      <td>1492</td>\n",
       "      <td>7375</td>\n",
       "      <td>9</td>\n",
       "      <td>3</td>\n",
       "      <td>0</td>\n",
       "      <td>2020</td>\n",
       "    </tr>\n",
       "    <tr>\n",
       "      <th>2020-03-10</th>\n",
       "      <td>97</td>\n",
       "      <td>463</td>\n",
       "      <td>1797</td>\n",
       "      <td>9172</td>\n",
       "      <td>10</td>\n",
       "      <td>3</td>\n",
       "      <td>1</td>\n",
       "      <td>2020</td>\n",
       "    </tr>\n",
       "    <tr>\n",
       "      <th>2020-03-11</th>\n",
       "      <td>168</td>\n",
       "      <td>631</td>\n",
       "      <td>977</td>\n",
       "      <td>10149</td>\n",
       "      <td>11</td>\n",
       "      <td>3</td>\n",
       "      <td>2</td>\n",
       "      <td>2020</td>\n",
       "    </tr>\n",
       "    <tr>\n",
       "      <th>2020-03-12</th>\n",
       "      <td>196</td>\n",
       "      <td>827</td>\n",
       "      <td>2313</td>\n",
       "      <td>12462</td>\n",
       "      <td>12</td>\n",
       "      <td>3</td>\n",
       "      <td>3</td>\n",
       "      <td>2020</td>\n",
       "    </tr>\n",
       "    <tr>\n",
       "      <th>2020-03-13</th>\n",
       "      <td>189</td>\n",
       "      <td>1016</td>\n",
       "      <td>2651</td>\n",
       "      <td>15113</td>\n",
       "      <td>13</td>\n",
       "      <td>3</td>\n",
       "      <td>4</td>\n",
       "      <td>2020</td>\n",
       "    </tr>\n",
       "    <tr>\n",
       "      <th>2020-03-14</th>\n",
       "      <td>252</td>\n",
       "      <td>1268</td>\n",
       "      <td>2547</td>\n",
       "      <td>17660</td>\n",
       "      <td>14</td>\n",
       "      <td>3</td>\n",
       "      <td>5</td>\n",
       "      <td>2020</td>\n",
       "    </tr>\n",
       "    <tr>\n",
       "      <th>2020-03-15</th>\n",
       "      <td>173</td>\n",
       "      <td>1441</td>\n",
       "      <td>3497</td>\n",
       "      <td>21157</td>\n",
       "      <td>15</td>\n",
       "      <td>3</td>\n",
       "      <td>6</td>\n",
       "      <td>2020</td>\n",
       "    </tr>\n",
       "    <tr>\n",
       "      <th>2020-03-16</th>\n",
       "      <td>368</td>\n",
       "      <td>1809</td>\n",
       "      <td>3590</td>\n",
       "      <td>24747</td>\n",
       "      <td>16</td>\n",
       "      <td>3</td>\n",
       "      <td>0</td>\n",
       "      <td>2020</td>\n",
       "    </tr>\n",
       "    <tr>\n",
       "      <th>2020-03-17</th>\n",
       "      <td>349</td>\n",
       "      <td>2158</td>\n",
       "      <td>3233</td>\n",
       "      <td>27980</td>\n",
       "      <td>17</td>\n",
       "      <td>3</td>\n",
       "      <td>1</td>\n",
       "      <td>2020</td>\n",
       "    </tr>\n",
       "    <tr>\n",
       "      <th>2020-03-18</th>\n",
       "      <td>347</td>\n",
       "      <td>2505</td>\n",
       "      <td>3526</td>\n",
       "      <td>31506</td>\n",
       "      <td>18</td>\n",
       "      <td>3</td>\n",
       "      <td>2</td>\n",
       "      <td>2020</td>\n",
       "    </tr>\n",
       "    <tr>\n",
       "      <th>2020-03-19</th>\n",
       "      <td>473</td>\n",
       "      <td>2978</td>\n",
       "      <td>4207</td>\n",
       "      <td>35713</td>\n",
       "      <td>19</td>\n",
       "      <td>3</td>\n",
       "      <td>3</td>\n",
       "      <td>2020</td>\n",
       "    </tr>\n",
       "    <tr>\n",
       "      <th>2020-03-20</th>\n",
       "      <td>429</td>\n",
       "      <td>3407</td>\n",
       "      <td>5322</td>\n",
       "      <td>41035</td>\n",
       "      <td>20</td>\n",
       "      <td>3</td>\n",
       "      <td>4</td>\n",
       "      <td>2020</td>\n",
       "    </tr>\n",
       "    <tr>\n",
       "      <th>2020-03-21</th>\n",
       "      <td>625</td>\n",
       "      <td>4032</td>\n",
       "      <td>5986</td>\n",
       "      <td>47021</td>\n",
       "      <td>21</td>\n",
       "      <td>3</td>\n",
       "      <td>5</td>\n",
       "      <td>2020</td>\n",
       "    </tr>\n",
       "    <tr>\n",
       "      <th>2020-03-22</th>\n",
       "      <td>795</td>\n",
       "      <td>4827</td>\n",
       "      <td>6557</td>\n",
       "      <td>53578</td>\n",
       "      <td>22</td>\n",
       "      <td>3</td>\n",
       "      <td>6</td>\n",
       "      <td>2020</td>\n",
       "    </tr>\n",
       "    <tr>\n",
       "      <th>2020-03-23</th>\n",
       "      <td>649</td>\n",
       "      <td>5476</td>\n",
       "      <td>5560</td>\n",
       "      <td>59138</td>\n",
       "      <td>23</td>\n",
       "      <td>3</td>\n",
       "      <td>0</td>\n",
       "      <td>2020</td>\n",
       "    </tr>\n",
       "    <tr>\n",
       "      <th>2020-03-24</th>\n",
       "      <td>601</td>\n",
       "      <td>6077</td>\n",
       "      <td>4789</td>\n",
       "      <td>63927</td>\n",
       "      <td>24</td>\n",
       "      <td>3</td>\n",
       "      <td>1</td>\n",
       "      <td>2020</td>\n",
       "    </tr>\n",
       "    <tr>\n",
       "      <th>2020-03-25</th>\n",
       "      <td>743</td>\n",
       "      <td>6820</td>\n",
       "      <td>5249</td>\n",
       "      <td>69176</td>\n",
       "      <td>25</td>\n",
       "      <td>3</td>\n",
       "      <td>2</td>\n",
       "      <td>2020</td>\n",
       "    </tr>\n",
       "    <tr>\n",
       "      <th>2020-03-26</th>\n",
       "      <td>685</td>\n",
       "      <td>7505</td>\n",
       "      <td>5210</td>\n",
       "      <td>74386</td>\n",
       "      <td>26</td>\n",
       "      <td>3</td>\n",
       "      <td>3</td>\n",
       "      <td>2020</td>\n",
       "    </tr>\n",
       "    <tr>\n",
       "      <th>2020-03-27</th>\n",
       "      <td>660</td>\n",
       "      <td>8165</td>\n",
       "      <td>6153</td>\n",
       "      <td>80539</td>\n",
       "      <td>27</td>\n",
       "      <td>3</td>\n",
       "      <td>4</td>\n",
       "      <td>2020</td>\n",
       "    </tr>\n",
       "    <tr>\n",
       "      <th>2020-03-28</th>\n",
       "      <td>971</td>\n",
       "      <td>9136</td>\n",
       "      <td>5959</td>\n",
       "      <td>86498</td>\n",
       "      <td>28</td>\n",
       "      <td>3</td>\n",
       "      <td>5</td>\n",
       "      <td>2020</td>\n",
       "    </tr>\n",
       "    <tr>\n",
       "      <th>2020-03-29</th>\n",
       "      <td>887</td>\n",
       "      <td>10023</td>\n",
       "      <td>5974</td>\n",
       "      <td>92472</td>\n",
       "      <td>29</td>\n",
       "      <td>3</td>\n",
       "      <td>6</td>\n",
       "      <td>2020</td>\n",
       "    </tr>\n",
       "    <tr>\n",
       "      <th>2020-03-30</th>\n",
       "      <td>758</td>\n",
       "      <td>10781</td>\n",
       "      <td>5217</td>\n",
       "      <td>97689</td>\n",
       "      <td>30</td>\n",
       "      <td>3</td>\n",
       "      <td>0</td>\n",
       "      <td>2020</td>\n",
       "    </tr>\n",
       "    <tr>\n",
       "      <th>2020-03-31</th>\n",
       "      <td>810</td>\n",
       "      <td>11591</td>\n",
       "      <td>4050</td>\n",
       "      <td>101739</td>\n",
       "      <td>31</td>\n",
       "      <td>3</td>\n",
       "      <td>1</td>\n",
       "      <td>2020</td>\n",
       "    </tr>\n",
       "    <tr>\n",
       "      <th>2020-04-01</th>\n",
       "      <td>839</td>\n",
       "      <td>12430</td>\n",
       "      <td>4053</td>\n",
       "      <td>105792</td>\n",
       "      <td>1</td>\n",
       "      <td>4</td>\n",
       "      <td>2</td>\n",
       "      <td>2020</td>\n",
       "    </tr>\n",
       "    <tr>\n",
       "      <th>2020-04-02</th>\n",
       "      <td>727</td>\n",
       "      <td>13157</td>\n",
       "      <td>4782</td>\n",
       "      <td>110574</td>\n",
       "      <td>2</td>\n",
       "      <td>4</td>\n",
       "      <td>3</td>\n",
       "      <td>2020</td>\n",
       "    </tr>\n",
       "    <tr>\n",
       "      <th>2020-04-03</th>\n",
       "      <td>760</td>\n",
       "      <td>13917</td>\n",
       "      <td>4668</td>\n",
       "      <td>115242</td>\n",
       "      <td>3</td>\n",
       "      <td>4</td>\n",
       "      <td>4</td>\n",
       "      <td>2020</td>\n",
       "    </tr>\n",
       "    <tr>\n",
       "      <th>2020-04-04</th>\n",
       "      <td>764</td>\n",
       "      <td>14681</td>\n",
       "      <td>4585</td>\n",
       "      <td>119827</td>\n",
       "      <td>4</td>\n",
       "      <td>4</td>\n",
       "      <td>5</td>\n",
       "      <td>2020</td>\n",
       "    </tr>\n",
       "    <tr>\n",
       "      <th>2020-04-05</th>\n",
       "      <td>681</td>\n",
       "      <td>15362</td>\n",
       "      <td>4805</td>\n",
       "      <td>124632</td>\n",
       "      <td>5</td>\n",
       "      <td>4</td>\n",
       "      <td>6</td>\n",
       "      <td>2020</td>\n",
       "    </tr>\n",
       "    <tr>\n",
       "      <th>2020-04-06</th>\n",
       "      <td>527</td>\n",
       "      <td>15889</td>\n",
       "      <td>4316</td>\n",
       "      <td>128948</td>\n",
       "      <td>6</td>\n",
       "      <td>4</td>\n",
       "      <td>0</td>\n",
       "      <td>2020</td>\n",
       "    </tr>\n",
       "  </tbody>\n",
       "</table>\n",
       "<p>68 rows × 8 columns</p>\n",
       "</div>"
      ],
      "text/plain": [
       "            Deaths  Cumulative_Deaths  Confirmed  Cumulative_Confirmed  Day  \\\n",
       "Date                                                                          \n",
       "2020-01-30       0                  0          2                     2   30   \n",
       "2020-01-31       0                  0          0                     2   31   \n",
       "2020-02-01       0                  0          0                     2    1   \n",
       "2020-02-02       0                  0          0                     2    2   \n",
       "2020-02-03       0                  0          0                     2    3   \n",
       "2020-02-04       0                  0          0                     2    4   \n",
       "2020-02-05       0                  0          0                     2    5   \n",
       "2020-02-06       0                  0          0                     2    6   \n",
       "2020-02-07       0                  0          1                     3    7   \n",
       "2020-02-08       0                  0          0                     3    8   \n",
       "2020-02-09       0                  0          0                     3    9   \n",
       "2020-02-10       0                  0          0                     3   10   \n",
       "2020-02-11       0                  0          0                     3   11   \n",
       "2020-02-12       0                  0          0                     3   12   \n",
       "2020-02-13       0                  0          0                     3   13   \n",
       "2020-02-14       0                  0          0                     3   14   \n",
       "2020-02-15       0                  0          0                     3   15   \n",
       "2020-02-16       0                  0          0                     3   16   \n",
       "2020-02-17       0                  0          0                     3   17   \n",
       "2020-02-18       0                  0          0                     3   18   \n",
       "2020-02-19       0                  0          0                     3   19   \n",
       "2020-02-20       0                  0          0                     3   20   \n",
       "2020-02-21       0                  0          0                     3   21   \n",
       "2020-02-22       1                  1          6                     9   22   \n",
       "2020-02-23       1                  2         67                    76   23   \n",
       "2020-02-24       0                  2         48                   124   24   \n",
       "2020-02-25       5                  7        105                   229   25   \n",
       "2020-02-26       5                 12         93                   322   26   \n",
       "2020-02-27       0                 12         78                   400   27   \n",
       "2020-02-28       5                 17        250                   650   28   \n",
       "...            ...                ...        ...                   ...  ...   \n",
       "2020-03-08      37                234       1247                  5883    8   \n",
       "2020-03-09     132                366       1492                  7375    9   \n",
       "2020-03-10      97                463       1797                  9172   10   \n",
       "2020-03-11     168                631        977                 10149   11   \n",
       "2020-03-12     196                827       2313                 12462   12   \n",
       "2020-03-13     189               1016       2651                 15113   13   \n",
       "2020-03-14     252               1268       2547                 17660   14   \n",
       "2020-03-15     173               1441       3497                 21157   15   \n",
       "2020-03-16     368               1809       3590                 24747   16   \n",
       "2020-03-17     349               2158       3233                 27980   17   \n",
       "2020-03-18     347               2505       3526                 31506   18   \n",
       "2020-03-19     473               2978       4207                 35713   19   \n",
       "2020-03-20     429               3407       5322                 41035   20   \n",
       "2020-03-21     625               4032       5986                 47021   21   \n",
       "2020-03-22     795               4827       6557                 53578   22   \n",
       "2020-03-23     649               5476       5560                 59138   23   \n",
       "2020-03-24     601               6077       4789                 63927   24   \n",
       "2020-03-25     743               6820       5249                 69176   25   \n",
       "2020-03-26     685               7505       5210                 74386   26   \n",
       "2020-03-27     660               8165       6153                 80539   27   \n",
       "2020-03-28     971               9136       5959                 86498   28   \n",
       "2020-03-29     887              10023       5974                 92472   29   \n",
       "2020-03-30     758              10781       5217                 97689   30   \n",
       "2020-03-31     810              11591       4050                101739   31   \n",
       "2020-04-01     839              12430       4053                105792    1   \n",
       "2020-04-02     727              13157       4782                110574    2   \n",
       "2020-04-03     760              13917       4668                115242    3   \n",
       "2020-04-04     764              14681       4585                119827    4   \n",
       "2020-04-05     681              15362       4805                124632    5   \n",
       "2020-04-06     527              15889       4316                128948    6   \n",
       "\n",
       "            Month  Weekday  Year  \n",
       "Date                              \n",
       "2020-01-30      1        3  2020  \n",
       "2020-01-31      1        4  2020  \n",
       "2020-02-01      2        5  2020  \n",
       "2020-02-02      2        6  2020  \n",
       "2020-02-03      2        0  2020  \n",
       "2020-02-04      2        1  2020  \n",
       "2020-02-05      2        2  2020  \n",
       "2020-02-06      2        3  2020  \n",
       "2020-02-07      2        4  2020  \n",
       "2020-02-08      2        5  2020  \n",
       "2020-02-09      2        6  2020  \n",
       "2020-02-10      2        0  2020  \n",
       "2020-02-11      2        1  2020  \n",
       "2020-02-12      2        2  2020  \n",
       "2020-02-13      2        3  2020  \n",
       "2020-02-14      2        4  2020  \n",
       "2020-02-15      2        5  2020  \n",
       "2020-02-16      2        6  2020  \n",
       "2020-02-17      2        0  2020  \n",
       "2020-02-18      2        1  2020  \n",
       "2020-02-19      2        2  2020  \n",
       "2020-02-20      2        3  2020  \n",
       "2020-02-21      2        4  2020  \n",
       "2020-02-22      2        5  2020  \n",
       "2020-02-23      2        6  2020  \n",
       "2020-02-24      2        0  2020  \n",
       "2020-02-25      2        1  2020  \n",
       "2020-02-26      2        2  2020  \n",
       "2020-02-27      2        3  2020  \n",
       "2020-02-28      2        4  2020  \n",
       "...           ...      ...   ...  \n",
       "2020-03-08      3        6  2020  \n",
       "2020-03-09      3        0  2020  \n",
       "2020-03-10      3        1  2020  \n",
       "2020-03-11      3        2  2020  \n",
       "2020-03-12      3        3  2020  \n",
       "2020-03-13      3        4  2020  \n",
       "2020-03-14      3        5  2020  \n",
       "2020-03-15      3        6  2020  \n",
       "2020-03-16      3        0  2020  \n",
       "2020-03-17      3        1  2020  \n",
       "2020-03-18      3        2  2020  \n",
       "2020-03-19      3        3  2020  \n",
       "2020-03-20      3        4  2020  \n",
       "2020-03-21      3        5  2020  \n",
       "2020-03-22      3        6  2020  \n",
       "2020-03-23      3        0  2020  \n",
       "2020-03-24      3        1  2020  \n",
       "2020-03-25      3        2  2020  \n",
       "2020-03-26      3        3  2020  \n",
       "2020-03-27      3        4  2020  \n",
       "2020-03-28      3        5  2020  \n",
       "2020-03-29      3        6  2020  \n",
       "2020-03-30      3        0  2020  \n",
       "2020-03-31      3        1  2020  \n",
       "2020-04-01      4        2  2020  \n",
       "2020-04-02      4        3  2020  \n",
       "2020-04-03      4        4  2020  \n",
       "2020-04-04      4        5  2020  \n",
       "2020-04-05      4        6  2020  \n",
       "2020-04-06      4        0  2020  \n",
       "\n",
       "[68 rows x 8 columns]"
      ]
     },
     "execution_count": 54,
     "metadata": {},
     "output_type": "execute_result"
    }
   ],
   "source": [
    "Italy_updated.head(128)"
   ]
  },
  {
   "cell_type": "code",
   "execution_count": 13,
   "metadata": {},
   "outputs": [],
   "source": [
    "data_global = pd.read_csv('11th April 2020/WHO-COVID-19-global-data.csv')"
   ]
  },
  {
   "cell_type": "code",
   "execution_count": 14,
   "metadata": {},
   "outputs": [
    {
     "data": {
      "text/html": [
       "<div>\n",
       "<style scoped>\n",
       "    .dataframe tbody tr th:only-of-type {\n",
       "        vertical-align: middle;\n",
       "    }\n",
       "\n",
       "    .dataframe tbody tr th {\n",
       "        vertical-align: top;\n",
       "    }\n",
       "\n",
       "    .dataframe thead th {\n",
       "        text-align: right;\n",
       "    }\n",
       "</style>\n",
       "<table border=\"1\" class=\"dataframe\">\n",
       "  <thead>\n",
       "    <tr style=\"text-align: right;\">\n",
       "      <th></th>\n",
       "      <th>dateRep</th>\n",
       "      <th>day</th>\n",
       "      <th>month</th>\n",
       "      <th>year</th>\n",
       "      <th>cases</th>\n",
       "      <th>deaths</th>\n",
       "      <th>countriesAndTerritories</th>\n",
       "      <th>geoId</th>\n",
       "      <th>countryterritoryCode</th>\n",
       "      <th>popData2018</th>\n",
       "    </tr>\n",
       "  </thead>\n",
       "  <tbody>\n",
       "    <tr>\n",
       "      <th>0</th>\n",
       "      <td>10/04/2020</td>\n",
       "      <td>10</td>\n",
       "      <td>4</td>\n",
       "      <td>2020</td>\n",
       "      <td>61</td>\n",
       "      <td>1</td>\n",
       "      <td>Afghanistan</td>\n",
       "      <td>AF</td>\n",
       "      <td>AFG</td>\n",
       "      <td>37172386.0</td>\n",
       "    </tr>\n",
       "    <tr>\n",
       "      <th>1</th>\n",
       "      <td>09/04/2020</td>\n",
       "      <td>9</td>\n",
       "      <td>4</td>\n",
       "      <td>2020</td>\n",
       "      <td>56</td>\n",
       "      <td>3</td>\n",
       "      <td>Afghanistan</td>\n",
       "      <td>AF</td>\n",
       "      <td>AFG</td>\n",
       "      <td>37172386.0</td>\n",
       "    </tr>\n",
       "    <tr>\n",
       "      <th>2</th>\n",
       "      <td>08/04/2020</td>\n",
       "      <td>8</td>\n",
       "      <td>4</td>\n",
       "      <td>2020</td>\n",
       "      <td>30</td>\n",
       "      <td>4</td>\n",
       "      <td>Afghanistan</td>\n",
       "      <td>AF</td>\n",
       "      <td>AFG</td>\n",
       "      <td>37172386.0</td>\n",
       "    </tr>\n",
       "    <tr>\n",
       "      <th>3</th>\n",
       "      <td>07/04/2020</td>\n",
       "      <td>7</td>\n",
       "      <td>4</td>\n",
       "      <td>2020</td>\n",
       "      <td>38</td>\n",
       "      <td>0</td>\n",
       "      <td>Afghanistan</td>\n",
       "      <td>AF</td>\n",
       "      <td>AFG</td>\n",
       "      <td>37172386.0</td>\n",
       "    </tr>\n",
       "    <tr>\n",
       "      <th>4</th>\n",
       "      <td>06/04/2020</td>\n",
       "      <td>6</td>\n",
       "      <td>4</td>\n",
       "      <td>2020</td>\n",
       "      <td>29</td>\n",
       "      <td>2</td>\n",
       "      <td>Afghanistan</td>\n",
       "      <td>AF</td>\n",
       "      <td>AFG</td>\n",
       "      <td>37172386.0</td>\n",
       "    </tr>\n",
       "  </tbody>\n",
       "</table>\n",
       "</div>"
      ],
      "text/plain": [
       "      dateRep  day  month  year  cases  deaths countriesAndTerritories geoId  \\\n",
       "0  10/04/2020   10      4  2020     61       1             Afghanistan    AF   \n",
       "1  09/04/2020    9      4  2020     56       3             Afghanistan    AF   \n",
       "2  08/04/2020    8      4  2020     30       4             Afghanistan    AF   \n",
       "3  07/04/2020    7      4  2020     38       0             Afghanistan    AF   \n",
       "4  06/04/2020    6      4  2020     29       2             Afghanistan    AF   \n",
       "\n",
       "  countryterritoryCode  popData2018  \n",
       "0                  AFG   37172386.0  \n",
       "1                  AFG   37172386.0  \n",
       "2                  AFG   37172386.0  \n",
       "3                  AFG   37172386.0  \n",
       "4                  AFG   37172386.0  "
      ]
     },
     "execution_count": 14,
     "metadata": {},
     "output_type": "execute_result"
    }
   ],
   "source": [
    "data.head()"
   ]
  },
  {
   "cell_type": "code",
   "execution_count": 17,
   "metadata": {},
   "outputs": [],
   "source": [
    "data_government = pd.read_csv('11th April 2020/Goverment_Policy.csv')"
   ]
  },
  {
   "cell_type": "code",
   "execution_count": 19,
   "metadata": {},
   "outputs": [
    {
     "data": {
      "text/html": [
       "<div>\n",
       "<style scoped>\n",
       "    .dataframe tbody tr th:only-of-type {\n",
       "        vertical-align: middle;\n",
       "    }\n",
       "\n",
       "    .dataframe tbody tr th {\n",
       "        vertical-align: top;\n",
       "    }\n",
       "\n",
       "    .dataframe thead th {\n",
       "        text-align: right;\n",
       "    }\n",
       "</style>\n",
       "<table border=\"1\" class=\"dataframe\">\n",
       "  <thead>\n",
       "    <tr style=\"text-align: right;\">\n",
       "      <th></th>\n",
       "      <th>ID</th>\n",
       "      <th>COUNTRY</th>\n",
       "      <th>ISO</th>\n",
       "      <th>ADMIN_LEVEL_NAME</th>\n",
       "      <th>PCODE</th>\n",
       "      <th>REGION</th>\n",
       "      <th>LOG_TYPE</th>\n",
       "      <th>CATEGORY</th>\n",
       "      <th>MEASURE</th>\n",
       "      <th>TARGETED_POP_GROUP</th>\n",
       "      <th>COMMENTS</th>\n",
       "      <th>NON_COMPLIANCE</th>\n",
       "      <th>DATE_IMPLEMENTED</th>\n",
       "      <th>SOURCE</th>\n",
       "      <th>SOURCE_TYPE</th>\n",
       "      <th>LINK</th>\n",
       "      <th>ENTRY_DATE</th>\n",
       "      <th>Alternative source</th>\n",
       "    </tr>\n",
       "  </thead>\n",
       "  <tbody>\n",
       "    <tr>\n",
       "      <th>0</th>\n",
       "      <td>1</td>\n",
       "      <td>Afghanistan</td>\n",
       "      <td>AFG</td>\n",
       "      <td>NaN</td>\n",
       "      <td>NaN</td>\n",
       "      <td>Asia</td>\n",
       "      <td>Introduction / extension of measures</td>\n",
       "      <td>Public health measures</td>\n",
       "      <td>Health screenings in airports and border cross...</td>\n",
       "      <td>No</td>\n",
       "      <td>NaN</td>\n",
       "      <td>NaN</td>\n",
       "      <td>12/02/2020</td>\n",
       "      <td>Ministry of Health</td>\n",
       "      <td>Government</td>\n",
       "      <td>https://moph.gov.af/en/moph-held-emergency-mee...</td>\n",
       "      <td>14/03/2020</td>\n",
       "      <td>NaN</td>\n",
       "    </tr>\n",
       "    <tr>\n",
       "      <th>1</th>\n",
       "      <td>2</td>\n",
       "      <td>Afghanistan</td>\n",
       "      <td>AFG</td>\n",
       "      <td>Kabul</td>\n",
       "      <td>NaN</td>\n",
       "      <td>Asia</td>\n",
       "      <td>Introduction / extension of measures</td>\n",
       "      <td>Public health measures</td>\n",
       "      <td>Introduction of isolation and quarantine policies</td>\n",
       "      <td>No</td>\n",
       "      <td>NaN</td>\n",
       "      <td>NaN</td>\n",
       "      <td>12/02/2020</td>\n",
       "      <td>Ministry of Health</td>\n",
       "      <td>Government</td>\n",
       "      <td>https://moph.gov.af/en/moph-held-emergency-mee...</td>\n",
       "      <td>14/03/2020</td>\n",
       "      <td>NaN</td>\n",
       "    </tr>\n",
       "    <tr>\n",
       "      <th>2</th>\n",
       "      <td>3</td>\n",
       "      <td>Afghanistan</td>\n",
       "      <td>AFG</td>\n",
       "      <td>NaN</td>\n",
       "      <td>NaN</td>\n",
       "      <td>Asia</td>\n",
       "      <td>Introduction / extension of measures</td>\n",
       "      <td>Public health measures</td>\n",
       "      <td>Awareness campaigns</td>\n",
       "      <td>No</td>\n",
       "      <td>NaN</td>\n",
       "      <td>NaN</td>\n",
       "      <td>12/02/2020</td>\n",
       "      <td>Ministry of Health</td>\n",
       "      <td>Government</td>\n",
       "      <td>https://moph.gov.af/en/moph-held-emergency-mee...</td>\n",
       "      <td>14/03/2020</td>\n",
       "      <td>NaN</td>\n",
       "    </tr>\n",
       "    <tr>\n",
       "      <th>3</th>\n",
       "      <td>4</td>\n",
       "      <td>Afghanistan</td>\n",
       "      <td>AFG</td>\n",
       "      <td>NaN</td>\n",
       "      <td>NaN</td>\n",
       "      <td>Asia</td>\n",
       "      <td>Introduction / extension of measures</td>\n",
       "      <td>Governance and socio-economic measures</td>\n",
       "      <td>Emergency administrative structures activated ...</td>\n",
       "      <td>No</td>\n",
       "      <td>NaN</td>\n",
       "      <td>NaN</td>\n",
       "      <td>12/02/2020</td>\n",
       "      <td>Ministry of Health</td>\n",
       "      <td>Government</td>\n",
       "      <td>https://moph.gov.af/en/moph-held-emergency-mee...</td>\n",
       "      <td>14/03/2020</td>\n",
       "      <td>NaN</td>\n",
       "    </tr>\n",
       "    <tr>\n",
       "      <th>4</th>\n",
       "      <td>5</td>\n",
       "      <td>Afghanistan</td>\n",
       "      <td>AFG</td>\n",
       "      <td>NaN</td>\n",
       "      <td>NaN</td>\n",
       "      <td>Asia</td>\n",
       "      <td>Introduction / extension of measures</td>\n",
       "      <td>Social distancing</td>\n",
       "      <td>Limit public gatherings</td>\n",
       "      <td>No</td>\n",
       "      <td>Nevruz festival cancelled</td>\n",
       "      <td>NaN</td>\n",
       "      <td>12/03/2020</td>\n",
       "      <td>AA</td>\n",
       "      <td>Media</td>\n",
       "      <td>https://www.aa.com.tr/en/asia-pacific/coronavi...</td>\n",
       "      <td>14/03/2020</td>\n",
       "      <td>NaN</td>\n",
       "    </tr>\n",
       "  </tbody>\n",
       "</table>\n",
       "</div>"
      ],
      "text/plain": [
       "   ID      COUNTRY  ISO ADMIN_LEVEL_NAME  PCODE REGION  \\\n",
       "0   1  Afghanistan  AFG              NaN    NaN   Asia   \n",
       "1   2  Afghanistan  AFG            Kabul    NaN   Asia   \n",
       "2   3  Afghanistan  AFG              NaN    NaN   Asia   \n",
       "3   4  Afghanistan  AFG              NaN    NaN   Asia   \n",
       "4   5  Afghanistan  AFG              NaN    NaN   Asia   \n",
       "\n",
       "                               LOG_TYPE  \\\n",
       "0  Introduction / extension of measures   \n",
       "1  Introduction / extension of measures   \n",
       "2  Introduction / extension of measures   \n",
       "3  Introduction / extension of measures   \n",
       "4  Introduction / extension of measures   \n",
       "\n",
       "                                 CATEGORY  \\\n",
       "0                  Public health measures   \n",
       "1                  Public health measures   \n",
       "2                  Public health measures   \n",
       "3  Governance and socio-economic measures   \n",
       "4                       Social distancing   \n",
       "\n",
       "                                             MEASURE TARGETED_POP_GROUP  \\\n",
       "0  Health screenings in airports and border cross...                 No   \n",
       "1  Introduction of isolation and quarantine policies                 No   \n",
       "2                                Awareness campaigns                 No   \n",
       "3  Emergency administrative structures activated ...                 No   \n",
       "4                            Limit public gatherings                 No   \n",
       "\n",
       "                    COMMENTS NON_COMPLIANCE DATE_IMPLEMENTED  \\\n",
       "0                        NaN            NaN       12/02/2020   \n",
       "1                        NaN            NaN       12/02/2020   \n",
       "2                        NaN            NaN       12/02/2020   \n",
       "3                        NaN            NaN       12/02/2020   \n",
       "4  Nevruz festival cancelled            NaN       12/03/2020   \n",
       "\n",
       "               SOURCE SOURCE_TYPE  \\\n",
       "0  Ministry of Health  Government   \n",
       "1  Ministry of Health  Government   \n",
       "2  Ministry of Health  Government   \n",
       "3  Ministry of Health  Government   \n",
       "4                  AA       Media   \n",
       "\n",
       "                                                LINK  ENTRY_DATE  \\\n",
       "0  https://moph.gov.af/en/moph-held-emergency-mee...  14/03/2020   \n",
       "1  https://moph.gov.af/en/moph-held-emergency-mee...  14/03/2020   \n",
       "2  https://moph.gov.af/en/moph-held-emergency-mee...  14/03/2020   \n",
       "3  https://moph.gov.af/en/moph-held-emergency-mee...  14/03/2020   \n",
       "4  https://www.aa.com.tr/en/asia-pacific/coronavi...  14/03/2020   \n",
       "\n",
       "  Alternative source  \n",
       "0                NaN  \n",
       "1                NaN  \n",
       "2                NaN  \n",
       "3                NaN  \n",
       "4                NaN  "
      ]
     },
     "execution_count": 19,
     "metadata": {},
     "output_type": "execute_result"
    }
   ],
   "source": [
    "data_government.head()"
   ]
  },
  {
   "cell_type": "code",
   "execution_count": 20,
   "metadata": {},
   "outputs": [
    {
     "name": "stdout",
     "output_type": "stream",
     "text": [
      "<class 'pandas.core.frame.DataFrame'>\n",
      "RangeIndex: 4453 entries, 0 to 4452\n",
      "Data columns (total 18 columns):\n",
      "ID                    4453 non-null int64\n",
      "COUNTRY               4453 non-null object\n",
      "ISO                   4453 non-null object\n",
      "ADMIN_LEVEL_NAME      252 non-null object\n",
      "PCODE                 0 non-null float64\n",
      "REGION                4453 non-null object\n",
      "LOG_TYPE              4453 non-null object\n",
      "CATEGORY              4452 non-null object\n",
      "MEASURE               4453 non-null object\n",
      "TARGETED_POP_GROUP    4440 non-null object\n",
      "COMMENTS              4309 non-null object\n",
      "NON_COMPLIANCE        3005 non-null object\n",
      "DATE_IMPLEMENTED      4274 non-null object\n",
      "SOURCE                4436 non-null object\n",
      "SOURCE_TYPE           4435 non-null object\n",
      "LINK                  4424 non-null object\n",
      "ENTRY_DATE            4453 non-null object\n",
      "Alternative source    351 non-null object\n",
      "dtypes: float64(1), int64(1), object(16)\n",
      "memory usage: 626.3+ KB\n"
     ]
    }
   ],
   "source": [
    "data_government.info()"
   ]
  },
  {
   "cell_type": "code",
   "execution_count": 25,
   "metadata": {},
   "outputs": [
    {
     "data": {
      "text/plain": [
       "array(['Public health measures', 'Governance and socio-economic measures',\n",
       "       'Social distancing', 'Movement restrictions', 'Lockdown',\n",
       "       'Humanitarian exemption', nan], dtype=object)"
      ]
     },
     "execution_count": 25,
     "metadata": {},
     "output_type": "execute_result"
    }
   ],
   "source": [
    "data_government.CATEGORY.unique()"
   ]
  },
  {
   "cell_type": "code",
   "execution_count": 27,
   "metadata": {},
   "outputs": [
    {
     "data": {
      "text/plain": [
       "38"
      ]
     },
     "execution_count": 27,
     "metadata": {},
     "output_type": "execute_result"
    }
   ],
   "source": [
    "len(data_government.MEASURE.unique())"
   ]
  },
  {
   "cell_type": "code",
   "execution_count": null,
   "metadata": {},
   "outputs": [],
   "source": []
  }
 ],
 "metadata": {
  "kernelspec": {
   "display_name": "Python 3",
   "language": "python",
   "name": "python3"
  },
  "language_info": {
   "codemirror_mode": {
    "name": "ipython",
    "version": 3
   },
   "file_extension": ".py",
   "mimetype": "text/x-python",
   "name": "python",
   "nbconvert_exporter": "python",
   "pygments_lexer": "ipython3",
   "version": "3.6.9"
  }
 },
 "nbformat": 4,
 "nbformat_minor": 2
}
