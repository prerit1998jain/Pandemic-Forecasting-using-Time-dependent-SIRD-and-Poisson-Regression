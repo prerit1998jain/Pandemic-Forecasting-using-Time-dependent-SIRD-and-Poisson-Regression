{
 "cells": [
  {
   "cell_type": "code",
   "execution_count": 1,
   "metadata": {},
   "outputs": [],
   "source": [
    "# Importing Packages\n",
    "\n",
    "import pandas as pd\n",
    "from patsy import dmatrices\n",
    "import numpy as np\n",
    "import statsmodels.api as sm\n",
    "import matplotlib.pyplot as plt\n",
    "import seaborn as sn"
   ]
  },
  {
   "cell_type": "code",
   "execution_count": 2,
   "metadata": {},
   "outputs": [],
   "source": [
    "# Reading the dataset\n",
    "data_tests = pd.read_csv('Country-wise_data_testing_information/2nd May/Austria_data.csv')\n",
    "data_policy = pd.read_csv('Cases_and_policies_Country_wise/2nd May/Austria_Covid_Policies.csv')"
   ]
  },
  {
   "cell_type": "code",
   "execution_count": 3,
   "metadata": {
    "scrolled": false
   },
   "outputs": [
    {
     "name": "stdout",
     "output_type": "stream",
     "text": [
      "<class 'pandas.core.frame.DataFrame'>\n",
      "RangeIndex: 124 entries, 0 to 123\n",
      "Data columns (total 7 columns):\n",
      "date            124 non-null object\n",
      "location        124 non-null object\n",
      "new_cases       124 non-null int64\n",
      "new_deaths      124 non-null int64\n",
      "total_cases     124 non-null int64\n",
      "total_deaths    124 non-null int64\n",
      "total_tests     124 non-null int64\n",
      "dtypes: int64(5), object(2)\n",
      "memory usage: 6.9+ KB\n"
     ]
    }
   ],
   "source": [
    "data_tests.info()"
   ]
  },
  {
   "cell_type": "code",
   "execution_count": 4,
   "metadata": {
    "scrolled": true
   },
   "outputs": [
    {
     "name": "stdout",
     "output_type": "stream",
     "text": [
      "<class 'pandas.core.frame.DataFrame'>\n",
      "RangeIndex: 124 entries, 0 to 123\n",
      "Data columns (total 14 columns):\n",
      "Unnamed: 0                       124 non-null int64\n",
      "date                             124 non-null object\n",
      "location                         124 non-null object\n",
      "new_cases                        124 non-null int64\n",
      "new_deaths                       124 non-null int64\n",
      "total_cases                      124 non-null int64\n",
      "total_deaths                     124 non-null int64\n",
      "Date                             124 non-null object\n",
      "Lockdown                         124 non-null float64\n",
      "Public_Health                    124 non-null float64\n",
      "Governance_and_socio-economic    124 non-null float64\n",
      "Humanitarian_exemption           124 non-null float64\n",
      "Social_distancing                124 non-null float64\n",
      "Movement_restrictions            124 non-null float64\n",
      "dtypes: float64(6), int64(5), object(3)\n",
      "memory usage: 13.6+ KB\n"
     ]
    }
   ],
   "source": [
    "data_policy.info()"
   ]
  },
  {
   "cell_type": "code",
   "execution_count": 5,
   "metadata": {},
   "outputs": [],
   "source": [
    "# Converting the datatype of dates to datetime\n",
    "dates = pd.to_datetime(data_policy['date'], format = '%Y-%m-%d')\n",
    "# Adding dates to the dataframe\n",
    "data_policy['Date'] = dates\n",
    "\n",
    "# Reading the dataset\n",
    "#data = pd.read_csv('Country-wise_data_testing_information/Austria_data.csv')\n",
    "\n",
    "# Converting the datatype of dates to datetime\n",
    "dates = pd.to_datetime(data_tests['date'], format = '%Y-%m-%d')\n",
    "\n",
    "# Adding dates to the dataframe\n",
    "data_tests['Date'] = dates\n",
    "\n",
    "# Removing the original object datatype\n",
    "# data = data.drop(labels = ['day'], axis = 1)"
   ]
  },
  {
   "cell_type": "code",
   "execution_count": 6,
   "metadata": {
    "scrolled": true
   },
   "outputs": [
    {
     "name": "stdout",
     "output_type": "stream",
     "text": [
      "<class 'pandas.core.frame.DataFrame'>\n",
      "RangeIndex: 124 entries, 0 to 123\n",
      "Data columns (total 8 columns):\n",
      "date            124 non-null object\n",
      "location        124 non-null object\n",
      "new_cases       124 non-null int64\n",
      "new_deaths      124 non-null int64\n",
      "total_cases     124 non-null int64\n",
      "total_deaths    124 non-null int64\n",
      "total_tests     124 non-null int64\n",
      "Date            124 non-null datetime64[ns]\n",
      "dtypes: datetime64[ns](1), int64(5), object(2)\n",
      "memory usage: 7.8+ KB\n"
     ]
    }
   ],
   "source": [
    "data_tests.info()"
   ]
  },
  {
   "cell_type": "code",
   "execution_count": 7,
   "metadata": {
    "scrolled": true
   },
   "outputs": [
    {
     "name": "stdout",
     "output_type": "stream",
     "text": [
      "<class 'pandas.core.frame.DataFrame'>\n",
      "RangeIndex: 124 entries, 0 to 123\n",
      "Data columns (total 14 columns):\n",
      "Unnamed: 0                       124 non-null int64\n",
      "date                             124 non-null object\n",
      "location                         124 non-null object\n",
      "new_cases                        124 non-null int64\n",
      "new_deaths                       124 non-null int64\n",
      "total_cases                      124 non-null int64\n",
      "total_deaths                     124 non-null int64\n",
      "Date                             124 non-null datetime64[ns]\n",
      "Lockdown                         124 non-null float64\n",
      "Public_Health                    124 non-null float64\n",
      "Governance_and_socio-economic    124 non-null float64\n",
      "Humanitarian_exemption           124 non-null float64\n",
      "Social_distancing                124 non-null float64\n",
      "Movement_restrictions            124 non-null float64\n",
      "dtypes: datetime64[ns](1), float64(6), int64(5), object(2)\n",
      "memory usage: 13.6+ KB\n"
     ]
    }
   ],
   "source": [
    "data_policy.info()"
   ]
  },
  {
   "cell_type": "code",
   "execution_count": 8,
   "metadata": {},
   "outputs": [],
   "source": [
    "# Dataset Preprocessing before running the model\n",
    "def dataset_preprocess_policy(df):\n",
    "    \n",
    "    # Setting date as the index of the dataframe\n",
    "    df = df.set_index('Date')\n",
    "    \n",
    "    #Creating different columns with regressor variables\n",
    "    ds = df.index.to_series()\n",
    "    df['Day'] = ds.dt.day\n",
    "    df['Month'] = ds.dt.month\n",
    "    df['Weekday'] = ds.dt.dayofweek\n",
    "    df['Year'] = ds.dt.year\n",
    "    \n",
    "    # Dropping the text columns which have same entries at each row\n",
    "    #df = df.drop(['Country', 'day', 'Country Name', 'Region','Unnamed: 0', ], axis = 1)\n",
    "    df = df.drop(['Unnamed: 0','date','location','new_cases', 'new_deaths','total_cases','total_deaths'], axis = 1)\n",
    "    df = df.drop(df.index[len(df)-1])\n",
    "    \n",
    "    #return the dataframe\n",
    "    return(df)"
   ]
  },
  {
   "cell_type": "code",
   "execution_count": 9,
   "metadata": {},
   "outputs": [],
   "source": [
    "# Dataset Preprocessing before running the model\n",
    "def dataset_preprocess_tests(df):\n",
    "    \n",
    "    # Setting date as the index of the dataframe\n",
    "    df = df.set_index('Date')\n",
    "    \n",
    "    #Creating different columns with regressor variables\n",
    "#     ds = df.index.to_series()\n",
    "#     df['Day'] = ds.dt.day\n",
    "#     df['Month'] = ds.dt.month\n",
    "#     df['Weekday'] = ds.dt.dayofweek\n",
    "#     df['Year'] = ds.dt.year\n",
    "    \n",
    "    # Dropping the text columns which have same entries at each row\n",
    "    df = df.drop(['date'], axis = 1)\n",
    "#     df = df.drop([ 'countriesAndTerritories','geoId', 'dateRep', 'countryterritoryCode', 'cases', 'deaths'], axis = 1)\n",
    "    #df = df.drop(df.index[len(df)-1])\n",
    "    \n",
    "    #return the dataframe\n",
    "    return(df)"
   ]
  },
  {
   "cell_type": "code",
   "execution_count": 10,
   "metadata": {},
   "outputs": [],
   "source": [
    "data_policy = dataset_preprocess_policy(data_policy)\n",
    "data_tests = dataset_preprocess_tests(data_tests)"
   ]
  },
  {
   "cell_type": "code",
   "execution_count": 11,
   "metadata": {},
   "outputs": [],
   "source": [
    "merge = pd.merge(data_tests,data_policy, how='inner', left_index=True, right_index=True)"
   ]
  },
  {
   "cell_type": "code",
   "execution_count": 12,
   "metadata": {},
   "outputs": [],
   "source": [
    "merge_updated = merge[merge['total_cases']>2]"
   ]
  },
  {
   "cell_type": "code",
   "execution_count": 13,
   "metadata": {
    "scrolled": true
   },
   "outputs": [
    {
     "data": {
      "text/html": [
       "<div>\n",
       "<style scoped>\n",
       "    .dataframe tbody tr th:only-of-type {\n",
       "        vertical-align: middle;\n",
       "    }\n",
       "\n",
       "    .dataframe tbody tr th {\n",
       "        vertical-align: top;\n",
       "    }\n",
       "\n",
       "    .dataframe thead th {\n",
       "        text-align: right;\n",
       "    }\n",
       "</style>\n",
       "<table border=\"1\" class=\"dataframe\">\n",
       "  <thead>\n",
       "    <tr style=\"text-align: right;\">\n",
       "      <th></th>\n",
       "      <th>location</th>\n",
       "      <th>new_cases</th>\n",
       "      <th>new_deaths</th>\n",
       "      <th>total_cases</th>\n",
       "      <th>total_deaths</th>\n",
       "      <th>total_tests</th>\n",
       "      <th>Lockdown</th>\n",
       "      <th>Public_Health</th>\n",
       "      <th>Governance_and_socio-economic</th>\n",
       "      <th>Humanitarian_exemption</th>\n",
       "      <th>Social_distancing</th>\n",
       "      <th>Movement_restrictions</th>\n",
       "      <th>Day</th>\n",
       "      <th>Month</th>\n",
       "      <th>Weekday</th>\n",
       "      <th>Year</th>\n",
       "    </tr>\n",
       "    <tr>\n",
       "      <th>Date</th>\n",
       "      <th></th>\n",
       "      <th></th>\n",
       "      <th></th>\n",
       "      <th></th>\n",
       "      <th></th>\n",
       "      <th></th>\n",
       "      <th></th>\n",
       "      <th></th>\n",
       "      <th></th>\n",
       "      <th></th>\n",
       "      <th></th>\n",
       "      <th></th>\n",
       "      <th></th>\n",
       "      <th></th>\n",
       "      <th></th>\n",
       "      <th></th>\n",
       "    </tr>\n",
       "  </thead>\n",
       "  <tbody>\n",
       "    <tr>\n",
       "      <th>2020-02-28</th>\n",
       "      <td>Austria</td>\n",
       "      <td>3</td>\n",
       "      <td>0</td>\n",
       "      <td>5</td>\n",
       "      <td>0</td>\n",
       "      <td>316</td>\n",
       "      <td>0.0</td>\n",
       "      <td>0.0</td>\n",
       "      <td>0.0</td>\n",
       "      <td>0.0</td>\n",
       "      <td>0.0</td>\n",
       "      <td>0.0</td>\n",
       "      <td>28</td>\n",
       "      <td>2</td>\n",
       "      <td>4</td>\n",
       "      <td>2020</td>\n",
       "    </tr>\n",
       "    <tr>\n",
       "      <th>2020-02-29</th>\n",
       "      <td>Austria</td>\n",
       "      <td>2</td>\n",
       "      <td>0</td>\n",
       "      <td>7</td>\n",
       "      <td>0</td>\n",
       "      <td>886</td>\n",
       "      <td>0.0</td>\n",
       "      <td>0.0</td>\n",
       "      <td>0.0</td>\n",
       "      <td>0.0</td>\n",
       "      <td>0.0</td>\n",
       "      <td>0.0</td>\n",
       "      <td>29</td>\n",
       "      <td>2</td>\n",
       "      <td>5</td>\n",
       "      <td>2020</td>\n",
       "    </tr>\n",
       "    <tr>\n",
       "      <th>2020-03-01</th>\n",
       "      <td>Austria</td>\n",
       "      <td>3</td>\n",
       "      <td>0</td>\n",
       "      <td>10</td>\n",
       "      <td>0</td>\n",
       "      <td>104</td>\n",
       "      <td>0.0</td>\n",
       "      <td>0.0</td>\n",
       "      <td>0.0</td>\n",
       "      <td>0.0</td>\n",
       "      <td>0.0</td>\n",
       "      <td>0.0</td>\n",
       "      <td>1</td>\n",
       "      <td>3</td>\n",
       "      <td>6</td>\n",
       "      <td>2020</td>\n",
       "    </tr>\n",
       "    <tr>\n",
       "      <th>2020-03-02</th>\n",
       "      <td>Austria</td>\n",
       "      <td>4</td>\n",
       "      <td>0</td>\n",
       "      <td>14</td>\n",
       "      <td>0</td>\n",
       "      <td>127</td>\n",
       "      <td>0.0</td>\n",
       "      <td>0.0</td>\n",
       "      <td>0.0</td>\n",
       "      <td>0.0</td>\n",
       "      <td>0.0</td>\n",
       "      <td>0.0</td>\n",
       "      <td>2</td>\n",
       "      <td>3</td>\n",
       "      <td>0</td>\n",
       "      <td>2020</td>\n",
       "    </tr>\n",
       "    <tr>\n",
       "      <th>2020-03-03</th>\n",
       "      <td>Austria</td>\n",
       "      <td>4</td>\n",
       "      <td>0</td>\n",
       "      <td>18</td>\n",
       "      <td>0</td>\n",
       "      <td>317</td>\n",
       "      <td>0.0</td>\n",
       "      <td>0.0</td>\n",
       "      <td>0.0</td>\n",
       "      <td>0.0</td>\n",
       "      <td>0.0</td>\n",
       "      <td>0.0</td>\n",
       "      <td>3</td>\n",
       "      <td>3</td>\n",
       "      <td>1</td>\n",
       "      <td>2020</td>\n",
       "    </tr>\n",
       "  </tbody>\n",
       "</table>\n",
       "</div>"
      ],
      "text/plain": [
       "           location  new_cases  new_deaths  total_cases  total_deaths  \\\n",
       "Date                                                                    \n",
       "2020-02-28  Austria          3           0            5             0   \n",
       "2020-02-29  Austria          2           0            7             0   \n",
       "2020-03-01  Austria          3           0           10             0   \n",
       "2020-03-02  Austria          4           0           14             0   \n",
       "2020-03-03  Austria          4           0           18             0   \n",
       "\n",
       "            total_tests  Lockdown  Public_Health  \\\n",
       "Date                                               \n",
       "2020-02-28          316       0.0            0.0   \n",
       "2020-02-29          886       0.0            0.0   \n",
       "2020-03-01          104       0.0            0.0   \n",
       "2020-03-02          127       0.0            0.0   \n",
       "2020-03-03          317       0.0            0.0   \n",
       "\n",
       "            Governance_and_socio-economic  Humanitarian_exemption  \\\n",
       "Date                                                                \n",
       "2020-02-28                            0.0                     0.0   \n",
       "2020-02-29                            0.0                     0.0   \n",
       "2020-03-01                            0.0                     0.0   \n",
       "2020-03-02                            0.0                     0.0   \n",
       "2020-03-03                            0.0                     0.0   \n",
       "\n",
       "            Social_distancing  Movement_restrictions  Day  Month  Weekday  \\\n",
       "Date                                                                        \n",
       "2020-02-28                0.0                    0.0   28      2        4   \n",
       "2020-02-29                0.0                    0.0   29      2        5   \n",
       "2020-03-01                0.0                    0.0    1      3        6   \n",
       "2020-03-02                0.0                    0.0    2      3        0   \n",
       "2020-03-03                0.0                    0.0    3      3        1   \n",
       "\n",
       "            Year  \n",
       "Date              \n",
       "2020-02-28  2020  \n",
       "2020-02-29  2020  \n",
       "2020-03-01  2020  \n",
       "2020-03-02  2020  \n",
       "2020-03-03  2020  "
      ]
     },
     "execution_count": 13,
     "metadata": {},
     "output_type": "execute_result"
    }
   ],
   "source": [
    "merge_updated.head()"
   ]
  },
  {
   "cell_type": "code",
   "execution_count": 14,
   "metadata": {
    "scrolled": false
   },
   "outputs": [],
   "source": [
    "merge_updated = merge_updated.reset_index()"
   ]
  },
  {
   "cell_type": "code",
   "execution_count": 15,
   "metadata": {},
   "outputs": [
    {
     "data": {
      "text/plain": [
       "64"
      ]
     },
     "execution_count": 15,
     "metadata": {},
     "output_type": "execute_result"
    }
   ],
   "source": [
    "len(merge_updated)"
   ]
  },
  {
   "cell_type": "code",
   "execution_count": 16,
   "metadata": {},
   "outputs": [],
   "source": [
    "Days_since_start = np.arange(1,len(merge_updated)+1)\n",
    "merge_updated['days_completed'] = Days_since_start"
   ]
  },
  {
   "cell_type": "code",
   "execution_count": 17,
   "metadata": {
    "scrolled": true
   },
   "outputs": [
    {
     "name": "stdout",
     "output_type": "stream",
     "text": [
      "<class 'pandas.core.frame.DataFrame'>\n",
      "RangeIndex: 64 entries, 0 to 63\n",
      "Data columns (total 18 columns):\n",
      "Date                             64 non-null datetime64[ns]\n",
      "location                         64 non-null object\n",
      "new_cases                        64 non-null int64\n",
      "new_deaths                       64 non-null int64\n",
      "total_cases                      64 non-null int64\n",
      "total_deaths                     64 non-null int64\n",
      "total_tests                      64 non-null int64\n",
      "Lockdown                         64 non-null float64\n",
      "Public_Health                    64 non-null float64\n",
      "Governance_and_socio-economic    64 non-null float64\n",
      "Humanitarian_exemption           64 non-null float64\n",
      "Social_distancing                64 non-null float64\n",
      "Movement_restrictions            64 non-null float64\n",
      "Day                              64 non-null int64\n",
      "Month                            64 non-null int64\n",
      "Weekday                          64 non-null int64\n",
      "Year                             64 non-null int64\n",
      "days_completed                   64 non-null int64\n",
      "dtypes: datetime64[ns](1), float64(6), int64(10), object(1)\n",
      "memory usage: 9.1+ KB\n"
     ]
    }
   ],
   "source": [
    "merge_updated.info()"
   ]
  },
  {
   "cell_type": "code",
   "execution_count": 18,
   "metadata": {},
   "outputs": [
    {
     "data": {
      "text/html": [
       "<div>\n",
       "<style scoped>\n",
       "    .dataframe tbody tr th:only-of-type {\n",
       "        vertical-align: middle;\n",
       "    }\n",
       "\n",
       "    .dataframe tbody tr th {\n",
       "        vertical-align: top;\n",
       "    }\n",
       "\n",
       "    .dataframe thead th {\n",
       "        text-align: right;\n",
       "    }\n",
       "</style>\n",
       "<table border=\"1\" class=\"dataframe\">\n",
       "  <thead>\n",
       "    <tr style=\"text-align: right;\">\n",
       "      <th></th>\n",
       "      <th>Date</th>\n",
       "      <th>location</th>\n",
       "      <th>new_cases</th>\n",
       "      <th>new_deaths</th>\n",
       "      <th>total_cases</th>\n",
       "      <th>total_deaths</th>\n",
       "      <th>total_tests</th>\n",
       "      <th>Lockdown</th>\n",
       "      <th>Public_Health</th>\n",
       "      <th>Governance_and_socio-economic</th>\n",
       "      <th>Humanitarian_exemption</th>\n",
       "      <th>Social_distancing</th>\n",
       "      <th>Movement_restrictions</th>\n",
       "      <th>Day</th>\n",
       "      <th>Month</th>\n",
       "      <th>Weekday</th>\n",
       "      <th>Year</th>\n",
       "      <th>days_completed</th>\n",
       "    </tr>\n",
       "  </thead>\n",
       "  <tbody>\n",
       "    <tr>\n",
       "      <th>0</th>\n",
       "      <td>2020-02-28</td>\n",
       "      <td>Austria</td>\n",
       "      <td>3</td>\n",
       "      <td>0</td>\n",
       "      <td>5</td>\n",
       "      <td>0</td>\n",
       "      <td>316</td>\n",
       "      <td>0.0</td>\n",
       "      <td>0.0</td>\n",
       "      <td>0.0</td>\n",
       "      <td>0.0</td>\n",
       "      <td>0.0</td>\n",
       "      <td>0.0</td>\n",
       "      <td>28</td>\n",
       "      <td>2</td>\n",
       "      <td>4</td>\n",
       "      <td>2020</td>\n",
       "      <td>1</td>\n",
       "    </tr>\n",
       "    <tr>\n",
       "      <th>1</th>\n",
       "      <td>2020-02-29</td>\n",
       "      <td>Austria</td>\n",
       "      <td>2</td>\n",
       "      <td>0</td>\n",
       "      <td>7</td>\n",
       "      <td>0</td>\n",
       "      <td>886</td>\n",
       "      <td>0.0</td>\n",
       "      <td>0.0</td>\n",
       "      <td>0.0</td>\n",
       "      <td>0.0</td>\n",
       "      <td>0.0</td>\n",
       "      <td>0.0</td>\n",
       "      <td>29</td>\n",
       "      <td>2</td>\n",
       "      <td>5</td>\n",
       "      <td>2020</td>\n",
       "      <td>2</td>\n",
       "    </tr>\n",
       "    <tr>\n",
       "      <th>2</th>\n",
       "      <td>2020-03-01</td>\n",
       "      <td>Austria</td>\n",
       "      <td>3</td>\n",
       "      <td>0</td>\n",
       "      <td>10</td>\n",
       "      <td>0</td>\n",
       "      <td>104</td>\n",
       "      <td>0.0</td>\n",
       "      <td>0.0</td>\n",
       "      <td>0.0</td>\n",
       "      <td>0.0</td>\n",
       "      <td>0.0</td>\n",
       "      <td>0.0</td>\n",
       "      <td>1</td>\n",
       "      <td>3</td>\n",
       "      <td>6</td>\n",
       "      <td>2020</td>\n",
       "      <td>3</td>\n",
       "    </tr>\n",
       "    <tr>\n",
       "      <th>3</th>\n",
       "      <td>2020-03-02</td>\n",
       "      <td>Austria</td>\n",
       "      <td>4</td>\n",
       "      <td>0</td>\n",
       "      <td>14</td>\n",
       "      <td>0</td>\n",
       "      <td>127</td>\n",
       "      <td>0.0</td>\n",
       "      <td>0.0</td>\n",
       "      <td>0.0</td>\n",
       "      <td>0.0</td>\n",
       "      <td>0.0</td>\n",
       "      <td>0.0</td>\n",
       "      <td>2</td>\n",
       "      <td>3</td>\n",
       "      <td>0</td>\n",
       "      <td>2020</td>\n",
       "      <td>4</td>\n",
       "    </tr>\n",
       "    <tr>\n",
       "      <th>4</th>\n",
       "      <td>2020-03-03</td>\n",
       "      <td>Austria</td>\n",
       "      <td>4</td>\n",
       "      <td>0</td>\n",
       "      <td>18</td>\n",
       "      <td>0</td>\n",
       "      <td>317</td>\n",
       "      <td>0.0</td>\n",
       "      <td>0.0</td>\n",
       "      <td>0.0</td>\n",
       "      <td>0.0</td>\n",
       "      <td>0.0</td>\n",
       "      <td>0.0</td>\n",
       "      <td>3</td>\n",
       "      <td>3</td>\n",
       "      <td>1</td>\n",
       "      <td>2020</td>\n",
       "      <td>5</td>\n",
       "    </tr>\n",
       "  </tbody>\n",
       "</table>\n",
       "</div>"
      ],
      "text/plain": [
       "        Date location  new_cases  new_deaths  total_cases  total_deaths  \\\n",
       "0 2020-02-28  Austria          3           0            5             0   \n",
       "1 2020-02-29  Austria          2           0            7             0   \n",
       "2 2020-03-01  Austria          3           0           10             0   \n",
       "3 2020-03-02  Austria          4           0           14             0   \n",
       "4 2020-03-03  Austria          4           0           18             0   \n",
       "\n",
       "   total_tests  Lockdown  Public_Health  Governance_and_socio-economic  \\\n",
       "0          316       0.0            0.0                            0.0   \n",
       "1          886       0.0            0.0                            0.0   \n",
       "2          104       0.0            0.0                            0.0   \n",
       "3          127       0.0            0.0                            0.0   \n",
       "4          317       0.0            0.0                            0.0   \n",
       "\n",
       "   Humanitarian_exemption  Social_distancing  Movement_restrictions  Day  \\\n",
       "0                     0.0                0.0                    0.0   28   \n",
       "1                     0.0                0.0                    0.0   29   \n",
       "2                     0.0                0.0                    0.0    1   \n",
       "3                     0.0                0.0                    0.0    2   \n",
       "4                     0.0                0.0                    0.0    3   \n",
       "\n",
       "   Month  Weekday  Year  days_completed  \n",
       "0      2        4  2020               1  \n",
       "1      2        5  2020               2  \n",
       "2      3        6  2020               3  \n",
       "3      3        0  2020               4  \n",
       "4      3        1  2020               5  "
      ]
     },
     "execution_count": 18,
     "metadata": {},
     "output_type": "execute_result"
    }
   ],
   "source": [
    "merge_updated.head()"
   ]
  },
  {
   "cell_type": "code",
   "execution_count": 19,
   "metadata": {
    "scrolled": false
   },
   "outputs": [],
   "source": [
    "merge_updated.to_csv('Data/2nd May/Austria_Covid.csv')"
   ]
  },
  {
   "cell_type": "code",
   "execution_count": 20,
   "metadata": {},
   "outputs": [
    {
     "data": {
      "text/plain": [
       "<matplotlib.axes._subplots.AxesSubplot at 0x7f2eb63ee240>"
      ]
     },
     "execution_count": 20,
     "metadata": {},
     "output_type": "execute_result"
    },
    {
     "data": {
      "image/png": "[encoded data removed]",
      "text/plain": [
       "<Figure size 1440x2880 with 2 Axes>"
      ]
     },
     "metadata": {
      "needs_background": "light"
     },
     "output_type": "display_data"
    }
   ],
   "source": [
    "# Compute the correlation matrix\n",
    "corr = merge.corr()\n",
    "\n",
    "# Generate a mask for the upper triangle\n",
    "mask = np.triu(np.ones_like(corr, dtype=np.bool))\n",
    "\n",
    "# Set up the matplotlib figure\n",
    "f, ax = plt.subplots(figsize=(20, 40))\n",
    "\n",
    "# Generate a custom diverging colormap\n",
    "cmap = sn.diverging_palette(22, 10, as_cmap=True)\n",
    "\n",
    "# Draw the heatmap with the mask and correct aspect ratio\n",
    "sn.heatmap(corr, mask=mask, annot = True, cmap=cmap, vmax=1, center=0,\n",
    "            square=True, linewidths=.5, cbar_kws={\"shrink\": .5})"
   ]
  },
  {
   "cell_type": "code",
   "execution_count": null,
   "metadata": {},
   "outputs": [],
   "source": []
  },
  {
   "cell_type": "code",
   "execution_count": null,
   "metadata": {},
   "outputs": [],
   "source": []
  }
 ],
 "metadata": {
  "kernelspec": {
   "display_name": "Python 3",
   "language": "python",
   "name": "python3"
  },
  "language_info": {
   "codemirror_mode": {
    "name": "ipython",
    "version": 3
   },
   "file_extension": ".py",
   "mimetype": "text/x-python",
   "name": "python",
   "nbconvert_exporter": "python",
   "pygments_lexer": "ipython3",
   "version": "3.6.9"
  }
 },
 "nbformat": 4,
 "nbformat_minor": 2
}
