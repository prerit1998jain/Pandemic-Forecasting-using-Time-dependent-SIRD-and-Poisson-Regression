{
 "cells": [
  {
   "cell_type": "code",
   "execution_count": 1,
   "metadata": {},
   "outputs": [],
   "source": [
    "import numpy as np\n",
    "import pandas as pd\n",
    "import matplotlib.pyplot as plt"
   ]
  },
  {
   "cell_type": "code",
   "execution_count": 2,
   "metadata": {},
   "outputs": [],
   "source": [
    "district_cases = pd.read_csv('../Data/New Data Sources/statewise_tested_numbers_data.csv')"
   ]
  },
  {
   "cell_type": "code",
   "execution_count": 3,
   "metadata": {
    "scrolled": true
   },
   "outputs": [
    {
     "name": "stdout",
     "output_type": "stream",
     "text": [
      "Number of missing values: 50869\n"
     ]
    },
    {
     "data": {
      "text/plain": [
       "Updated On                                  0\n",
       "State                                       0\n",
       "Total Tested                               61\n",
       "Tag (Total Tested)                         49\n",
       "Positive                                   73\n",
       "Negative                                 1251\n",
       "Unconfirmed                              2009\n",
       "Cumulative People In Quarantine          3393\n",
       "Total People Currently in Quarantine     2075\n",
       "Tag (People in Quarantine)               2063\n",
       "Total People Released From Quarantine    3240\n",
       "People in ICU                            3480\n",
       "People on Ventilators                    3489\n",
       "Num Isolation Beds                       3065\n",
       "Num ICU Beds                             3106\n",
       "Num Ventilators                          3067\n",
       "Total PPE                                3345\n",
       "Total N95 Masks                          3345\n",
       "Corona Enquiry Calls                     3568\n",
       "Num Calls State Helpline                 2929\n",
       "Source1                                    71\n",
       "Source2                                  2188\n",
       "Source3                                  3410\n",
       "Test positivity rate                      317\n",
       "Tests per thousand                        290\n",
       "Tests per million                         290\n",
       "Tests per positive case                   405\n",
       "Population NCP 2019 Projection            290\n",
       "dtype: int64"
      ]
     },
     "execution_count": 3,
     "metadata": {},
     "output_type": "execute_result"
    }
   ],
   "source": [
    "## Missing values in the Dataset\n",
    "print(\"Number of missing values:\", sum(list(district_cases.isna().sum())))\n",
    "(district_cases.isna().sum())"
   ]
  },
  {
   "cell_type": "code",
   "execution_count": 7,
   "metadata": {
    "scrolled": true
   },
   "outputs": [
    {
     "data": {
      "text/plain": [
       "array(['17/04/2020', '24/04/2020', '27/04/2020', '01/05/2020',\n",
       "       '16/05/2020', '19/05/2020', '20/05/2020', '21/05/2020',\n",
       "       '22/05/2020', '23/05/2020', '24/05/2020', '25/05/2020',\n",
       "       '26/05/2020', '27/05/2020', '28/05/2020', '29/05/2020',\n",
       "       '30/05/2020', '31/05/2020', '01/06/2020', '02/06/2020',\n",
       "       '03/06/2020', '04/06/2020', '05/06/2020', '06/06/2020',\n",
       "       '07/06/2020', '08/06/2020', '09/06/2020', '10/06/2020',\n",
       "       '11/06/2020', '12/06/2020', '13/06/2020', '14/06/2020',\n",
       "       '15/06/2020', '16/06/2020', '17/06/2020', '18/06/2020',\n",
       "       '19/06/2020', '20/06/2020', '21/06/2020', '22/06/2020',\n",
       "       '23/06/2020', '24/06/2020', '25/06/2020', '26/06/2020',\n",
       "       '27/06/2020', '28/06/2020', '29/06/2020', '30/06/2020',\n",
       "       '01/07/2020', '02/07/2020', '03/07/2020', '04/07/2020',\n",
       "       '05/07/2020', '06/07/2020', '07/07/2020', '08/07/2020',\n",
       "       '09/07/2020', '10/07/2020', '11/07/2020', '12/07/2020',\n",
       "       '13/07/2020', '14/07/2020', '15/07/2020', '16/07/2020',\n",
       "       '17/07/2020', '18/07/2020', '19/07/2020', '20/07/2020',\n",
       "       '21/07/2020', '22/07/2020', '23/07/2020', '24/07/2020',\n",
       "       '25/07/2020', '26/07/2020', '27/07/2020', '02/04/2020',\n",
       "       '10/04/2020', '11/04/2020', '12/04/2020', '13/04/2020',\n",
       "       '14/04/2020', '15/04/2020', '16/04/2020', '18/04/2020',\n",
       "       '19/04/2020', '20/04/2020', '21/04/2020', '22/04/2020',\n",
       "       '23/04/2020', '25/04/2020', '26/04/2020', '28/04/2020',\n",
       "       '29/04/2020', '30/04/2020', '02/05/2020', '03/05/2020',\n",
       "       '04/05/2020', '05/05/2020', '06/05/2020', '07/05/2020',\n",
       "       '08/05/2020', '09/05/2020', '10/05/2020', '11/05/2020',\n",
       "       '12/05/2020', '13/05/2020', '14/05/2020', '15/05/2020',\n",
       "       '17/05/2020', '18/05/2020', '28/07/2020', '09/04/2020',\n",
       "       '05/04/2020', '08/04/2020', '01/04/2020', '07/04/2020',\n",
       "       '03/04/2020', '04/04/2020', '06/04/2020'], dtype=object)"
      ]
     },
     "execution_count": 7,
     "metadata": {},
     "output_type": "execute_result"
    }
   ],
   "source": [
    "district_cases['Updated On'].unique()"
   ]
  },
  {
   "cell_type": "markdown",
   "metadata": {},
   "source": [
    "### Columns in Dataset"
   ]
  },
  {
   "cell_type": "code",
   "execution_count": 9,
   "metadata": {},
   "outputs": [],
   "source": [
    "columns = list(district_cases.columns)"
   ]
  },
  {
   "cell_type": "code",
   "execution_count": 10,
   "metadata": {},
   "outputs": [
    {
     "name": "stdout",
     "output_type": "stream",
     "text": [
      "['Updated On', 'State', 'Total Tested', 'Tag (Total Tested)', 'Positive', 'Negative', 'Unconfirmed', 'Cumulative People In Quarantine', 'Total People Currently in Quarantine', 'Tag (People in Quarantine)', 'Total People Released From Quarantine', 'People in ICU', 'People on Ventilators', 'Num Isolation Beds', 'Num ICU Beds', 'Num Ventilators', 'Total PPE', 'Total N95 Masks', 'Corona Enquiry Calls', 'Num Calls State Helpline', 'Source1', 'Source2', 'Source3', 'Test positivity rate', 'Tests per thousand', 'Tests per million', 'Tests per positive case', 'Population NCP 2019 Projection']\n"
     ]
    }
   ],
   "source": [
    "print(columns)"
   ]
  },
  {
   "cell_type": "code",
   "execution_count": 11,
   "metadata": {
    "scrolled": true
   },
   "outputs": [],
   "source": [
    "states = list(district_cases['State'].unique())"
   ]
  },
  {
   "cell_type": "code",
   "execution_count": 15,
   "metadata": {},
   "outputs": [],
   "source": [
    "district_counts = pd.Series(district_cases['State'].value_counts())"
   ]
  },
  {
   "cell_type": "code",
   "execution_count": 16,
   "metadata": {},
   "outputs": [
    {
     "data": {
      "text/plain": [
       "Uttar Pradesh     6888\n",
       "Madhya Pradesh    4510\n",
       "Tamil Nadu        3698\n",
       "Bihar             3481\n",
       "Rajasthan         3388\n",
       "Maharashtra       3349\n",
       "Gujarat           3152\n",
       "Assam             2814\n",
       "Karnataka         2712\n",
       "Odisha            2548\n",
       "Name: State, dtype: int64"
      ]
     },
     "execution_count": 16,
     "metadata": {},
     "output_type": "execute_result"
    }
   ],
   "source": [
    "district_counts.head(10)"
   ]
  },
  {
   "cell_type": "markdown",
   "metadata": {},
   "source": [
    "## Preparing Statewise Data"
   ]
  },
  {
   "cell_type": "code",
   "execution_count": 23,
   "metadata": {},
   "outputs": [],
   "source": [
    "x = district_cases.groupby('State')"
   ]
  },
  {
   "cell_type": "code",
   "execution_count": 25,
   "metadata": {},
   "outputs": [
    {
     "data": {
      "text/html": [
       "<div>\n",
       "<style scoped>\n",
       "    .dataframe tbody tr th:only-of-type {\n",
       "        vertical-align: middle;\n",
       "    }\n",
       "\n",
       "    .dataframe tbody tr th {\n",
       "        vertical-align: top;\n",
       "    }\n",
       "\n",
       "    .dataframe thead th {\n",
       "        text-align: right;\n",
       "    }\n",
       "</style>\n",
       "<table border=\"1\" class=\"dataframe\">\n",
       "  <thead>\n",
       "    <tr style=\"text-align: right;\">\n",
       "      <th></th>\n",
       "      <th>Date</th>\n",
       "      <th>State</th>\n",
       "      <th>District</th>\n",
       "      <th>Confirmed</th>\n",
       "      <th>Recovered</th>\n",
       "      <th>Deceased</th>\n",
       "      <th>Migrated</th>\n",
       "      <th>Tested</th>\n",
       "    </tr>\n",
       "  </thead>\n",
       "  <tbody>\n",
       "    <tr>\n",
       "      <th>1</th>\n",
       "      <td>2020-04-26</td>\n",
       "      <td>Andhra Pradesh</td>\n",
       "      <td>Anantapur</td>\n",
       "      <td>53</td>\n",
       "      <td>14</td>\n",
       "      <td>4</td>\n",
       "      <td>0</td>\n",
       "      <td>NaN</td>\n",
       "    </tr>\n",
       "    <tr>\n",
       "      <th>2</th>\n",
       "      <td>2020-04-26</td>\n",
       "      <td>Andhra Pradesh</td>\n",
       "      <td>Chittoor</td>\n",
       "      <td>73</td>\n",
       "      <td>13</td>\n",
       "      <td>0</td>\n",
       "      <td>0</td>\n",
       "      <td>NaN</td>\n",
       "    </tr>\n",
       "    <tr>\n",
       "      <th>3</th>\n",
       "      <td>2020-04-26</td>\n",
       "      <td>Andhra Pradesh</td>\n",
       "      <td>East Godavari</td>\n",
       "      <td>39</td>\n",
       "      <td>12</td>\n",
       "      <td>0</td>\n",
       "      <td>0</td>\n",
       "      <td>NaN</td>\n",
       "    </tr>\n",
       "    <tr>\n",
       "      <th>4</th>\n",
       "      <td>2020-04-26</td>\n",
       "      <td>Andhra Pradesh</td>\n",
       "      <td>Guntur</td>\n",
       "      <td>214</td>\n",
       "      <td>29</td>\n",
       "      <td>8</td>\n",
       "      <td>0</td>\n",
       "      <td>NaN</td>\n",
       "    </tr>\n",
       "    <tr>\n",
       "      <th>5</th>\n",
       "      <td>2020-04-26</td>\n",
       "      <td>Andhra Pradesh</td>\n",
       "      <td>Krishna</td>\n",
       "      <td>177</td>\n",
       "      <td>29</td>\n",
       "      <td>8</td>\n",
       "      <td>0</td>\n",
       "      <td>NaN</td>\n",
       "    </tr>\n",
       "    <tr>\n",
       "      <th>...</th>\n",
       "      <td>...</td>\n",
       "      <td>...</td>\n",
       "      <td>...</td>\n",
       "      <td>...</td>\n",
       "      <td>...</td>\n",
       "      <td>...</td>\n",
       "      <td>...</td>\n",
       "      <td>...</td>\n",
       "    </tr>\n",
       "    <tr>\n",
       "      <th>59809</th>\n",
       "      <td>2020-07-28</td>\n",
       "      <td>Andhra Pradesh</td>\n",
       "      <td>Srikakulam</td>\n",
       "      <td>4694</td>\n",
       "      <td>2602</td>\n",
       "      <td>62</td>\n",
       "      <td>0</td>\n",
       "      <td>140812.0</td>\n",
       "    </tr>\n",
       "    <tr>\n",
       "      <th>59810</th>\n",
       "      <td>2020-07-28</td>\n",
       "      <td>Andhra Pradesh</td>\n",
       "      <td>Visakhapatnam</td>\n",
       "      <td>7436</td>\n",
       "      <td>1726</td>\n",
       "      <td>81</td>\n",
       "      <td>0</td>\n",
       "      <td>123130.0</td>\n",
       "    </tr>\n",
       "    <tr>\n",
       "      <th>59811</th>\n",
       "      <td>2020-07-28</td>\n",
       "      <td>Andhra Pradesh</td>\n",
       "      <td>Vizianagaram</td>\n",
       "      <td>3329</td>\n",
       "      <td>1249</td>\n",
       "      <td>40</td>\n",
       "      <td>0</td>\n",
       "      <td>61678.0</td>\n",
       "    </tr>\n",
       "    <tr>\n",
       "      <th>59812</th>\n",
       "      <td>2020-07-28</td>\n",
       "      <td>Andhra Pradesh</td>\n",
       "      <td>West Godavari</td>\n",
       "      <td>8820</td>\n",
       "      <td>3491</td>\n",
       "      <td>88</td>\n",
       "      <td>0</td>\n",
       "      <td>111442.0</td>\n",
       "    </tr>\n",
       "    <tr>\n",
       "      <th>59813</th>\n",
       "      <td>2020-07-28</td>\n",
       "      <td>Andhra Pradesh</td>\n",
       "      <td>Y.S.R. Kadapa</td>\n",
       "      <td>5093</td>\n",
       "      <td>3154</td>\n",
       "      <td>32</td>\n",
       "      <td>0</td>\n",
       "      <td>109255.0</td>\n",
       "    </tr>\n",
       "  </tbody>\n",
       "</table>\n",
       "<p>1382 rows × 8 columns</p>\n",
       "</div>"
      ],
      "text/plain": [
       "             Date           State       District  Confirmed  Recovered  \\\n",
       "1      2020-04-26  Andhra Pradesh      Anantapur         53         14   \n",
       "2      2020-04-26  Andhra Pradesh       Chittoor         73         13   \n",
       "3      2020-04-26  Andhra Pradesh  East Godavari         39         12   \n",
       "4      2020-04-26  Andhra Pradesh         Guntur        214         29   \n",
       "5      2020-04-26  Andhra Pradesh        Krishna        177         29   \n",
       "...           ...             ...            ...        ...        ...   \n",
       "59809  2020-07-28  Andhra Pradesh     Srikakulam       4694       2602   \n",
       "59810  2020-07-28  Andhra Pradesh  Visakhapatnam       7436       1726   \n",
       "59811  2020-07-28  Andhra Pradesh   Vizianagaram       3329       1249   \n",
       "59812  2020-07-28  Andhra Pradesh  West Godavari       8820       3491   \n",
       "59813  2020-07-28  Andhra Pradesh  Y.S.R. Kadapa       5093       3154   \n",
       "\n",
       "       Deceased  Migrated    Tested  \n",
       "1             4         0       NaN  \n",
       "2             0         0       NaN  \n",
       "3             0         0       NaN  \n",
       "4             8         0       NaN  \n",
       "5             8         0       NaN  \n",
       "...         ...       ...       ...  \n",
       "59809        62         0  140812.0  \n",
       "59810        81         0  123130.0  \n",
       "59811        40         0   61678.0  \n",
       "59812        88         0  111442.0  \n",
       "59813        32         0  109255.0  \n",
       "\n",
       "[1382 rows x 8 columns]"
      ]
     },
     "execution_count": 25,
     "metadata": {},
     "output_type": "execute_result"
    }
   ],
   "source": [
    "x.get_group('Andhra Pradesh')"
   ]
  },
  {
   "cell_type": "code",
   "execution_count": null,
   "metadata": {},
   "outputs": [],
   "source": []
  }
 ],
 "metadata": {
  "kernelspec": {
   "display_name": "Python 3",
   "language": "python",
   "name": "python3"
  },
  "language_info": {
   "codemirror_mode": {
    "name": "ipython",
    "version": 3
   },
   "file_extension": ".py",
   "mimetype": "text/x-python",
   "name": "python",
   "nbconvert_exporter": "python",
   "pygments_lexer": "ipython3",
   "version": "3.6.9"
  }
 },
 "nbformat": 4,
 "nbformat_minor": 2
}
