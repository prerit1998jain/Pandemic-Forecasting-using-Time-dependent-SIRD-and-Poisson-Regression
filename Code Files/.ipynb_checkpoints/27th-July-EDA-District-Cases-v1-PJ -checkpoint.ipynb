{
 "cells": [
  {
   "cell_type": "code",
   "execution_count": 33,
   "metadata": {},
   "outputs": [],
   "source": [
    "import numpy as np\n",
    "import pandas as pd\n",
    "import matplotlib.pyplot as plt"
   ]
  },
  {
   "cell_type": "code",
   "execution_count": 2,
   "metadata": {},
   "outputs": [],
   "source": [
    "district_census = pd.read_csv('../Data/New Data Sources/India_District_Census.csv')"
   ]
  },
  {
   "cell_type": "code",
   "execution_count": 18,
   "metadata": {},
   "outputs": [
    {
     "name": "stdout",
     "output_type": "stream",
     "text": [
      "Number of missing values: 0\n"
     ]
    }
   ],
   "source": [
    "## Missing values in the Dataset\n",
    "print(\"Number of missing values:\", sum(list(district_census.isna().sum())))"
   ]
  },
  {
   "cell_type": "markdown",
   "metadata": {},
   "source": [
    "### Columns in Dataset"
   ]
  },
  {
   "cell_type": "code",
   "execution_count": 24,
   "metadata": {},
   "outputs": [],
   "source": [
    "columns = list(district_census.columns)"
   ]
  },
  {
   "cell_type": "code",
   "execution_count": 23,
   "metadata": {
    "scrolled": true
   },
   "outputs": [],
   "source": [
    "states = list(district_census['State name'].unique())"
   ]
  },
  {
   "cell_type": "code",
   "execution_count": 28,
   "metadata": {},
   "outputs": [],
   "source": [
    "district_counts = pd.Series(district_census['State name'].value_counts())"
   ]
  },
  {
   "cell_type": "code",
   "execution_count": 42,
   "metadata": {},
   "outputs": [
    {
     "data": {
      "text/plain": [
       "UTTAR PRADESH     71\n",
       "MADHYA PRADESH    50\n",
       "BIHAR             38\n",
       "MAHARASHTRA       35\n",
       "RAJASTHAN         33\n",
       "TAMIL NADU        32\n",
       "KARNATAKA         30\n",
       "ORISSA            30\n",
       "ASSAM             27\n",
       "GUJARAT           26\n",
       "Name: State name, dtype: int64"
      ]
     },
     "execution_count": 42,
     "metadata": {},
     "output_type": "execute_result"
    }
   ],
   "source": [
    "district_counts.head(10)"
   ]
  },
  {
   "cell_type": "markdown",
   "metadata": {},
   "source": [
    "## Preparing Statewise Data"
   ]
  },
  {
   "cell_type": "code",
   "execution_count": 44,
   "metadata": {},
   "outputs": [],
   "source": [
    "x = district_census.groupby('State name').sum()"
   ]
  },
  {
   "cell_type": "code",
   "execution_count": 46,
   "metadata": {},
   "outputs": [
    {
     "data": {
      "text/plain": [
       "pandas.core.frame.DataFrame"
      ]
     },
     "execution_count": 46,
     "metadata": {},
     "output_type": "execute_result"
    }
   ],
   "source": [
    "type(x)"
   ]
  },
  {
   "cell_type": "code",
   "execution_count": 47,
   "metadata": {},
   "outputs": [
    {
     "data": {
      "text/html": [
       "<div>\n",
       "<style scoped>\n",
       "    .dataframe tbody tr th:only-of-type {\n",
       "        vertical-align: middle;\n",
       "    }\n",
       "\n",
       "    .dataframe tbody tr th {\n",
       "        vertical-align: top;\n",
       "    }\n",
       "\n",
       "    .dataframe thead th {\n",
       "        text-align: right;\n",
       "    }\n",
       "</style>\n",
       "<table border=\"1\" class=\"dataframe\">\n",
       "  <thead>\n",
       "    <tr style=\"text-align: right;\">\n",
       "      <th></th>\n",
       "      <th>District code</th>\n",
       "      <th>Population</th>\n",
       "      <th>Male</th>\n",
       "      <th>Female</th>\n",
       "      <th>Literate</th>\n",
       "      <th>Male_Literate</th>\n",
       "      <th>Female_Literate</th>\n",
       "      <th>SC</th>\n",
       "      <th>Male_SC</th>\n",
       "      <th>Female_SC</th>\n",
       "      <th>...</th>\n",
       "      <th>Power_Parity_Rs_90000_150000</th>\n",
       "      <th>Power_Parity_Rs_45000_150000</th>\n",
       "      <th>Power_Parity_Rs_150000_240000</th>\n",
       "      <th>Power_Parity_Rs_240000_330000</th>\n",
       "      <th>Power_Parity_Rs_150000_330000</th>\n",
       "      <th>Power_Parity_Rs_330000_425000</th>\n",
       "      <th>Power_Parity_Rs_425000_545000</th>\n",
       "      <th>Power_Parity_Rs_330000_545000</th>\n",
       "      <th>Power_Parity_Above_Rs_545000</th>\n",
       "      <th>Total_Power_Parity</th>\n",
       "    </tr>\n",
       "    <tr>\n",
       "      <th>State name</th>\n",
       "      <th></th>\n",
       "      <th></th>\n",
       "      <th></th>\n",
       "      <th></th>\n",
       "      <th></th>\n",
       "      <th></th>\n",
       "      <th></th>\n",
       "      <th></th>\n",
       "      <th></th>\n",
       "      <th></th>\n",
       "      <th></th>\n",
       "      <th></th>\n",
       "      <th></th>\n",
       "      <th></th>\n",
       "      <th></th>\n",
       "      <th></th>\n",
       "      <th></th>\n",
       "      <th></th>\n",
       "      <th></th>\n",
       "      <th></th>\n",
       "      <th></th>\n",
       "    </tr>\n",
       "  </thead>\n",
       "  <tbody>\n",
       "    <tr>\n",
       "      <th>ANDAMAN AND NICOBAR ISLANDS</th>\n",
       "      <td>1917</td>\n",
       "      <td>380581</td>\n",
       "      <td>202871</td>\n",
       "      <td>177710</td>\n",
       "      <td>294281</td>\n",
       "      <td>164377</td>\n",
       "      <td>129904</td>\n",
       "      <td>0</td>\n",
       "      <td>0</td>\n",
       "      <td>0</td>\n",
       "      <td>...</td>\n",
       "      <td>2741</td>\n",
       "      <td>6810</td>\n",
       "      <td>1073</td>\n",
       "      <td>636</td>\n",
       "      <td>1709</td>\n",
       "      <td>405</td>\n",
       "      <td>737</td>\n",
       "      <td>1142</td>\n",
       "      <td>544</td>\n",
       "      <td>12084</td>\n",
       "    </tr>\n",
       "    <tr>\n",
       "      <th>ANDHRA PRADESH</th>\n",
       "      <td>12489</td>\n",
       "      <td>84580777</td>\n",
       "      <td>42442146</td>\n",
       "      <td>42138631</td>\n",
       "      <td>50556760</td>\n",
       "      <td>28251243</td>\n",
       "      <td>22305517</td>\n",
       "      <td>13878078</td>\n",
       "      <td>6913047</td>\n",
       "      <td>6965031</td>\n",
       "      <td>...</td>\n",
       "      <td>34248</td>\n",
       "      <td>80360</td>\n",
       "      <td>5183</td>\n",
       "      <td>3090</td>\n",
       "      <td>8273</td>\n",
       "      <td>3771</td>\n",
       "      <td>5385</td>\n",
       "      <td>9156</td>\n",
       "      <td>6449</td>\n",
       "      <td>124166</td>\n",
       "    </tr>\n",
       "    <tr>\n",
       "      <th>ARUNACHAL PRADESH</th>\n",
       "      <td>4040</td>\n",
       "      <td>1383727</td>\n",
       "      <td>713912</td>\n",
       "      <td>669815</td>\n",
       "      <td>766005</td>\n",
       "      <td>439868</td>\n",
       "      <td>326137</td>\n",
       "      <td>0</td>\n",
       "      <td>0</td>\n",
       "      <td>0</td>\n",
       "      <td>...</td>\n",
       "      <td>1486</td>\n",
       "      <td>4158</td>\n",
       "      <td>556</td>\n",
       "      <td>396</td>\n",
       "      <td>952</td>\n",
       "      <td>141</td>\n",
       "      <td>153</td>\n",
       "      <td>294</td>\n",
       "      <td>172</td>\n",
       "      <td>6456</td>\n",
       "    </tr>\n",
       "    <tr>\n",
       "      <th>ASSAM</th>\n",
       "      <td>8451</td>\n",
       "      <td>31205576</td>\n",
       "      <td>15939443</td>\n",
       "      <td>15266133</td>\n",
       "      <td>19177977</td>\n",
       "      <td>10568639</td>\n",
       "      <td>8609338</td>\n",
       "      <td>2231321</td>\n",
       "      <td>1145314</td>\n",
       "      <td>1086007</td>\n",
       "      <td>...</td>\n",
       "      <td>2095</td>\n",
       "      <td>6406</td>\n",
       "      <td>834</td>\n",
       "      <td>590</td>\n",
       "      <td>1424</td>\n",
       "      <td>195</td>\n",
       "      <td>207</td>\n",
       "      <td>402</td>\n",
       "      <td>202</td>\n",
       "      <td>9944</td>\n",
       "    </tr>\n",
       "    <tr>\n",
       "      <th>BIHAR</th>\n",
       "      <td>8417</td>\n",
       "      <td>104099452</td>\n",
       "      <td>54278157</td>\n",
       "      <td>49821295</td>\n",
       "      <td>52504553</td>\n",
       "      <td>31608023</td>\n",
       "      <td>20896530</td>\n",
       "      <td>16567325</td>\n",
       "      <td>8606253</td>\n",
       "      <td>7961072</td>\n",
       "      <td>...</td>\n",
       "      <td>18132</td>\n",
       "      <td>55371</td>\n",
       "      <td>6168</td>\n",
       "      <td>564</td>\n",
       "      <td>6732</td>\n",
       "      <td>788</td>\n",
       "      <td>1273</td>\n",
       "      <td>2061</td>\n",
       "      <td>1576</td>\n",
       "      <td>89490</td>\n",
       "    </tr>\n",
       "  </tbody>\n",
       "</table>\n",
       "<p>5 rows × 116 columns</p>\n",
       "</div>"
      ],
      "text/plain": [
       "                             District code  Population      Male    Female  \\\n",
       "State name                                                                   \n",
       "ANDAMAN AND NICOBAR ISLANDS           1917      380581    202871    177710   \n",
       "ANDHRA PRADESH                       12489    84580777  42442146  42138631   \n",
       "ARUNACHAL PRADESH                     4040     1383727    713912    669815   \n",
       "ASSAM                                 8451    31205576  15939443  15266133   \n",
       "BIHAR                                 8417   104099452  54278157  49821295   \n",
       "\n",
       "                             Literate  Male_Literate  Female_Literate  \\\n",
       "State name                                                              \n",
       "ANDAMAN AND NICOBAR ISLANDS    294281         164377           129904   \n",
       "ANDHRA PRADESH               50556760       28251243         22305517   \n",
       "ARUNACHAL PRADESH              766005         439868           326137   \n",
       "ASSAM                        19177977       10568639          8609338   \n",
       "BIHAR                        52504553       31608023         20896530   \n",
       "\n",
       "                                   SC  Male_SC  Female_SC  ...  \\\n",
       "State name                                                 ...   \n",
       "ANDAMAN AND NICOBAR ISLANDS         0        0          0  ...   \n",
       "ANDHRA PRADESH               13878078  6913047    6965031  ...   \n",
       "ARUNACHAL PRADESH                   0        0          0  ...   \n",
       "ASSAM                         2231321  1145314    1086007  ...   \n",
       "BIHAR                        16567325  8606253    7961072  ...   \n",
       "\n",
       "                             Power_Parity_Rs_90000_150000  \\\n",
       "State name                                                  \n",
       "ANDAMAN AND NICOBAR ISLANDS                          2741   \n",
       "ANDHRA PRADESH                                      34248   \n",
       "ARUNACHAL PRADESH                                    1486   \n",
       "ASSAM                                                2095   \n",
       "BIHAR                                               18132   \n",
       "\n",
       "                             Power_Parity_Rs_45000_150000  \\\n",
       "State name                                                  \n",
       "ANDAMAN AND NICOBAR ISLANDS                          6810   \n",
       "ANDHRA PRADESH                                      80360   \n",
       "ARUNACHAL PRADESH                                    4158   \n",
       "ASSAM                                                6406   \n",
       "BIHAR                                               55371   \n",
       "\n",
       "                             Power_Parity_Rs_150000_240000  \\\n",
       "State name                                                   \n",
       "ANDAMAN AND NICOBAR ISLANDS                           1073   \n",
       "ANDHRA PRADESH                                        5183   \n",
       "ARUNACHAL PRADESH                                      556   \n",
       "ASSAM                                                  834   \n",
       "BIHAR                                                 6168   \n",
       "\n",
       "                             Power_Parity_Rs_240000_330000  \\\n",
       "State name                                                   \n",
       "ANDAMAN AND NICOBAR ISLANDS                            636   \n",
       "ANDHRA PRADESH                                        3090   \n",
       "ARUNACHAL PRADESH                                      396   \n",
       "ASSAM                                                  590   \n",
       "BIHAR                                                  564   \n",
       "\n",
       "                             Power_Parity_Rs_150000_330000  \\\n",
       "State name                                                   \n",
       "ANDAMAN AND NICOBAR ISLANDS                           1709   \n",
       "ANDHRA PRADESH                                        8273   \n",
       "ARUNACHAL PRADESH                                      952   \n",
       "ASSAM                                                 1424   \n",
       "BIHAR                                                 6732   \n",
       "\n",
       "                             Power_Parity_Rs_330000_425000  \\\n",
       "State name                                                   \n",
       "ANDAMAN AND NICOBAR ISLANDS                            405   \n",
       "ANDHRA PRADESH                                        3771   \n",
       "ARUNACHAL PRADESH                                      141   \n",
       "ASSAM                                                  195   \n",
       "BIHAR                                                  788   \n",
       "\n",
       "                             Power_Parity_Rs_425000_545000  \\\n",
       "State name                                                   \n",
       "ANDAMAN AND NICOBAR ISLANDS                            737   \n",
       "ANDHRA PRADESH                                        5385   \n",
       "ARUNACHAL PRADESH                                      153   \n",
       "ASSAM                                                  207   \n",
       "BIHAR                                                 1273   \n",
       "\n",
       "                             Power_Parity_Rs_330000_545000  \\\n",
       "State name                                                   \n",
       "ANDAMAN AND NICOBAR ISLANDS                           1142   \n",
       "ANDHRA PRADESH                                        9156   \n",
       "ARUNACHAL PRADESH                                      294   \n",
       "ASSAM                                                  402   \n",
       "BIHAR                                                 2061   \n",
       "\n",
       "                             Power_Parity_Above_Rs_545000  Total_Power_Parity  \n",
       "State name                                                                     \n",
       "ANDAMAN AND NICOBAR ISLANDS                           544               12084  \n",
       "ANDHRA PRADESH                                       6449              124166  \n",
       "ARUNACHAL PRADESH                                     172                6456  \n",
       "ASSAM                                                 202                9944  \n",
       "BIHAR                                                1576               89490  \n",
       "\n",
       "[5 rows x 116 columns]"
      ]
     },
     "execution_count": 47,
     "metadata": {},
     "output_type": "execute_result"
    }
   ],
   "source": [
    "x.head()"
   ]
  }
 ],
 "metadata": {
  "kernelspec": {
   "display_name": "Python 3",
   "language": "python",
   "name": "python3"
  },
  "language_info": {
   "codemirror_mode": {
    "name": "ipython",
    "version": 3
   },
   "file_extension": ".py",
   "mimetype": "text/x-python",
   "name": "python",
   "nbconvert_exporter": "python",
   "pygments_lexer": "ipython3",
   "version": "3.6.9"
  }
 },
 "nbformat": 4,
 "nbformat_minor": 2
}
