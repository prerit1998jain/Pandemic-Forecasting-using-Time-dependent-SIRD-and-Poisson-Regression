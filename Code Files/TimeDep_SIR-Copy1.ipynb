{
 "cells": [
  {
   "cell_type": "code",
   "execution_count": 3,
   "metadata": {},
   "outputs": [],
   "source": [
    "%matplotlib inline\n",
    "import matplotlib.pyplot as plt\n",
    "import seaborn as sns; sns.set_style('whitegrid'); sns.set_palette('dark')\n",
    "import numpy as np\n",
    "import pandas as pd\n",
    "from pomegranate import *\n",
    "from sklearn import mixture\n",
    "from sklearn.linear_model import Ridge\n",
    "numpy.random.seed(42)\n",
    "numpy.set_printoptions(suppress=True)\n",
    "from scipy.stats import rankdata\n",
    "# from scipy.optimize import curve_fit\n",
    "import math\n",
    "import itertools\n",
    "from datetime import datetime\n",
    "from datetime import timedelta\n",
    "from sklearn.metrics import mean_squared_error\n",
    "# %load_ext watermark\n",
    "# %watermark -m -n -p numpy,scipy,pomegranate\n",
    "\n",
    "#Loading the dataset\n",
    "df =  pd.read_csv('time_series.csv', encoding = 'utf8')\n",
    "\n",
    "def date_conversion(date_string):\n",
    "    datetime_object = datetime.strptime(date_string, '%d-%m-%Y')\n",
    "    return datetime_object.date()\n",
    "\n",
    "df['Date']= df.apply(lambda row: date_conversion(row.Date), axis = 1)\n",
    "\n",
    "def get_first_day(df):\n",
    "    return df.loc[0].Date\n",
    "first_occurence = get_first_day(df)\n",
    "def cumulative_day(Dates,first_occurence):\n",
    "    val = (Dates-first_occurence).days + 1\n",
    "    return val\n",
    "\n",
    "# cum_day('China',first_occurence[0],first_occurence, country_list)\n",
    "df['cum_day'] = df.apply(lambda row: cumulative_day(row.Date,first_occurence), axis = 1)\n",
    "# df_new.insert(3, 'cum_day',cum_day)\n",
    "threshold = 6\n",
    "df['infected_t'] = df['Total Confirmed'] - df['Total Recovered'] - df['Total Deceased']\n",
    "df_beta = df[df['Total Confirmed']<threshold]\n",
    "df = df[df['Total Confirmed']>=threshold]\n",
    "# print(df_beta.tail())\n"
   ]
  },
  {
   "cell_type": "code",
   "execution_count": 4,
   "metadata": {},
   "outputs": [],
   "source": [
    "def cal_parameters(data):\n",
    "    data['beta_t']=(-data['infected_t'].diff(periods=-1)  - data['Total Recovered'].diff(periods=-1)-\n",
    "                    data['Total Deceased'].diff(periods=-1))/((data['infected_t']))\n",
    "    data[data['beta_t']<0]['beta_t']=0\n",
    "    data['gamma_t'] = (- data['Total Recovered'].diff(periods=-1))/((data['infected_t']))\n",
    "    data[data['gamma_t']<0]['gamma_t']=0.0769\n",
    "    data['mu_t'] = (- data['Total Deceased'].diff(periods=-1))/((data['infected_t']))\n",
    "    data[data['mu_t']<0]['mu_t']=0\n",
    "    return data\n"
   ]
  },
  {
   "cell_type": "code",
   "execution_count": 5,
   "metadata": {},
   "outputs": [],
   "source": [
    "df= cal_parameters(df)\n",
    "df_beta = cal_parameters(df_beta)"
   ]
  },
  {
   "cell_type": "code",
   "execution_count": 6,
   "metadata": {
    "scrolled": true
   },
   "outputs": [
    {
     "data": {
      "text/html": [
       "<div>\n",
       "<style scoped>\n",
       "    .dataframe tbody tr th:only-of-type {\n",
       "        vertical-align: middle;\n",
       "    }\n",
       "\n",
       "    .dataframe tbody tr th {\n",
       "        vertical-align: top;\n",
       "    }\n",
       "\n",
       "    .dataframe thead th {\n",
       "        text-align: right;\n",
       "    }\n",
       "</style>\n",
       "<table border=\"1\" class=\"dataframe\">\n",
       "  <thead>\n",
       "    <tr style=\"text-align: right;\">\n",
       "      <th></th>\n",
       "      <th>Date</th>\n",
       "      <th>Daily Confirmed</th>\n",
       "      <th>Total Confirmed</th>\n",
       "      <th>Daily Recovered</th>\n",
       "      <th>Total Recovered</th>\n",
       "      <th>Daily Deceased</th>\n",
       "      <th>Total Deceased</th>\n",
       "      <th>cum_day</th>\n",
       "      <th>infected_t</th>\n",
       "      <th>beta_t</th>\n",
       "      <th>gamma_t</th>\n",
       "      <th>mu_t</th>\n",
       "    </tr>\n",
       "  </thead>\n",
       "  <tbody>\n",
       "    <tr>\n",
       "      <th>33</th>\n",
       "      <td>2020-03-03</td>\n",
       "      <td>1</td>\n",
       "      <td>6</td>\n",
       "      <td>0</td>\n",
       "      <td>3</td>\n",
       "      <td>0</td>\n",
       "      <td>0</td>\n",
       "      <td>34</td>\n",
       "      <td>3</td>\n",
       "      <td>7.333333</td>\n",
       "      <td>-0.0</td>\n",
       "      <td>-0.0</td>\n",
       "    </tr>\n",
       "    <tr>\n",
       "      <th>34</th>\n",
       "      <td>2020-03-04</td>\n",
       "      <td>22</td>\n",
       "      <td>28</td>\n",
       "      <td>0</td>\n",
       "      <td>3</td>\n",
       "      <td>0</td>\n",
       "      <td>0</td>\n",
       "      <td>35</td>\n",
       "      <td>25</td>\n",
       "      <td>0.080000</td>\n",
       "      <td>-0.0</td>\n",
       "      <td>-0.0</td>\n",
       "    </tr>\n",
       "    <tr>\n",
       "      <th>35</th>\n",
       "      <td>2020-03-05</td>\n",
       "      <td>2</td>\n",
       "      <td>30</td>\n",
       "      <td>0</td>\n",
       "      <td>3</td>\n",
       "      <td>0</td>\n",
       "      <td>0</td>\n",
       "      <td>36</td>\n",
       "      <td>27</td>\n",
       "      <td>0.037037</td>\n",
       "      <td>-0.0</td>\n",
       "      <td>-0.0</td>\n",
       "    </tr>\n",
       "    <tr>\n",
       "      <th>36</th>\n",
       "      <td>2020-03-06</td>\n",
       "      <td>1</td>\n",
       "      <td>31</td>\n",
       "      <td>0</td>\n",
       "      <td>3</td>\n",
       "      <td>0</td>\n",
       "      <td>0</td>\n",
       "      <td>37</td>\n",
       "      <td>28</td>\n",
       "      <td>0.107143</td>\n",
       "      <td>-0.0</td>\n",
       "      <td>-0.0</td>\n",
       "    </tr>\n",
       "    <tr>\n",
       "      <th>37</th>\n",
       "      <td>2020-03-07</td>\n",
       "      <td>3</td>\n",
       "      <td>34</td>\n",
       "      <td>0</td>\n",
       "      <td>3</td>\n",
       "      <td>0</td>\n",
       "      <td>0</td>\n",
       "      <td>38</td>\n",
       "      <td>31</td>\n",
       "      <td>0.161290</td>\n",
       "      <td>-0.0</td>\n",
       "      <td>-0.0</td>\n",
       "    </tr>\n",
       "  </tbody>\n",
       "</table>\n",
       "</div>"
      ],
      "text/plain": [
       "          Date  Daily Confirmed  Total Confirmed  Daily Recovered  \\\n",
       "33  2020-03-03                1                6                0   \n",
       "34  2020-03-04               22               28                0   \n",
       "35  2020-03-05                2               30                0   \n",
       "36  2020-03-06                1               31                0   \n",
       "37  2020-03-07                3               34                0   \n",
       "\n",
       "    Total Recovered  Daily Deceased  Total Deceased  cum_day  infected_t  \\\n",
       "33                3               0               0       34           3   \n",
       "34                3               0               0       35          25   \n",
       "35                3               0               0       36          27   \n",
       "36                3               0               0       37          28   \n",
       "37                3               0               0       38          31   \n",
       "\n",
       "      beta_t  gamma_t  mu_t  \n",
       "33  7.333333     -0.0  -0.0  \n",
       "34  0.080000     -0.0  -0.0  \n",
       "35  0.037037     -0.0  -0.0  \n",
       "36  0.107143     -0.0  -0.0  \n",
       "37  0.161290     -0.0  -0.0  "
      ]
     },
     "execution_count": 6,
     "metadata": {},
     "output_type": "execute_result"
    }
   ],
   "source": [
    "df.head()"
   ]
  },
  {
   "cell_type": "code",
   "execution_count": 7,
   "metadata": {},
   "outputs": [],
   "source": [
    "med_gamma= df.gamma_t.median()\n",
    "med_beta = df.beta_t.median()\n",
    "med_mu = df.mu_t.median()"
   ]
  },
  {
   "cell_type": "code",
   "execution_count": 8,
   "metadata": {},
   "outputs": [],
   "source": [
    "df['beta_t'].replace([np.inf,-np.inf,np.nan],med_beta,inplace=True)\n",
    "df['gamma_t'].replace([np.inf,-np.inf,np.nan],med_gamma,inplace=True)\n",
    "df['mu_t'].replace([np.inf,-np.inf,np.nan],med_mu,inplace=True)\n",
    "df_beta['beta_t'].replace([np.inf,-np.inf,np.nan],med_beta,inplace=True)\n",
    "df_beta['gamma_t'].replace([np.inf,-np.inf,np.nan],med_gamma,inplace=True)\n",
    "df_beta['mu_t'].replace([np.inf,-np.inf,np.nan],med_mu,inplace=True)\n",
    "max_val_pred = len(df)"
   ]
  },
  {
   "cell_type": "code",
   "execution_count": 9,
   "metadata": {},
   "outputs": [],
   "source": [
    "def FIR_filter(statistic,order,a):\n",
    "    window = order +1\n",
    "    slide = np.array([statistic[i:i+window] for i in range(len(statistic)-window+1)])\n",
    "    training_x = slide[:,:-1]\n",
    "    training_y = slide[:,-1]\n",
    "    clf = Ridge(alpha = a)\n",
    "    clf.fit(training_x,training_y)\n",
    "    return clf"
   ]
  },
  {
   "cell_type": "code",
   "execution_count": 10,
   "metadata": {},
   "outputs": [],
   "source": [
    "#start date should be greater than the first value in the dataframe. \n",
    "def sir_generator_backward(data,start_date,predict_range,window_size):\n",
    "    start = date_conversion(start_date)\n",
    "    end = start+timedelta(days=predict_range)\n",
    "    last_existing_date = data.iloc[-1].Date\n",
    "    clf_beta = FIR_filter(list(data.beta_t[:-2]),window_size,0.03)\n",
    "    clf_gamma =  FIR_filter(list(data.gamma_t[:-2]),window_size,1e-6)\n",
    "    clf_mu = FIR_filter(list(data.mu_t[:-2]),window_size,0.01)\n",
    "    if (end <= last_existing_date):\n",
    "        #data already exists.. to check accuracy of the model\n",
    "        beta_pred = list(df_beta.beta_t[:-2])[-window_size:]\n",
    "        bg_dates = list(df_beta.Date[:-2])[-window_size:]\n",
    "        gamma_pred = list(df_beta.gamma_t[:-2])[-window_size:]\n",
    "        mu_pred = list(df_beta.mu_t[:-2])[-window_size:]\n",
    "        x_t_hat = []\n",
    "        xr_dates = []\n",
    "        r_t_hat = []\n",
    "        d_t_hat = []\n",
    "        val = []\n",
    "        for i in range(predict_range):\n",
    "            bg_dates.append(start+timedelta(days=i-1))\n",
    "            beta_pred.append(clf_beta.predict(np.array(beta_pred[-window_size:]).reshape(1,-1))[0])\n",
    "            gamma_pred.append(clf_gamma.predict(np.array(gamma_pred[-window_size:]).reshape(1,-1))[0])\n",
    "            mu_pred.append(clf_mu.predict(np.array(mu_pred[-window_size:]).reshape(1,-1))[0])\n",
    "            xr_dates.append(start+timedelta(days=i))\n",
    "#             print((len(data[data['Date']==bg_dates[-1]])))\n",
    "            x_t_hat.append((1+beta_pred[-1]-gamma_pred[-1]-mu_pred[-1])*(data[data['Date']==bg_dates[-1]].infected_t.item()))\n",
    "            r_t_hat.append((data[data['Date']==bg_dates[-1]]['Total Recovered'].item())+\n",
    "                            (gamma_pred[-1])*(data[data['Date']==bg_dates[-1]].infected_t.item()))\n",
    "            d_t_hat.append((data[data['Date']==bg_dates[-1]]['Total Deceased'].item())+\n",
    "                            (mu_pred[-1])*(data[data['Date']==bg_dates[-1]].infected_t.item()))\n",
    "            val.append((1+beta_pred[-1]-gamma_pred[-1]))\n",
    "        return (xr_dates,x_t_hat,r_t_hat,d_t_hat)\n",
    "    else : \n",
    "        print('Out of Range')\n",
    "        "
   ]
  },
  {
   "cell_type": "code",
   "execution_count": 11,
   "metadata": {},
   "outputs": [],
   "source": [
    "#Should be 14 May,2020 or next date to where the data ends.\n",
    "def sir_generator_forward(data,start_date,predict_range,window_size):\n",
    "    start = date_conversion(start_date)\n",
    "    end = start+timedelta(days=predict_range)\n",
    "    last_existing_date = data.iloc[-1].Date\n",
    "    clf_beta = FIR_filter(list(data.beta_t[:-2]),window_size,0.03)\n",
    "    clf_gamma =  FIR_filter(list(data.gamma_t[:-2]),window_size,1e-6)\n",
    "    clf_mu = FIR_filter(list(data.mu_t[:-2]),window_size,0.01)\n",
    "    if (start > last_existing_date):\n",
    "        #data already exists.. to check accuracy of the model\n",
    "        beta_pred = list(data.beta_t[:-2])[-window_size:]\n",
    "        bg_dates = list(data.Date[:-2])[-window_size:]\n",
    "        gamma_pred = list(data.gamma_t[:-2])[-window_size:]\n",
    "        mu_pred = list(data.mu_t[:-2])[-window_size:]\n",
    "        x_t_hat = [list(data.infected_t)[-1]]\n",
    "        xr_dates = [list(data.Date)[-1]]\n",
    "#         print(type(x_t_hat))\n",
    "        r_t_hat = [list(data['Total Recovered'])[-1]]\n",
    "        d_t_hat = [list(data['Total Deceased'])[-1]]\n",
    "        val = []\n",
    "        for i in range(predict_range):\n",
    "            bg_dates.append(start+timedelta(days=i-1))\n",
    "            beta_pred.append(clf_beta.predict(np.array(beta_pred[-window_size:]).reshape(1,-1))[0])\n",
    "            gamma_pred.append(clf_gamma.predict(np.array(gamma_pred[-window_size:]).reshape(1,-1))[0])\n",
    "            mu_pred.append(clf_mu.predict(np.array(mu_pred[-window_size:]).reshape(1,-1))[0])\n",
    "            xr_dates.append(start+timedelta(days=i))\n",
    "#             print((len(data[data['Date']==bg_dates[-1]])))\n",
    "            x_t_hat.append((1+beta_pred[-1]-gamma_pred[-1]-mu_pred[-1])*(x_t_hat[-1]))\n",
    "            r_t_hat.append((r_t_hat[-1])+(gamma_pred[-1])*(x_t_hat[-1]))\n",
    "            d_t_hat.append((d_t_hat[-1])+(mu_pred[-1])*(x_t_hat[-1]))\n",
    "        \n",
    "            val.append((1+beta_pred[-1]-gamma_pred[-1]))\n",
    "        return (xr_dates,x_t_hat,r_t_hat,d_t_hat)\n",
    "    else : \n",
    "        print('Please call SIR_Generator Backward function')\n",
    "        "
   ]
  },
  {
   "cell_type": "code",
   "execution_count": 12,
   "metadata": {},
   "outputs": [],
   "source": [
    "df_b_ldown = df[df['Total Confirmed']<=497].copy()\n",
    "wl_d, wl_x,wl_r,wl_d = sir_generator_forward(df_b_ldown,'24-03-2020',30,14)\n",
    "w_l_pred = pd.DataFrame(list(zip(wl_d,wl_x,wl_r,wl_d)), columns = ['Dates','Xt','Rt','Dt'])\n"
   ]
  },
  {
   "cell_type": "code",
   "execution_count": 13,
   "metadata": {},
   "outputs": [],
   "source": [
    "a,b,c,d = sir_generator_backward(df,'04-03-2020',70,14)"
   ]
  },
  {
   "cell_type": "code",
   "execution_count": 14,
   "metadata": {},
   "outputs": [],
   "source": [
    "e,f,g,h = sir_generator_forward(df,'14-05-2020',200,14)"
   ]
  },
  {
   "cell_type": "code",
   "execution_count": 15,
   "metadata": {},
   "outputs": [],
   "source": [
    "trial =pd.DataFrame(list(zip(a,b,c,d)),columns=['Dates','Xt','Rt','Dt'])\n",
    "trial_1 = pd.DataFrame(list(zip(e,f,g,h)),columns=['Dates','Xt','Rt','Dt'])\n",
    "trial_2 = pd.concat([trial,trial_1],ignore_index=True)"
   ]
  },
  {
   "cell_type": "code",
   "execution_count": 16,
   "metadata": {},
   "outputs": [
    {
     "data": {
      "text/plain": [
       "70"
      ]
     },
     "execution_count": 16,
     "metadata": {},
     "output_type": "execute_result"
    },
    {
     "data": {
      "image/png": "[encoded data removed]",
      "text/plain": [
       "<Figure size 1152x576 with 1 Axes>"
      ]
     },
     "metadata": {},
     "output_type": "display_data"
    }
   ],
   "source": [
    "# trial = pd.DataFrame(a,columns=['Date','Infect'])\n",
    "x_data = range(60)\n",
    "plt.figure(figsize=(16,8))\n",
    "line_1, = plt.plot(trial_2.Xt,marker = '*')\n",
    "line_2, = plt.plot(list(df.iloc[:70].infected_t),'o')\n",
    "line_3, = plt.plot(trial_2.Rt,'--')\n",
    "line_4, = plt.plot(list(df.iloc[:70]['Total Recovered']),'^')\n",
    "line_5, = plt.plot(x_data[30:],w_l_pred.iloc[1:].Xt,'<')\n",
    "line_6, = plt.plot(trial_2.Dt,'x')\n",
    "line_7, = plt.plot(list(df.iloc[:70]['Total Deceased']),'D')\n",
    "plt.legend([line_1,line_2,line_3,line_4,line_5,line_6,line_7],\n",
    "           ['Predicted Infected_t','Actual Infected','Predicted Recovered','Actual Recovered','Infected_w/o Lockdown',\n",
    "           'Predicted Deceased','Actual Deceased'] )\n",
    "plt.axvline(x=30)\n",
    "plt.title(\"India's trends\")\n",
    "plt.savefig('pred_india.png')\n",
    "# trial\n",
    "len(list(df.iloc[2:79].infected_t))"
   ]
  },
  {
   "cell_type": "code",
   "execution_count": 17,
   "metadata": {},
   "outputs": [],
   "source": [
    "trial_2.to_csv('Predicted_SIR.csv')"
   ]
  }
 ],
 "metadata": {
  "kernelspec": {
   "display_name": "Python 3",
   "language": "python",
   "name": "python3"
  },
  "language_info": {
   "codemirror_mode": {
    "name": "ipython",
    "version": 3
   },
   "file_extension": ".py",
   "mimetype": "text/x-python",
   "name": "python",
   "nbconvert_exporter": "python",
   "pygments_lexer": "ipython3",
   "version": "3.8.2"
  }
 },
 "nbformat": 4,
 "nbformat_minor": 4
}
